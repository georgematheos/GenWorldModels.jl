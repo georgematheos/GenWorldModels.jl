{
 "cells": [
  {
   "cell_type": "code",
   "execution_count": null,
   "metadata": {},
   "outputs": [],
   "source": [
    "]activate ../.."
   ]
  },
  {
   "cell_type": "code",
   "execution_count": null,
   "metadata": {},
   "outputs": [],
   "source": [
    "using Dates\n",
    "# using Profile"
   ]
  },
  {
   "cell_type": "code",
   "execution_count": null,
   "metadata": {},
   "outputs": [],
   "source": [
    "include(\"real.jl\")\n",
    "using .RealIE: get_params, get_initial_trace, get_score"
   ]
  },
  {
   "cell_type": "code",
   "execution_count": null,
   "metadata": {},
   "outputs": [],
   "source": [
    "using .RealIE: run_tracked_splitmerge_inference!, write_state!, get_state"
   ]
  },
  {
   "cell_type": "code",
   "execution_count": null,
   "metadata": {},
   "outputs": [],
   "source": [
    "sparsity = 20/1999^2\n",
    "beta_prior=(4, 4*(1-sparsity)/sparsity)\n",
    "dirichlet_prior_val=3e-3\n",
    "(params, sentences) = get_params(filename=\"Umass-sub-corpus/pluieTriples_2013_01_06_5.json\"; beta_prior, dirichlet_prior_val, mean_n_rels=130, num_relations_var=200)"
   ]
  },
  {
   "cell_type": "code",
   "execution_count": null,
   "metadata": {},
   "outputs": [],
   "source": [
    "initial_tr = get_initial_trace(sentences, params)\n",
    "nothing"
   ]
  },
  {
   "cell_type": "code",
   "execution_count": null,
   "metadata": {},
   "outputs": [],
   "source": [
    "function save_state!(tr, i, dirname)\n",
    "    f = open(joinpath(dirname, \"$i\"), \"w\")\n",
    "    write_state!(f, get_state(tr))\n",
    "    close(f)\n",
    "end\n",
    "function run_inference_with_saving!(run_inference!, initial_tr, num_iters, examine!, other_args...; save_freq=1, examine_freq=1, kwargs...)\n",
    "    datetime = Dates.format(now(), \"yyyymmdd-HH_MM_SS\")\n",
    "    dirname = joinpath(realpath(joinpath(@__DIR__, \"../../out/runs\")), datetime)\n",
    "    mkdir(dirname)\n",
    "    println(\"Will save to $dirname\")\n",
    "    println()\n",
    "\n",
    "    function saving_examine!(i, tr)\n",
    "        if i % save_freq === 0\n",
    "            save_state!(tr, i, dirname)\n",
    "        end\n",
    "        examine!(i, tr)\n",
    "    end\n",
    "\n",
    "    run_inference!(initial_tr, num_iters, saving_examine!, other_args...; examine_freq=gcd(save_freq, examine_freq), kwargs...)\n",
    "end"
   ]
  },
  {
   "cell_type": "code",
   "execution_count": null,
   "metadata": {},
   "outputs": [],
   "source": [
    "examine!(i, tr) = println(\"Score at iteration $i : $(get_score(tr)) | num rels = $(tr[:world => :num_relations => ()])\")"
   ]
  },
  {
   "cell_type": "code",
   "execution_count": null,
   "metadata": {},
   "outputs": [],
   "source": [
    "success = false\n",
    "for _=1:10\n",
    "  success && break;\n",
    "  try\n",
    "    run_inference_with_saving!(run_tracked_splitmerge_inference!, initial_tr, 1500000, examine!;\n",
    "        save_freq=120, examine_freq=30, log=true, log_freq=120\n",
    "    )\n",
    "    success = true\n",
    "  catch e\n",
    "#     Profile.print()\n",
    "    println(\"caught an error!:\")\n",
    "    display(e)\n",
    "    e isa InterruptException && break;\n",
    "  end\n",
    "end"
   ]
  },
  {
   "cell_type": "code",
   "execution_count": null,
   "metadata": {},
   "outputs": [],
   "source": []
  }
 ],
 "metadata": {
  "language_info": {
   "name": "python",
   "pygments_lexer": "ipython3"
  }
 },
 "nbformat": 4,
 "nbformat_minor": 4
}
