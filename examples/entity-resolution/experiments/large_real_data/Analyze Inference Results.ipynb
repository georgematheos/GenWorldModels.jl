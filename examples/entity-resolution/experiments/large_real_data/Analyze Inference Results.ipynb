{
 "cells": [
  {
   "cell_type": "code",
   "execution_count": null,
   "metadata": {},
   "outputs": [],
   "source": [
    "]activate ../.."
   ]
  },
  {
   "cell_type": "code",
   "execution_count": null,
   "metadata": {},
   "outputs": [],
   "source": [
    "include(\"../../types.jl\")"
   ]
  },
  {
   "cell_type": "code",
   "execution_count": null,
   "metadata": {},
   "outputs": [],
   "source": [
    "include(\"../../data/import_unlabelled_data.jl\")"
   ]
  },
  {
   "cell_type": "code",
   "execution_count": null,
   "metadata": {},
   "outputs": [],
   "source": [
    "DATA_FILENAME = \"Umass-sub-corpus/pluieTriples_2013_01_06_5.json\""
   ]
  },
  {
   "cell_type": "code",
   "execution_count": null,
   "metadata": {},
   "outputs": [],
   "source": [
    "function get_state(filename)\n",
    "    f = open(filename, \"r\")\n",
    "    st = read_state(f)\n",
    "    close(f)\n",
    "    st\n",
    "end"
   ]
  },
  {
   "cell_type": "code",
   "execution_count": null,
   "metadata": {},
   "outputs": [],
   "source": [
    "readdir(\"/Users/georgematheos/Developer/research/GenWorldModels.jl/examples/entity-resolution/out/runs/20201010-14_13_36\")"
   ]
  },
  {
   "cell_type": "code",
   "execution_count": null,
   "metadata": {},
   "outputs": [],
   "source": [
    "st = get_state(\"/Users/georgematheos/Developer/research/GenWorldModels.jl/examples/entity-resolution/out/runs/20201010-14_13_36/10440\")"
   ]
  },
  {
   "cell_type": "code",
   "execution_count": null,
   "metadata": {},
   "outputs": [],
   "source": [
    "fieldnames(State)"
   ]
  },
  {
   "cell_type": "code",
   "execution_count": null,
   "metadata": {},
   "outputs": [],
   "source": [
    "function get_num_refs_per_rel(st)\n",
    "  nrpr = zeros(Int, st.num_relations)\n",
    "  for rel in st.sentence_rels\n",
    "    nrpr[rel] += 1\n",
    "  end\n",
    "  return nrpr\n",
    "end"
   ]
  },
  {
   "cell_type": "code",
   "execution_count": null,
   "metadata": {},
   "outputs": [],
   "source": [
    "nrpr = get_num_refs_per_rel(st)"
   ]
  },
  {
   "cell_type": "code",
   "execution_count": null,
   "metadata": {},
   "outputs": [],
   "source": [
    "most_common_to_least_common_rels = reverse(sortperm(nrpr))"
   ]
  },
  {
   "cell_type": "code",
   "execution_count": null,
   "metadata": {},
   "outputs": [],
   "source": [
    "data = read_data(DATA_FILENAME)"
   ]
  },
  {
   "cell_type": "code",
   "execution_count": null,
   "metadata": {},
   "outputs": [],
   "source": [
    "fieldnames(typeof(data))"
   ]
  },
  {
   "cell_type": "code",
   "execution_count": null,
   "metadata": {},
   "outputs": [],
   "source": [
    "textsentence(data, s) = data.entity_strings[s.ent1] * \" \" * data.verb_strings[s.verb] * \" \" * data.entity_strings[s.ent2]"
   ]
  },
  {
   "cell_type": "code",
   "execution_count": null,
   "metadata": {},
   "outputs": [],
   "source": [
    "function get_sentences_for_relation(data, st, relidx)\n",
    "  [\n",
    "    textsentence(data, data.sentences_numeric[i])\n",
    "    for (i, rel) in enumerate(st.sentence_rels)\n",
    "    if rel == relidx\n",
    "  ]\n",
    "end"
   ]
  },
  {
   "cell_type": "code",
   "execution_count": null,
   "metadata": {},
   "outputs": [],
   "source": [
    "get_sentences_for_relation(data, st, most_common_to_least_common_rels[1])"
   ]
  },
  {
   "cell_type": "code",
   "execution_count": null,
   "metadata": {},
   "outputs": [],
   "source": []
  }
 ],
 "metadata": {
  "language_info": {
   "name": "python",
   "pygments_lexer": "ipython3"
  }
 },
 "nbformat": 4,
 "nbformat_minor": 4
}
