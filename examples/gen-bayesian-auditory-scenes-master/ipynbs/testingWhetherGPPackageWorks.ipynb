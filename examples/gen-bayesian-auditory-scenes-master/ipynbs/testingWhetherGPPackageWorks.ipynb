{
 "cells": [
  {
   "cell_type": "code",
   "execution_count": null,
   "metadata": {},
   "outputs": [],
   "source": [
    "using GaussianProcesses, Random, Distributions\n",
    "\n",
    "#Simulate the data\n",
    "Random.seed!(203617)\n",
    "n = 20\n",
    "X = collect(range(-3,stop=3,length=n));\n",
    "f = 2*cos.(2*X);\n",
    "Y = [rand(Poisson(exp.(f[i]))) for i in 1:n];\n",
    "\n",
    "#Plot the data using the Plots.jl package with the GR backend\n",
    "using Plots\n",
    "gr()\n",
    "scatter(X,Y,leg=false, fmt=:png)"
   ]
  },
  {
   "cell_type": "code",
   "execution_count": null,
   "metadata": {},
   "outputs": [],
   "source": [
    "#GP set-up\n",
    "k = Matern(3/2,0.0,0.0)   # Matern 3/2 kernel\n",
    "l = PoisLik()             # Poisson likelihood\n",
    "gpmc = GP(X, vec(Y), MeanZero(), k, l)\n",
    "gpvi = GP(X, vec(Y), MeanZero(), k, l)"
   ]
  },
  {
   "cell_type": "code",
   "execution_count": null,
   "metadata": {},
   "outputs": [],
   "source": [
    "set_priors!(gpmc.kernel,[Normal(-2.0,4.0),Normal(-2.0,4.0)])\n",
    "@time samples = mcmc(gpmc; nIter=10000);"
   ]
  },
  {
   "cell_type": "code",
   "execution_count": null,
   "metadata": {},
   "outputs": [],
   "source": [
    "#Sample predicted values\n",
    "xtest = range(minimum(gpmc.x),stop=maximum(gpmc.x),length=50);\n",
    "ymean = [];\n",
    "fsamples = Array{Float64}(undef,size(samples,2), length(xtest));\n",
    "for i in 1:size(samples,2)\n",
    "    set_params!(gpmc,samples[:,i])\n",
    "    update_target!(gpmc)\n",
    "    push!(ymean, predict_y(gpmc,xtest)[1])\n",
    "    fsamples[i,:] = rand(gpmc, xtest)\n",
    "end\n",
    "\n",
    "#Predictive plots\n",
    "\n",
    "q10 = [quantile(fsamples[:,i], 0.1) for i in 1:length(xtest)]\n",
    "q50 = [quantile(fsamples[:,i], 0.5) for i in 1:length(xtest)]\n",
    "q90 = [quantile(fsamples[:,i], 0.9) for i in 1:length(xtest)]\n",
    "plot(xtest,exp.(q50),ribbon=(exp.(q10), exp.(q90)),leg=true, fmt=:png, label=\"quantiles\")\n",
    "plot!(xtest,mean(ymean), label=\"posterior mean\")\n",
    "xx = range(-3,stop=3,length=1000);\n",
    "f_xx = 2*cos.(2*xx);\n",
    "plot!(xx, exp.(f_xx), label=\"truth\")\n",
    "scatter!(X,Y, label=\"data\")"
   ]
  },
  {
   "cell_type": "code",
   "execution_count": null,
   "metadata": {},
   "outputs": [],
   "source": [
    "@time Q = vi(gpvi);\n"
   ]
  },
  {
   "cell_type": "code",
   "execution_count": null,
   "metadata": {},
   "outputs": [],
   "source": [
    "nsamps = 500\n",
    "ymean = [];\n",
    "visamples = Array{Float64}(undef, nsamps, size(xtest, 1))\n",
    "\n",
    "for i in 1:nsamps\n",
    "    visamples[i, :] = rand(gpvi, xtest, Q)\n",
    "    push!(ymean, predict_y(gpvi, xtest)[1])\n",
    "end\n",
    "\n",
    "q10 = [quantile(visamples[:, i], 0.1) for i in 1:length(xtest)]\n",
    "q50 = [quantile(visamples[:, i], 0.5) for i in 1:length(xtest)]\n",
    "q90 = [quantile(visamples[:, i], 0.9) for i in 1:length(xtest)]\n",
    "plot(xtest, exp.(q50), ribbon=(exp.(q10), exp.(q90)), leg=true, fmt=:png, label=\"quantiles\")\n",
    "plot!(xtest, mean(ymean), label=\"posterior mean\", w=2)\n",
    "xx = range(-3,stop=3,length=1000);\n",
    "f_xx = 2*cos.(2*xx);\n",
    "plot!(xx, exp.(f_xx), label=\"truth\")\n",
    "scatter!(X,Y, label=\"data\")"
   ]
  },
  {
   "cell_type": "code",
   "execution_count": null,
   "metadata": {},
   "outputs": [],
   "source": []
  }
 ],
 "metadata": {
  "language_info": {
   "name": "python",
   "pygments_lexer": "ipython3"
  }
 },
 "nbformat": 4,
 "nbformat_minor": 2
}
