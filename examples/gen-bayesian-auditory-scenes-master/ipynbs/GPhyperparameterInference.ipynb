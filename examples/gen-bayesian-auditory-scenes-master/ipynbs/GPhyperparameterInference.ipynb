{
 "cells": [
  {
   "cell_type": "code",
   "execution_count": null,
   "metadata": {},
   "outputs": [],
   "source": [
    "using GaussianProcesses\n",
    "ess"
   ]
  },
  {
   "cell_type": "code",
   "execution_count": null,
   "metadata": {},
   "outputs": [],
   "source": [
    "# Much of this notebook is based on https://github.com/STOR-i/GaussianProcesses.jl/blob/master/notebooks/Regression.ipynb\n",
    "using Gen\n",
    "using Random \n",
    "using Optim\n",
    "using PyPlot\n",
    "import Plots #For GP \"plot\"\n",
    "using Statistics: cor\n",
    "include(\"./extra_distributions.jl\")\n",
    "include(\"./time_helpers.jl\")\n",
    "include(\"./gaussian_helpers.jl\")"
   ]
  },
  {
   "cell_type": "code",
   "execution_count": null,
   "metadata": {},
   "outputs": [],
   "source": [
    "function make_source_latent_model(source_params, audio_sr, steps)\n",
    "    \n",
    "    @gen function source_latent_model(latents, scene_duration)\n",
    "\n",
    "        ##Single function for generating data for amoritized inference to propose source-level latents\n",
    "        # Wait: can generate on its own\n",
    "        # Dur_minus_min: can generate on its own\n",
    "        # GPs:\n",
    "        # Can have a separate amoritized inference move for ERB, Amp-1D, Amp-2D \n",
    "        # Need to sample wait and dur_minus_min to define the time points for the GP \n",
    "        #\n",
    "        # Format of latents: \n",
    "        # latents = Dict(:gp => :amp OR :tp => :wait, :source_type => \"tone\")\n",
    "\n",
    "        ### SOURCE-LEVEL LATENTS \n",
    "        ## Sample GP source-level latents if needed \n",
    "        gp_latents = Dict()\n",
    "        if :gp in keys(latents)\n",
    "\n",
    "            gp_params = source_params[\"gp\"]\n",
    "            gp_type = latents[:gp]; gp_latents[gp_type] = Dict();\n",
    "            source_type = latents[:source_type]\n",
    "            \n",
    "            hyperpriors = gp_type == :erb ? gp_params[\"erb\"] : \n",
    "                ((source_type == \"noise\" || source_type == \"harmonic\") ? gp_params[\"amp\"][\"2D\"] : gp_params[\"amp\"][\"1D\"] )\n",
    "    \n",
    "            for latent in keys(hyperpriors)\n",
    "                hyperprior = hyperpriors[latent]; syml = Symbol(latent)\n",
    "                gp_latents[gp_type][syml] = @trace(hyperprior[\"dist\"](hyperprior[\"args\"]...), gp_type => syml)\n",
    "            end\n",
    "            \n",
    "        end\n",
    "\n",
    "        ## Sample temporal source-level latents \n",
    "        tp_latents = Dict()\n",
    "        if :tp in keys(latents)\n",
    "            tp_latents[latents[:tp]] = Dict()\n",
    "        elseif :gp in keys(latents)\n",
    "            tp_latents[:wait] = Dict()\n",
    "            tp_latents[:dur_minus_min] = Dict()\n",
    "        end            \n",
    "        tp_params = source_params[\"tp\"]\n",
    "        for tp_type in keys(tp_latents)\n",
    "            hyperpriors = tp_params[String(tp_type)]\n",
    "            for latent in keys(hyperpriors)\n",
    "                hyperprior = hyperpriors[latent]; syml = Symbol(latent)\n",
    "                tp_latents[tp_type][syml] = @trace(hyperprior[\"dist\"](hyperprior[\"args\"]...), tp_type => syml)\n",
    "            end\n",
    "            tp_latents[tp_type][:args] = (tp_latents[tp_type][:a], tp_latents[tp_type][:mu]/tp_latents[tp_type][:a]) #a, b for gamma\n",
    "        end\n",
    "\n",
    "        ## Sample a number of elements \n",
    "        ne_params = source_params[\"n_elements\"]\n",
    "        n_elements = ne_params[\"type\"] == \"max\" ? \n",
    "            @trace(uniform_discrete(1, ne_params[\"val\"]),:n_elements) : \n",
    "            @trace(geometric(ne_params[\"val\"]),:n_elements)    \n",
    "\n",
    "        ### ELEMENT-LEVEL LATENTS \n",
    "        #Storage for what inputs are needed\n",
    "        tp_elems = Dict( [ k => [] for k in keys(tp_latents)]... )\n",
    "        gp_elems = Dict(); x_elems = [];\n",
    "        if :gp in keys(latents)       \n",
    "            \n",
    "            gp_type = latents[:gp]; source_type = latents[:source_type]\n",
    "            \n",
    "            gp_elems[gp_type] = []\n",
    "            gp_type = latents[:gp]\n",
    "            gp_elems[:t] = []\n",
    "            if gp_type == :amp && (source_type == \"noise\" || source_type == \"harmonic\")\n",
    "                gp_elems[:reshaped] = []\n",
    "                gp_elems[:f] = []\n",
    "                gp_elems[:tf] = []\n",
    "            end \n",
    "            \n",
    "        end\n",
    "                \n",
    "        time_so_far = 0.0;\n",
    "        for element_idx = 1:n_elements\n",
    "            \n",
    "            if :wait in keys(tp_elems)\n",
    "                wait = element_idx == 1 ? @trace(uniform(0, scene_duration-steps[\"t\"]), (:element,element_idx)=>:wait) : \n",
    "                    @trace(gamma(tp_latents[:wait][:args]...), (:element,element_idx)=>:wait)\n",
    "                push!(tp_elems[:wait], wait)\n",
    "            end\n",
    "            \n",
    "            if :dur_minus_min in keys(tp_elems)\n",
    "                dur_minus_min = @trace(truncated_gamma(tp_latents[:dur_minus_min][:args]..., source_params[\"duration_limit\"]), (:element,element_idx)=>:dur_minus_min); \n",
    "                push!(tp_elems[:dur_minus_min], dur_minus_min)\n",
    "            end\n",
    "            \n",
    "            if :gp in keys(latents)\n",
    "                \n",
    "                gp_type = latents[:gp]; source_type = latents[:source_type]\n",
    "                duration = dur_minus_min + steps[\"min\"]; onset = time_so_far + wait; \n",
    "\n",
    "                if onset > scene_duration\n",
    "                    break\n",
    "                end\n",
    "\n",
    "                time_so_far = onset + duration; element_timing = [onset, time_so_far]\n",
    "\n",
    "                ## Define points at which the GPs should be sampled\n",
    "                x = []; ts = [];\n",
    "                if gp_type === :erb || (source_type == \"tone\" && gp_type === :amp)\n",
    "                    x = get_element_gp_times(element_timing, steps[\"t\"])\n",
    "                elseif gp_type === :amp && (source_type == \"noise\"  || source_type == \"harmonic\")\n",
    "                    x, ts, gp_elems[:f] = get_gp_spectrotemporal(element_timing, steps, audio_sr)\n",
    "                end\n",
    "\n",
    "                mu, cov = element_idx == 1 ? get_mu_cov(x, gp_latents[gp_type]) : \n",
    "                        get_cond_mu_cov(x, x_elems, gp_elems[gp_type], gp_latents[gp_type])\n",
    "                element_gp = @trace(mvnormal(mu, cov), (:element, element_idx) => gp_type)\n",
    "                \n",
    "                ## Save the element data \n",
    "                append!(x_elems, x)\n",
    "                if gp_type === :erb || (source_type == \"tone\" && gp_type === :amp)\n",
    "                    append!(gp_elems[:t], x)\n",
    "                    append!(gp_elems[gp_type], element_gp)\n",
    "                elseif gp_type === :amp && (source_type == \"noise\"  || source_type == \"harmonic\")\n",
    "                    append!(gp_elems[:t],ts)\n",
    "                    append!(gp_elems[:tf],x) \n",
    "                    append!(gp_elems[gp_type], element_gp)\n",
    "                    reshaped_elem = reshape(element_gp, (length(gp_elems[:f]), length(ts))) \n",
    "                    if element_idx == 1\n",
    "                        gp_elems[:reshaped] = reshaped_elem\n",
    "                    else\n",
    "                        gp_elems[:reshaped] = cat(gp_elems[:reshaped], reshaped_elem, dims=2)\n",
    "                    end\n",
    "                end\n",
    "\n",
    "                if time_so_far > scene_duration\n",
    "                    break\n",
    "                end\n",
    "           \n",
    "            end\n",
    "\n",
    "        end\n",
    "\n",
    "        return tp_latents, gp_latents, tp_elems, gp_elems\n",
    "\n",
    "    end\n",
    " \n",
    "    return source_latent_model\n",
    "    \n",
    "end\n",
    "function make_batch_data_generator(source_latent_model, latents, batch_size)\n",
    "    \n",
    "    function batch_data_generator()\n",
    "\n",
    "\n",
    "        max_scene_duration = 2.5; min_scene_duration = 0.5;\n",
    "        scene_duration = round((max_scene_duration-min_scene_duration)*rand() + min_scene_duration,digits=3)\n",
    "        traces = []; tplas = []; gplas = []; tpels = []; gpels = [];\n",
    "        for i = 1:batch_size\n",
    "            trace = simulate(source_latent_model, (latents,scene_duration))\n",
    "            push!(traces, trace)\n",
    "            tp_latents, gp_latents, tp_elems, gp_elems = get_retval(trace)\n",
    "            push!(tplas, tp_latents); push!(gplas, gp_latents)\n",
    "            push!(tpels, tp_elems); push!(gpels, gp_elems)\n",
    "        end\n",
    "\n",
    "        constraints = choicemap()\n",
    "        for i = 1:batch_size\n",
    "\n",
    "            if :tp in keys(latents)\n",
    "                tp_latent = latents[:tp]\n",
    "                constraints[(tp_latent, i) => :mu] = traces[i][tp_latent => :mu]\n",
    "                constraints[(tp_latent, i) => :a] = traces[i][tp_latent => :a]\n",
    "                \n",
    "            elseif :gp in keys(latents)\n",
    "                \n",
    "                gp_type = latents[:gp]\n",
    "                source_type = latents[:source_type]\n",
    "                d = gp_type == :erb ? source_params[\"gp\"][\"erb\"] : (source_type == \"tone\" ? source_params[\"gp\"][\"amp\"][\"1D\"] : source_params[\"gp\"][\"amp\"][\"2D\"]) \n",
    "                for k in keys(d)\n",
    "                    constraints[(gp_type, i) => Symbol(k)] = traces[i][gp_type => Symbol(k)]\n",
    "                end\n",
    "                \n",
    "            end\n",
    "\n",
    "        end\n",
    "        inputs = :tp in keys(latents) ? (tpels,scene_duration,) : (gpels,scene_duration,)\n",
    "\n",
    "        return (inputs, constraints)\n",
    "\n",
    "    end\n",
    "    \n",
    "    return batch_data_generator\n",
    "    \n",
    "end;"
   ]
  },
  {
   "cell_type": "code",
   "execution_count": null,
   "metadata": {},
   "outputs": [],
   "source": [
    "latent = :erb\n",
    "source_params, steps, gtg_params, obs_noise = include(\"./base_params.jl\")\n",
    "audio_sr = 20000;\n",
    "source_latent_model = make_source_latent_model(source_params, audio_sr, steps);\n",
    "batch_size = 256; \n",
    "\n",
    "data_generators=Dict()\n",
    "latents = Dict()\n",
    "latents[:erb] = Dict(:gp => :erb, :source_type => \"tone\")\n",
    "data_generators[latent] = make_batch_data_generator(source_latent_model, latents[latent], batch_size)"
   ]
  },
  {
   "cell_type": "code",
   "execution_count": null,
   "metadata": {},
   "outputs": [],
   "source": [
    "d = data_generators[latent]();\n",
    "single_datapoint = d[1][1][15]\n",
    "#mu_constraint = d[2][(:erb, 1)=>:mu]\n",
    "scatter(single_datapoint[:t],single_datapoint[:erb])"
   ]
  },
  {
   "cell_type": "code",
   "execution_count": null,
   "metadata": {},
   "outputs": [],
   "source": [
    "mConstant = GaussianProcesses.MeanConst(25.0)\n",
    "kern = GaussianProcesses.SE(0.0, 0.0)\n",
    "logObsNoise = -1.0\n",
    "gp = GaussianProcesses.GP(Float64.(single_datapoint[:t]),Float64.(single_datapoint[:erb]),mConstant,kern, logObsNoise)"
   ]
  },
  {
   "cell_type": "code",
   "execution_count": null,
   "metadata": {},
   "outputs": [],
   "source": [
    "Plots.plot(gp)"
   ]
  },
  {
   "cell_type": "markdown",
   "metadata": {},
   "source": [
    "### Maximum Likelihood Estimates"
   ]
  },
  {
   "cell_type": "code",
   "execution_count": null,
   "metadata": {},
   "outputs": [],
   "source": [
    "optimize!(gp; domean=true, kern=true, noise=true, meanbounds=[[0],[50]], kernbounds = [[-15, -15], [5, 5]])"
   ]
  },
  {
   "cell_type": "code",
   "execution_count": null,
   "metadata": {},
   "outputs": [],
   "source": [
    "Plots.plot(gp)"
   ]
  },
  {
   "cell_type": "code",
   "execution_count": null,
   "metadata": {},
   "outputs": [],
   "source": [
    "actual = Dict(:mu=>[],:sigma=>[],:scale=>[],:epsilon=>[])\n",
    "predict = Dict(:mu=>[],:sigma=>[],:scale=>[],:epsilon=>[])\n",
    "n_reps = 3\n",
    "for i = 1:batch_size\n",
    "    \n",
    "    sd = d[1][1][i]\n",
    "    for j = [:mu, :sigma, :scale, :epsilon]\n",
    "        push!(actual[j], d[2][(:erb, i)=>j])\n",
    "    end\n",
    "    \n",
    "    gps = []; scores = [];\n",
    "    for i = 1:n_reps\n",
    "        \n",
    "        mConstant = GaussianProcesses.MeanConst(Random.rand()[1]*50)\n",
    "        kern = GaussianProcesses.SE(Random.randn(1)[1], Random.randn(1)[1])\n",
    "        logObsNoise = Random.randn(1)[1]\n",
    "        gp = GaussianProcesses.GP(Float64.(sd[:t]),Float64.(sd[:erb]),mConstant,kern, logObsNoise)\n",
    "         \n",
    "        optimize!(gp; domean=true, kern=true, noise=true, meanbounds=[[0],[60]], kernbounds = [[-15, -15], [5, 5]])\n",
    "        \n",
    "        push!(scores, gp.mll)\n",
    "        push!(gps, gp) \n",
    "        \n",
    "    end\n",
    "    \n",
    "    gp = gps[argmax(scores)]\n",
    "        \n",
    "    push!(predict[:mu], GaussianProcesses.get_params(gp.mean)[1])\n",
    "    k = GaussianProcesses.get_params(gp.kernel)\n",
    "    push!(predict[:scale], exp(k[1]))\n",
    "    push!(predict[:sigma], exp(k[2]))\n",
    "    push!(predict[:epsilon], exp(GaussianProcesses.get_params(gp.logNoise)[1]))\n",
    "    \n",
    "end"
   ]
  },
  {
   "cell_type": "code",
   "execution_count": null,
   "metadata": {},
   "outputs": [],
   "source": [
    "for z=1:4\n",
    "    subplot(2,2,z)\n",
    "    l = [:mu, :sigma, :scale, :epsilon][z]\n",
    "    scatter(actual[l], predict[l])\n",
    "    if z == 3\n",
    "        xlabel(\"Actual\")\n",
    "        ylabel(\"MLE\")\n",
    "    end\n",
    "    r = round(cor(actual[l],predict[l]),digits = 4)\n",
    "    if z == 1\n",
    "        title(\"MLE($n_reps opts)- $l, r=$r\")\n",
    "    else\n",
    "        title(\"$l, r=$r\")\n",
    "    end\n",
    "    maxy = maximum(predict[l]); miny=minimum(predict[l]);\n",
    "    maxx = maximum(actual[l]); minx =minimum(actual[l]);\n",
    "    xlim([min(miny,minx)-0.5, max(maxy,maxx)+0.5])\n",
    "    ylim([min(miny,minx)-0.5, max(maxy,maxx)+0.5])\n",
    "end\n",
    "tight_layout()"
   ]
  },
  {
   "cell_type": "markdown",
   "metadata": {},
   "source": [
    "### Elliptical Slice Sampling "
   ]
  },
  {
   "cell_type": "code",
   "execution_count": null,
   "metadata": {},
   "outputs": [],
   "source": [
    "single_datapoint[:erb]"
   ]
  },
  {
   "cell_type": "code",
   "execution_count": null,
   "metadata": {},
   "outputs": [],
   "source": [
    "x = [ Gen.uniform(0,40) for g in 1:1000 ]\n",
    "mu_mean = mean(x)\n",
    "mu_std = std(x)\n",
    "println(string(\"Mu -- mean: \", mu_mean, \" std: \", mu_std))\n",
    "\n",
    "x = [ log(Gen.gamma(3,1)) for g in 1:1000 ]\n",
    "log_sigma_mean = mean(x)\n",
    "log_sigma_std = std(x)\n",
    "println(string(\"Sigma -- mean: \", log_sigma_mean, \" std: \", log_sigma_std))\n",
    "\n",
    "x = [ log(Gen.gamma(0.5,1)) for g in 1:1000 ]\n",
    "log_scale_mean = mean(x)\n",
    "log_scale_std = std(x)\n",
    "println(string(\"scale -- mean: \", log_scale_mean, \" std: \", log_scale_std))\n",
    "\n",
    "x = [ log(Gen.gamma(1.0,0.1)) for g in 1:1000 ]\n",
    "log_epsilon_mean = mean(x)\n",
    "log_epsilon_std = std(x)\n",
    "println(string(\"epsilon -- mean: \", log_epsilon_mean, \" std: \", log_epsilon_std))\n",
    "\n",
    "mConstant = GaussianProcesses.MeanConst(25.0)\n",
    "kern = GaussianProcesses.SE(0.0, 0.0)\n",
    "logObsNoise = -1.0\n",
    "gp_ess = GaussianProcesses.GP(Float64.(single_datapoint[:t]),Float64.(single_datapoint[:erb]),mConstant,kern, logObsNoise)"
   ]
  },
  {
   "cell_type": "code",
   "execution_count": null,
   "metadata": {},
   "outputs": [],
   "source": [
    "rng = MersenneTwister(2134)\n",
    "Random.seed!(rng,2134)\n",
    "set_priors!(gp_ess.mean, [Distributions.Normal(mu_mean,mu_std)]) \n",
    "set_priors!(gp_ess.kernel, [Distributions.Normal(log_scale_mean, log_scale_std), Distributions.Normal(log_sigma_mean, log_sigma_std)]) \n",
    "set_priors!(gp_ess.logNoise, [Distributions.Normal(log_epsilon_mean, log_epsilon_std)])\n",
    "@time chain = ess(rng, gp_ess, nIter=5000)"
   ]
  },
  {
   "cell_type": "code",
   "execution_count": null,
   "metadata": {},
   "outputs": [],
   "source": [
    "rng = MersenneTwister(2134)\n",
    "Random.seed!(rng,2134)\n",
    "set_priors!(gp_ess.mean, [Normal(mu_mean,mu_std)]) \n",
    "set_priors!(gp_ess.kernel, [Normal(log_scale_mean, log_scale_std), Normal(log_sigma_mean, log_sigma_std)]) \n",
    "set_priors!(gp_ess.logNoise, [Normal(log_epsilon_mean, log_epsilon_std)])\n",
    "@time chain = ess(rng, gp_ess, nIter=5000, lik=true)"
   ]
  },
  {
   "cell_type": "code",
   "execution_count": null,
   "metadata": {},
   "outputs": [],
   "source": [
    "println(mean(chain,dims=2))\n",
    "m=cov(chain,dims=2)"
   ]
  },
  {
   "cell_type": "code",
   "execution_count": null,
   "metadata": {},
   "outputs": [],
   "source": [
    "GaussianProcesses.make_posdef!(m)[1]"
   ]
  },
  {
   "cell_type": "code",
   "execution_count": null,
   "metadata": {},
   "outputs": [],
   "source": [
    "rng = MersenneTwister(2143)\n",
    "randn(rng)"
   ]
  },
  {
   "cell_type": "code",
   "execution_count": null,
   "metadata": {},
   "outputs": [],
   "source": [
    "## To see order of parameters in \"chains\"\n",
    "# println(\"All params: \", GaussianProcesses.get_params(gp))\n",
    "# println(\"Mean: \", GaussianProcesses.get_params(gp.mean))\n",
    "# println(\"LogScale/LogSigma: \", GaussianProcesses.get_params(gp.kernel))\n",
    "# println(\"LogEpsilon: \", GaussianProcesses.get_params(gp.logNoise))\n",
    "PyPlot.plot(chain')\n",
    "legend([\"Noise\", \"Mean\", \"SE log scale\", \"SE log sigma\"])\n",
    "title(\"Eliptical Slice Sampling Chain\")"
   ]
  },
  {
   "cell_type": "code",
   "execution_count": null,
   "metadata": {},
   "outputs": [],
   "source": [
    "Plots.plot(gp_ess)"
   ]
  },
  {
   "cell_type": "code",
   "execution_count": null,
   "metadata": {},
   "outputs": [],
   "source": [
    "for z = 1:4\n",
    "    subplot(2,2,z)\n",
    "    l = [:epsilon, :mu, :scale, :sigma][z]\n",
    "    if l == :epsilon || l == :scale || l == :sigma\n",
    "        hist(exp.(chain[z,:]))\n",
    "    else\n",
    "        hist(chain[z,:])\n",
    "    end\n",
    "    title(\"Marginal on $l\")\n",
    "end\n",
    "plt.tight_layout()"
   ]
  },
  {
   "cell_type": "markdown",
   "metadata": {},
   "source": [
    "### Variational Inference: doesn't work! It doesn't replicate the ipynb that is on there either."
   ]
  },
  {
   "cell_type": "code",
   "execution_count": null,
   "metadata": {},
   "outputs": [],
   "source": [
    "single_datapoint = d[1][1][203]\n",
    "scatter(single_datapoint[:t],single_datapoint[:erb])\n",
    "ylim([-5,50]);"
   ]
  },
  {
   "cell_type": "code",
   "execution_count": null,
   "metadata": {},
   "outputs": [],
   "source": [
    "mC = GaussianProcesses.MeanConst(Random.rand(1)[1]*50)\n",
    "kern = GaussianProcesses.SE(Random.randn(1)[1], Random.randn(1)[1])\n",
    "l = GaussianProcesses.GaussLik(1.0)\n",
    "gp_vi = GaussianProcesses.GP(\n",
    "            Float64.(vec(single_datapoint[:t])),\n",
    "            Float64.(vec(single_datapoint[:erb])), \n",
    "            mC,kern,l)"
   ]
  },
  {
   "cell_type": "code",
   "execution_count": null,
   "metadata": {},
   "outputs": [],
   "source": [
    "@time Q = vi(gp_vi;nits=10000000);\n",
    "gp_vi"
   ]
  },
  {
   "cell_type": "code",
   "execution_count": null,
   "metadata": {},
   "outputs": [],
   "source": [
    "ymean = [];\n",
    "nsamps = 1000\n",
    "xtest = collect(range(minimum(gp_vi.x),stop=maximum(gp_vi.x),length=50));\n",
    "visamples = Array{Float64}(undef, nsamps, size(xtest, 1))\n",
    "\n",
    "m = zeros(size(xtest))\n",
    "for i in 1:nsamps\n",
    "    visamples[i, :] = rand(gp_vi, xtest, Q)\n",
    "    m += predict_y(gp_vi,xtest)[1]\n",
    "end\n",
    "m ./= nsamps\n",
    "\n",
    "q10 = [quantile(visamples[:, i], 0.1) for i in 1:length(xtest)]\n",
    "q50 = [quantile(visamples[:, i], 0.5) for i in 1:length(xtest)]\n",
    "q90 = [quantile(visamples[:, i], 0.9) for i in 1:length(xtest)];\n"
   ]
  },
  {
   "cell_type": "code",
   "execution_count": null,
   "metadata": {},
   "outputs": [],
   "source": [
    "Plots.plot(xtest, q50, ribbon=(q10, q90), leg=true, fmt=:png, label=\"quantiles\")\n",
    "Plots.scatter!(single_datapoint[:t],single_datapoint[:erb], label=\"data\")\n",
    "Plots.ylims!((-5,100))\n",
    "Plots.plot!(xtest, m, label=\"posterior mean\", w=2)"
   ]
  },
  {
   "cell_type": "code",
   "execution_count": null,
   "metadata": {},
   "outputs": [],
   "source": []
  }
 ],
 "metadata": {
  "language_info": {
   "name": "python",
   "pygments_lexer": "ipython3"
  }
 },
 "nbformat": 4,
 "nbformat_minor": 2
}
