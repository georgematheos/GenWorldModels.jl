{
 "cells": [
  {
   "cell_type": "code",
   "execution_count": null,
   "metadata": {},
   "outputs": [],
   "source": [
    "using Gen;\n",
    "using Random\n",
    "using JSON\n",
    "\n",
    "using Statistics: mean, std, cor;\n",
    "using LinearAlgebra: dot;\n",
    "using StatsFuns: logsumexp, softplus;\n",
    "using PyPlot\n",
    "using SpecialFunctions: digamma,trigamma,loggamma;\n",
    "include(\"../model/time_helpers.jl\")\n",
    "include(\"../model/extra_distributions.jl\")\n",
    "include(\"../model/gaussian_helpers.jl\")\n",
    "include(\"../tools/plotting.jl\")\n",
    "\n",
    "include(\"../model/model.jl\")\n",
    "using PyPlot;"
   ]
  },
  {
   "cell_type": "code",
   "execution_count": null,
   "metadata": {},
   "outputs": [],
   "source": [
    "@gen function generate_tp() \n",
    "    \n",
    "    #a_0=2.64 b_0=0.79 k_0=0.51 m_0=-1.78\n",
    "    alpha_0=2.5 \n",
    "    beta_0=1.0/0.8 \n",
    "    kappa_0=0.5\n",
    "    mu_0=-1.5\n",
    "   \n",
    "    precision = @trace(gamma(alpha_0, beta_0),:precision)\n",
    "    mean = @trace(normal(mu_0, 1.0/sqrt(precision * kappa_0)), :mean)\n",
    "    n_elements = @trace(uniform_discrete(1,10),:n_elements)\n",
    "    ws = []\n",
    "    for i = 1:n_elements\n",
    "        push!(ws,@trace(log_normal(mean, 1.0/sqrt(precision)),(:w, i)))\n",
    "    end\n",
    "    \n",
    "    return ws\n",
    "    \n",
    "end\n",
    "(choices, _, _) = propose(generate_tp, ())\n",
    "println(choices)"
   ]
  },
  {
   "cell_type": "code",
   "execution_count": null,
   "metadata": {},
   "outputs": [],
   "source": [
    "all_waits = []\n",
    "for i = 1:1000\n",
    "    trace, = generate(generate_tp, ())\n",
    "    waits = get_retval(trace)\n",
    "    append!(all_waits, waits)\n",
    "end\n",
    "all_waits = sort(all_waits);"
   ]
  },
  {
   "cell_type": "code",
   "execution_count": null,
   "metadata": {},
   "outputs": [],
   "source": [
    "n = length(all_waits)\n",
    "percentile10_idx = Int(floor(n*0.1))\n",
    "percentile90_idx = Int(floor(n*0.975))\n",
    "percentile99_idx = Int(floor(n*0.99))\n",
    "\n",
    "minw= round(minimum(all_waits),digits=2)\n",
    "modew= round(mode(all_waits),digits=2)\n",
    "maxw= round(maximum(all_waits),digits=2)\n",
    "q1 = round(all_waits[percentile10_idx],digits=2)\n",
    "q2= round(all_waits[percentile90_idx],digits=2)\n",
    "q3= round(all_waits[percentile99_idx],digits=2)\n",
    "\n",
    "hist(all_waits[1:percentile99_idx], bins=100)\n",
    "xlim([0,q3])\n",
    "title(\"Min:$minw, mode:$meanw, max:$maxw, 10%:$q1, 97.5%:$q2, 99%:$q3\")"
   ]
  },
  {
   "cell_type": "code",
   "execution_count": null,
   "metadata": {},
   "outputs": [],
   "source": [
    "source_params, steps, gtg_params, obs_noise = include(\"../params/gnprior.jl\")\n",
    "audio_sr=20000; \n",
    "wts, f = gtg_weights(audio_sr, gtg_params)\n",
    "scene_duration = 2.0\n",
    "args = (source_params, float(scene_duration), wts, steps, Int(audio_sr), obs_noise, gtg_params);"
   ]
  },
  {
   "cell_type": "code",
   "execution_count": null,
   "metadata": {},
   "outputs": [],
   "source": [
    "# include(\"./model/model.jl\")\n",
    "trace, = generate(generate_scene, args);\n",
    "\n",
    "scene_gram, t, scene_wave, source_waves, element_waves = get_retval(trace)\n",
    "# wavwrite(scene_wave/maximum(abs.(scene_wave)), \"scene.wav\", Fs=audio_sr)\n",
    "plot_gtg(scene_gram, scene_duration, audio_sr, 20, 100)\n",
    "title(trace[:source=>1=>:n_elements])"
   ]
  },
  {
   "cell_type": "code",
   "execution_count": null,
   "metadata": {},
   "outputs": [],
   "source": [
    "println(get_choices(trace))"
   ]
  },
  {
   "cell_type": "code",
   "execution_count": null,
   "metadata": {},
   "outputs": [],
   "source": []
  }
 ],
 "metadata": {
  "language_info": {
   "name": "python",
   "pygments_lexer": "ipython3"
  }
 },
 "nbformat": 4,
 "nbformat_minor": 2
}
