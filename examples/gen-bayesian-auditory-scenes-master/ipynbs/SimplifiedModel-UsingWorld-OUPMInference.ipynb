{
 "cells": [
  {
   "cell_type": "markdown",
   "metadata": {},
   "source": [
    "# Setup"
   ]
  },
  {
   "cell_type": "code",
   "execution_count": null,
   "metadata": {},
   "outputs": [],
   "source": [
    "using WAV\n",
    "include(\"../tools/plotting.jl\");\n",
    "include(\"../model/model.jl\");\n",
    "include(\"../model/gammatonegram.jl\");\n",
    "include(\"../model/time_helpers.jl\");"
   ]
  },
  {
   "cell_type": "code",
   "execution_count": null,
   "metadata": {},
   "outputs": [],
   "source": [
    "using GenWorldModels"
   ]
  },
  {
   "cell_type": "code",
   "execution_count": null,
   "metadata": {},
   "outputs": [],
   "source": [
    "source_params, steps, gtg_params, obs_noise = include(\"../params/base.jl\")\n",
    "sr = 2000.0\n",
    "gtg_params[\"dB_threshold\"] = 0.0\n",
    "wts, = gtg_weights(sr, gtg_params);"
   ]
  },
  {
   "cell_type": "markdown",
   "metadata": {},
   "source": [
    "# Model"
   ]
  },
  {
   "cell_type": "code",
   "execution_count": null,
   "metadata": {},
   "outputs": [],
   "source": [
    "@type AudioSource"
   ]
  },
  {
   "cell_type": "markdown",
   "metadata": {},
   "source": [
    "### Embed a sound within a larger scene"
   ]
  },
  {
   "cell_type": "code",
   "execution_count": null,
   "metadata": {},
   "outputs": [],
   "source": [
    "function embed_in_scene(scene_length, sr, wave, onset)\n",
    "  n_samples = Int(floor(sr * scene_length))\n",
    "  scene_wave = zeros(n_samples)\n",
    "  sample_start = max(1, Int(floor(onset * sr)))\n",
    "  sample_finish = min(sample_start + length(wave), length(scene_wave))\n",
    "  scene_wave[sample_start:sample_finish-1] = wave[1:length(sample_start:sample_finish-1)]\n",
    "  return scene_wave\n",
    "end"
   ]
  },
  {
   "cell_type": "markdown",
   "metadata": {},
   "source": [
    "### Generate white noise sound"
   ]
  },
  {
   "cell_type": "code",
   "execution_count": null,
   "metadata": {},
   "outputs": [],
   "source": [
    "@gen function generate_single_noise(scene_length, steps, sr)\n",
    "  onset ~ uniform(0, scene_length)\n",
    "  duration ~ uniform(0.1, 1.0)\n",
    "  amp ~ normal(10.0, 8.0)\n",
    "  times, t, f = get_gp_spectrotemporal([onset, onset+duration], steps, sr)\n",
    "  noise_wave = generate_noise(transpose(reshape(fill(amp, length(times)), (length(f), length(t)))), duration, steps, sr, 1e-6)\n",
    "  return embed_in_scene(scene_length, sr, noise_wave, onset)\n",
    "end;"
   ]
  },
  {
   "cell_type": "markdown",
   "metadata": {},
   "source": [
    "### Generate tone with pitch"
   ]
  },
  {
   "cell_type": "code",
   "execution_count": null,
   "metadata": {},
   "outputs": [],
   "source": [
    "@gen function generate_single_tone(scene_length, step_size, sr)\n",
    "  step_size = step_size[\"t\"]\n",
    "  erb ~ uniform(0.4, 37.0)\n",
    "  onset ~ uniform(0.0, scene_length)\n",
    "  duration ~ uniform(0.1, 1.0)\n",
    "  times = get_element_gp_times([onset, onset + duration], step_size)\n",
    "  wave = generate_tone(fill(erb, length(times)), fill(50.0, length(times)), duration, step_size, sr, 1.0e-6)\n",
    "  return embed_in_scene(scene_length, sr, wave, onset)\n",
    "end;"
   ]
  },
  {
   "cell_type": "markdown",
   "metadata": {},
   "source": [
    "### Generate sound (noise or tone)"
   ]
  },
  {
   "cell_type": "code",
   "execution_count": null,
   "metadata": {},
   "outputs": [],
   "source": [
    "@gen function generate_single_sound(world, source::AudioSource)\n",
    "    scene_length ~ lookup_or_generate(world[:args][:scene_length])\n",
    "    steps ~ lookup_or_generate(world[:args][:steps])\n",
    "    sr ~ lookup_or_generate(world[:args][:sr])\n",
    "\n",
    "    is_noise ~ bernoulli(0.4)\n",
    "    if is_noise\n",
    "        wave = {*} ~ generate_single_noise(scene_length, steps, sr)\n",
    "    else\n",
    "        wave = {*} ~ generate_single_tone(scene_length, steps, sr)\n",
    "    end\n",
    "    return wave\n",
    "end\n",
    "#generate_sounds = Map(generate_single_sound);"
   ]
  },
  {
   "cell_type": "markdown",
   "metadata": {},
   "source": [
    "### Generate scene with many sounds"
   ]
  },
  {
   "cell_type": "code",
   "execution_count": null,
   "metadata": {},
   "outputs": [],
   "source": [
    "@gen (static) function _generate_scene(world, wts, gtg_params)\n",
    "  n_tones ~ uniform_discrete(1, 4)\n",
    "    \n",
    "  scene_duration ~ lookup_or_generate(world[:args][:scene_length])\n",
    "  audio_sr ~ lookup_or_generate(world[:args][:sr])\n",
    "\n",
    "  waves ~ Map(lookup_or_generate)([world[:waves][AudioSource(i)] for i=1:n_tones])\n",
    "  n_samples = Int(floor(scene_duration * audio_sr))\n",
    "  scene_wave = reduce(+, waves; init=zeros(n_samples))\n",
    "  scene_gram, = gammatonegram(scene_wave, wts, audio_sr, gtg_params)\n",
    "  scene ~ noisy_matrix(scene_gram, 1.0)\n",
    "  return scene_gram, scene_wave, waves\n",
    "end;\n",
    "\n",
    "generate_scene = UsingWorld(\n",
    "    _generate_scene,\n",
    "    :waves => generate_single_sound;\n",
    "    world_args=(:scene_length, :steps, :sr),\n",
    "    oupm_types=(AudioSource,)\n",
    ")"
   ]
  },
  {
   "cell_type": "code",
   "execution_count": null,
   "metadata": {},
   "outputs": [],
   "source": [
    "@load_generated_functions"
   ]
  },
  {
   "cell_type": "markdown",
   "metadata": {},
   "source": [
    "# Trace visualization and playback"
   ]
  },
  {
   "cell_type": "code",
   "execution_count": null,
   "metadata": {},
   "outputs": [],
   "source": [
    "function vis_and_write_wave(tr, title)\n",
    "  duration, _, sr, = get_args(tr)\n",
    "  gram, scene_wave, = get_retval(tr)\n",
    "  wavwrite(scene_wave/maximum(abs.(scene_wave)), title, Fs=sr)\n",
    "  plot_gtg(gram, duration, sr, 0, 100)\n",
    "end"
   ]
  },
  {
   "cell_type": "markdown",
   "metadata": {},
   "source": [
    "Some default arguments to `generate_scene`:"
   ]
  },
  {
   "cell_type": "code",
   "execution_count": null,
   "metadata": {},
   "outputs": [],
   "source": [
    "scene_length, steps, sr = (2.0, steps, sr)\n",
    "args = (scene_length, steps, sr, wts, gtg_params)"
   ]
  },
  {
   "cell_type": "markdown",
   "metadata": {},
   "source": [
    "Generate and visualize a trace:"
   ]
  },
  {
   "cell_type": "code",
   "execution_count": null,
   "metadata": {},
   "outputs": [],
   "source": [
    "tr = simulate(generate_scene, args);\n",
    "vis_and_write_wave(tr, \"simulated_scene.wav\")"
   ]
  },
  {
   "cell_type": "markdown",
   "metadata": {},
   "source": [
    "Playback (works on Mac, maybe not other platforms):"
   ]
  },
  {
   "cell_type": "code",
   "execution_count": null,
   "metadata": {},
   "outputs": [],
   "source": [
    "; afplay simulated_scene.wav"
   ]
  },
  {
   "cell_type": "markdown",
   "metadata": {},
   "source": [
    "# Inference"
   ]
  },
  {
   "cell_type": "code",
   "execution_count": null,
   "metadata": {},
   "outputs": [],
   "source": [
    "function generic_no_num_change_inference_iter(tr)\n",
    "  for j=1:tr[:kernel => :n_tones]\n",
    "      tr,_ = mh(tr, select(:world => :waves => AudioSource(j)))\n",
    "      if tr[:world => :waves => AudioSource(j) => :is_noise]\n",
    "        tr,_ = mh(tr, select(:world => :waves => AudioSource(j) => :amp))\n",
    "      else\n",
    "        tr,_ = mh(tr, select(:world => :waves => AudioSource(j) => :erb))\n",
    "      end\n",
    "      tr,_ = mh(tr, select(:world => :waves => AudioSource(j) => :onset))\n",
    "      tr,_ = mh(tr, select(:world => :waves => AudioSource(j) => :duration))\n",
    "  end\n",
    "  return tr\n",
    "end\n",
    "\n",
    "function generic_inference_iter(tr)\n",
    "  tr = generic_no_num_change_inference_iter(tr)\n",
    "  tr,_ = mh(tr, select(:kernel => :n_tones))\n",
    "  return tr\n",
    "end\n",
    "\n",
    "function do_generic_inference(tr, iters)\n",
    "  println(\"Hello\")\n",
    "  for i=1:iters\n",
    "    tr = generic_inference_iter(tr)\n",
    "  end\n",
    "  return tr\n",
    "end"
   ]
  },
  {
   "cell_type": "code",
   "execution_count": null,
   "metadata": {},
   "outputs": [],
   "source": [
    "@gen function birth_death_proposal(tr)\n",
    "  do_birth ~ bernoulli(0.5)\n",
    "  if do_birth\n",
    "    idx ~ uniform_discrete(1, tr[:kernel => :n_tones] + 1)\n",
    "  else\n",
    "    idx ~ uniform_discrete(1, tr[:kernel => :n_tones])\n",
    "  end\n",
    "end\n",
    "\n",
    "\n",
    "@oupm_involution birth_death_inv (old_tr, fwd_prop_tr) to (new_tr, bwd_prop_tr) begin\n",
    "  do_birth = @read(fwd_prop_tr[:do_birth], :disc)\n",
    "  idx = @read(fwd_prop_tr[:idx], :disc)\n",
    "  num = @read(old_tr[:kernel => :n_tones], :disc)\n",
    "  if do_birth\n",
    "    @birth(AudioSource, idx)\n",
    "    @write(new_tr[:kernel => :n_tones], num + 1, :disc)\n",
    "    @regenerate(:world => :waves => AudioSource(idx))\n",
    "  else\n",
    "    @death(AudioSource, idx)\n",
    "    @write(new_tr[:kernel => :n_tones], num - 1, :disc)\n",
    "    @save_for_reverse_regenerate(:world => :waves => AudioSource(idx))\n",
    "  end\n",
    "  @write(bwd_prop_tr[:do_birth], !do_birth, :disc)\n",
    "  @write(bwd_prop_tr[:idx], idx, :disc)\n",
    "end\n",
    "\n",
    "birth_death_mh_kern = OUPMMHKernel(birth_death_proposal, (), birth_death_inv)"
   ]
  },
  {
   "cell_type": "code",
   "execution_count": null,
   "metadata": {},
   "outputs": [],
   "source": [
    "function birth_death_inference_iter(tr)\n",
    "  tr = generic_no_num_change_inference_iter(tr)\n",
    "  tr,_ = mh(tr, birth_death_mh_kern)\n",
    "  return tr\n",
    "end\n",
    "function do_birth_death_inference(tr, iters)\n",
    "  for i=1:iters\n",
    "    tr = birth_death_inference_iter(tr)\n",
    "  end\n",
    "  return tr\n",
    "end"
   ]
  },
  {
   "cell_type": "markdown",
   "metadata": {},
   "source": [
    "# Testing"
   ]
  },
  {
   "cell_type": "markdown",
   "metadata": {},
   "source": [
    "Generate ground truth:"
   ]
  },
  {
   "cell_type": "code",
   "execution_count": null,
   "metadata": {},
   "outputs": [],
   "source": [
    "ground_truth = simulate(generate_scene, args);\n",
    "vis_and_write_wave(ground_truth, \"ground_truth.wav\")"
   ]
  },
  {
   "cell_type": "code",
   "execution_count": null,
   "metadata": {},
   "outputs": [],
   "source": [
    "; afplay ground_truth.wav"
   ]
  },
  {
   "cell_type": "markdown",
   "metadata": {},
   "source": [
    "Generate trace with constraints:"
   ]
  },
  {
   "cell_type": "code",
   "execution_count": null,
   "metadata": {},
   "outputs": [],
   "source": [
    "tr, = generate(generate_scene, args, choicemap((:kernel => :scene, ground_truth[:kernel => :scene])));"
   ]
  },
  {
   "cell_type": "markdown",
   "metadata": {},
   "source": [
    "Run inference:"
   ]
  },
  {
   "cell_type": "code",
   "execution_count": null,
   "metadata": {},
   "outputs": [],
   "source": [
    "inferred_trace1 = do_generic_inference(tr, 100)\n",
    "get_score(inferred_trace1)"
   ]
  },
  {
   "cell_type": "code",
   "execution_count": null,
   "metadata": {},
   "outputs": [],
   "source": [
    "vis_and_write_wave(inferred_trace1, \"inferred1.wav\")"
   ]
  },
  {
   "cell_type": "code",
   "execution_count": null,
   "metadata": {},
   "outputs": [],
   "source": [
    "; afplay ground_truth.wav"
   ]
  },
  {
   "cell_type": "code",
   "execution_count": null,
   "metadata": {},
   "outputs": [],
   "source": [
    "#observations = choicemap((:kernel => :scene, tr[:kernel => :scene]))\n",
    "#inferred_tr2, = generate(generate_scene, (2.0, steps, sr, wts, gtg_params), observations);"
   ]
  },
  {
   "cell_type": "code",
   "execution_count": null,
   "metadata": {},
   "outputs": [],
   "source": [
    "inferred_tr2 = do_birth_death_inference(tr, 100);\n",
    "get_score(inferred_tr2)"
   ]
  },
  {
   "cell_type": "code",
   "execution_count": null,
   "metadata": {},
   "outputs": [],
   "source": [
    "vis_and_write_wave(inferred_tr2, \"inferred2.wav\")"
   ]
  },
  {
   "cell_type": "code",
   "execution_count": null,
   "metadata": {},
   "outputs": [],
   "source": [
    "; afplay inferred.wav"
   ]
  },
  {
   "cell_type": "markdown",
   "metadata": {},
   "source": [
    "# Auditory illusion setup"
   ]
  },
  {
   "cell_type": "code",
   "execution_count": null,
   "metadata": {},
   "outputs": [],
   "source": [
    "function tones_with_noise(amp)\n",
    "    cm = choicemap((:kernel => :n_tones) => 3,\n",
    "              (:world => :waves => AudioSource(1) => :is_noise) => false,\n",
    "              (:world => :waves => AudioSource(1) => :erb) => 10.0,\n",
    "              (:world => :waves => AudioSource(1) => :onset) => 0.5,\n",
    "              (:world => :waves => AudioSource(1) => :duration) => 0.3,\n",
    "              (:world => :waves => AudioSource(2) => :is_noise) => false,\n",
    "              (:world => :waves => AudioSource(2) => :erb) => 10.0,\n",
    "              (:world => :waves => AudioSource(2) => :onset) => 1.1,\n",
    "              (:world => :waves => AudioSource(2) => :duration) => 0.3,\n",
    "              (:world => :waves => AudioSource(3) => :is_noise) => true,\n",
    "              (:world => :waves => AudioSource(3) => :amp) => amp,\n",
    "              (:world => :waves => AudioSource(3) => :onset) => 0.8,\n",
    "              (:world => :waves => AudioSource(3) => :duration) => 0.3)\n",
    "    tr, = generate(generate_scene, args, cm)\n",
    "    return tr\n",
    "end"
   ]
  },
  {
   "cell_type": "code",
   "execution_count": null,
   "metadata": {},
   "outputs": [],
   "source": [
    "trr = tones_with_noise(10.0);"
   ]
  },
  {
   "cell_type": "code",
   "execution_count": null,
   "metadata": {},
   "outputs": [],
   "source": [
    "vis_and_write_wave(trr, \"trr.wav\")"
   ]
  },
  {
   "cell_type": "code",
   "execution_count": null,
   "metadata": {},
   "outputs": [],
   "source": [
    "; afplay trr.wav"
   ]
  },
  {
   "cell_type": "code",
   "execution_count": null,
   "metadata": {},
   "outputs": [],
   "source": [
    "observations = choicemap((:kernel => :scene, trr[:kernel => :scene]))\n",
    "inferred_tr,weight = generate(generate_scene, args, observations);\n",
    "weight"
   ]
  },
  {
   "cell_type": "code",
   "execution_count": null,
   "metadata": {},
   "outputs": [],
   "source": [
    "inferred_tr[:kernel => :scene] == trr[:kernel => :scene]"
   ]
  },
  {
   "cell_type": "code",
   "execution_count": null,
   "metadata": {},
   "outputs": [],
   "source": [
    "inferred_tr = do_birth_death_inference(inferred_tr, 500);\n",
    "get_score(inferred_tr)"
   ]
  },
  {
   "cell_type": "code",
   "execution_count": null,
   "metadata": {},
   "outputs": [],
   "source": [
    "vis_and_write_wave(inferred_tr, \"inferred.wav\")"
   ]
  },
  {
   "cell_type": "code",
   "execution_count": null,
   "metadata": {},
   "outputs": [],
   "source": [
    "get_submap(get_choices(inferred_tr), :world => :waves)"
   ]
  },
  {
   "cell_type": "code",
   "execution_count": null,
   "metadata": {},
   "outputs": [],
   "source": [
    "; afplay inferred.wav"
   ]
  },
  {
   "cell_type": "code",
   "execution_count": null,
   "metadata": {},
   "outputs": [],
   "source": [
    "inferred_tr2 = do_birth_death_inference(inferred_tr, 200);\n",
    "get_score(inferred_tr)"
   ]
  },
  {
   "cell_type": "code",
   "execution_count": null,
   "metadata": {},
   "outputs": [],
   "source": [
    "vis_and_write_wave(inferred_tr2, \"inferred2.wav\")"
   ]
  },
  {
   "cell_type": "code",
   "execution_count": null,
   "metadata": {},
   "outputs": [],
   "source": [
    "@dist function uniform_from_list(list)\n",
    "    idx = uniform_discrete(1, length(list))\n",
    "    list[idx]\n",
    "end"
   ]
  },
  {
   "cell_type": "code",
   "execution_count": null,
   "metadata": {},
   "outputs": [],
   "source": [
    "uniform_from_list([:a, :b, :c])"
   ]
  },
  {
   "cell_type": "code",
   "execution_count": null,
   "metadata": {},
   "outputs": [],
   "source": [
    "@gen function splitmerge_prop(tr)\n",
    "    n_tones = tr[:kernel => :n_tones]\n",
    "    do_split ~ bernoulli(0.5)\n",
    "    if do_split\n",
    "        solo_idx ~ uniform_discrete(1, n_tones)\n",
    "        deuce_idx1 ~ uniform_discrete(1, n_tones + 1)\n",
    "        deuce_idx2 ~ uniform_discrete(1, n_tones + 1)\n",
    "        if deuce_idx1 != deuce_idx2\n",
    "            ch = get_submap(get_choices(tr), :world => :waves => AudioSource(solo_idx))\n",
    "            if !ch[:is_noise]\n",
    "                erb1 ~ normal(ch[:erb], 2.)\n",
    "                erb2 ~ normal(ch[:erb], 2.)\n",
    "            else\n",
    "                amp1 ~ normal(ch[:amp], 2.)\n",
    "                amp2 ~ normal(ch[:amp], 2.)\n",
    "            end\n",
    "            # the split sounds go from ch[:onset] to ch[:onset] + dur1, and\n",
    "            # startpoint to ch[:onset]+ch[:duration]-dur2 to ch[:onset]+ch[:duration]\n",
    "            dur1 ~ uniform(1, ch[:duration])\n",
    "            dur2 ~ uniform(1, ch[:duration])\n",
    "        end\n",
    "    else\n",
    "        solo_idx ~ uniform_discrete(1, max(1, n_tones - 1))\n",
    "        deuce_idx1 ~ uniform_discrete(1, n_tones)\n",
    "        if (deuce_idx1 > n_tones)\n",
    "          # if this happens, this is the backward step for an impossible forward move;\n",
    "          # just escape the function quickly in this case\n",
    "          deuce_idx2 ~ uniform_discrete(1, n_tones)\n",
    "          return nothing\n",
    "        end\n",
    "        ch1 = get_submap(get_choices(tr), :world => :waves => AudioSource(deuce_idx1))\n",
    "        compatible_indices = [\n",
    "            idx for idx=1:n_tones\n",
    "            if (\n",
    "                tr[:world => :waves => AudioSource(idx) => :is_noise] == ch1[:is_noise] && \n",
    "                tr[:world => :waves => AudioSource(idx) => :onset] >= ch1[:onset]\n",
    "            )\n",
    "        ]\n",
    "        deuce_idx2 ~ uniform_from_list(compatible_indices)\n",
    "        ch2 = get_submap(get_choices(tr), :world => :waves => AudioSource(deuce_idx2))\n",
    "        \n",
    "        if deuce_idx1 != deuce_idx2\n",
    "            if ch1[:is_noise]\n",
    "                amp ~ normal((ch1[:amp] + ch2[:amp])/2, 2.)\n",
    "            else\n",
    "                erb ~ normal((ch1[:erb] + ch2[:erb])/2, 2.)\n",
    "            end    \n",
    "        end\n",
    "    end\n",
    "end\n",
    "\n",
    "@oupm_involution splitmerge_inv (old_tr, fwd_prop_tr) to (new_tr, bwd_prop_tr) begin\n",
    "    n_tones = @read(old_tr[:kernel => :n_tones], :disc)\n",
    "    do_split = @read(fwd_prop_tr[:do_split], :disc)\n",
    "    deuce_idx1 = @read(fwd_prop_tr[:deuce_idx1], :disc)\n",
    "    deuce_idx2 = @read(fwd_prop_tr[:deuce_idx2], :disc)\n",
    "    solo_idx = @read(fwd_prop_tr[:solo_idx], :disc)\n",
    "    if deuce_idx1 != deuce_idx2\n",
    "        if do_split\n",
    "            @split(AudioSource, solo_idx, deuce_idx1, deuce_idx2)\n",
    "            @write(new_tr[:kernel => :n_tones], n_tones + 1, :disc)\n",
    "\n",
    "            o(x) = :world => :waves => AudioSource(solo_idx) => x\n",
    "            n1(x) = :world => :waves => AudioSource(deuce_idx1) => x\n",
    "            n2(x) = :world => :waves => AudioSource(deuce_idx2) => x\n",
    "\n",
    "            # copy is noise\n",
    "            @copy(old_tr[o(:is_noise)], new_tr[n1(:is_noise)])\n",
    "            @copy(old_tr[o(:is_noise)], new_tr[n2(:is_noise)])\n",
    "\n",
    "            # start and end times\n",
    "            @copy(old_tr[o(:onset)], new_tr[n1(:onset)])\n",
    "            @copy(fwd_prop_tr[:dur1], new_tr[n1(:duration)])\n",
    "            @copy(fwd_prop_tr[:dur2], new_tr[n2(:duration)])\n",
    "\n",
    "            old_ons = @read(old_tr[o(:onset)], :cont)\n",
    "            old_dur = @read(old_tr[o(:duration)], :cont)\n",
    "            dur2 = @read(fwd_prop_tr[:dur2], :cont)\n",
    "            @write(new_tr[n2(:onset)], old_ons + old_dur - dur2, :cont)\n",
    "\n",
    "            # amp/erb\n",
    "            if @read(old_tr[o(:is_noise)], :disc)\n",
    "                @copy(fwd_prop_tr[:amp1], new_tr[n1(:amp)])\n",
    "                @copy(fwd_prop_tr[:amp2], new_tr[n2(:amp)])\n",
    "                @copy(old_tr[o(:amp)], bwd_prop_tr[:amp])\n",
    "            else\n",
    "                @copy(fwd_prop_tr[:erb1], new_tr[n1(:erb)])\n",
    "                @copy(fwd_prop_tr[:erb2], new_tr[n2(:erb)])\n",
    "                @copy(old_tr[o(:erb)], bwd_prop_tr[:erb])\n",
    "            end\n",
    "        else\n",
    "            @merge(AudioSource, solo_idx, deuce_idx1, deuce_idx2)\n",
    "            @write(new_tr[:kernel => :n_tones], n_tones - 1, :disc)\n",
    "            \n",
    "            n(x) = :world => :waves => AudioSource(solo_idx) => x\n",
    "            o1(x) = :world => :waves => AudioSource(deuce_idx1) => x\n",
    "            o2(x) = :world => :waves => AudioSource(deuce_idx2) => x\n",
    "\n",
    "            # is_noise\n",
    "            @copy(old_tr[o1(:is_noise)], new_tr[n(:is_noise)])\n",
    "\n",
    "            # onset & duration\n",
    "            start1 = @read(old_tr[o1(:onset)], :cont)\n",
    "            dur1 = @read(old_tr[o1(:duration)], :cont)\n",
    "            start2 = @read(old_tr[o2(:onset)], :cont)\n",
    "            dur2 = @read(old_tr[o2(:duration)], :cont)\n",
    "            end2 = start2 + dur2\n",
    "            full_dur = end2 - start1\n",
    "\n",
    "            @copy(old_tr[o1(:onset)], new_tr[n(:onset)])\n",
    "            @write(new_tr[n(:duration)], full_dur, :cont)\n",
    "\n",
    "            @write(bwd_prop_tr[:dur1], dur1, :cont)\n",
    "            @write(bwd_prop_tr[:dur2], dur2, :cont)\n",
    "\n",
    "            if @read(old_tr[o1(:is_noise)], :disc)\n",
    "                @copy(old_tr[o1(:amp)], bwd_prop_tr[:amp1])\n",
    "                @copy(old_tr[o2(:amp)], bwd_prop_tr[:amp2])\n",
    "                @copy(fwd_prop_tr[:amp], new_tr[n(:amp)])\n",
    "            else\n",
    "                @copy(old_tr[o1(:erb)], bwd_prop_tr[:erb])\n",
    "                @copy(old_tr[o2(:erb)], bwd_prop_tr[:erb])\n",
    "                @copy(fwd_prop_tr[:erb], new_tr[n(:erb)])\n",
    "            end\n",
    "        end\n",
    "    end\n",
    "    @write(bwd_prop_tr[:do_split], !do_split, :disc)\n",
    "    @copy(fwd_prop_tr[:solo_idx], bwd_prop_tr[:solo_idx])\n",
    "    @copy(fwd_prop_tr[:deuce_idx1], bwd_prop_tr[:deuce_idx1])\n",
    "    @copy(fwd_prop_tr[:deuce_idx2], bwd_prop_tr[:deuce_idx2])\n",
    "end\n",
    "splitmerge_mh_kern = OUPMMHKernel(splitmerge_prop, (), splitmerge_inv)"
   ]
  },
  {
   "cell_type": "code",
   "execution_count": null,
   "metadata": {},
   "outputs": [],
   "source": [
    "function split_merge_inference_iter(tr)\n",
    "  tr = generic_no_num_change_inference_iter(tr)\n",
    "  tr,_ = mh(tr, birth_death_mh_kern)\n",
    "  tr = generic_no_num_change_inference_iter(tr)\n",
    "  tr,_ = mh(tr, splitmerge_mh_kern)\n",
    "  return tr\n",
    "end\n",
    "function do_split_merge_inference(tr, iters)\n",
    "  for i=1:iters\n",
    "    tr = split_merge_inference_iter(tr)\n",
    "  end\n",
    "  return tr\n",
    "end"
   ]
  },
  {
   "cell_type": "code",
   "execution_count": null,
   "metadata": {},
   "outputs": [],
   "source": [
    "observations = choicemap((:kernel => :scene, trr[:kernel => :scene]))\n",
    "pre_infer_tr,weight = generate(generate_scene, args, observations);\n",
    "weight"
   ]
  },
  {
   "cell_type": "code",
   "execution_count": null,
   "metadata": {},
   "outputs": [],
   "source": [
    "inferred_sm_tr = do_split_merge_inference(pre_infer_tr, 100)\n",
    "get_score(inferred_sm_tr)"
   ]
  },
  {
   "cell_type": "code",
   "execution_count": null,
   "metadata": {},
   "outputs": [],
   "source": [
    "vis_and_write_wave(inferred_sm_tr, \"inferred_sm.wav\")"
   ]
  },
  {
   "cell_type": "code",
   "execution_count": null,
   "metadata": {},
   "outputs": [],
   "source": []
  }
 ],
 "metadata": {
  "language_info": {
   "name": "python",
   "pygments_lexer": "ipython3"
  }
 },
 "nbformat": 4,
 "nbformat_minor": 2
}
