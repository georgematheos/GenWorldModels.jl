{
 "cells": [
  {
   "cell_type": "code",
   "execution_count": null,
   "metadata": {},
   "outputs": [],
   "source": [
    "include(\"./gammatonegram.jl\")\n",
    "include(\"./initialization.jl\")\n",
    "include(\"./plotting.jl\")"
   ]
  },
  {
   "cell_type": "code",
   "execution_count": null,
   "metadata": {},
   "outputs": [],
   "source": [
    "source_params=Dict(\"types\"=>[\"noise\",\"tone\"], \"n_harmonics\"=>30,\"sources\"=>Dict(\"type\"=>\"max\",\"val\"=>5),\n",
    "    \"elements\"=>Dict(\"type\"=>\"max\",\"val\"=>10,\n",
    "        \"wait\"=>Dict(\"a\"=>Dict(\"a\"=>20,\"b\"=>1),\"mu\"=>Dict(\"mu\"=>-2.0,\"sig\"=>1.5)),\n",
    "        \"dur\"=>Dict(\"a\"=>Dict(\"a\"=>20,\"b\"=>1),\"mu\"=>Dict(\"mu\"=>-2.0,\"sig\"=>1.5))),\n",
    "    \"dream\"=>true)   \n",
    "audio_sr=20000; steps = Dict(\"t\"=>0.020, \"min\"=> 0.020, \"f\"=>4); \n",
    "gtg_params=Dict(\"twin\"=>0.025, \"thop\"=>0.010, \"nfilts\"=>64, \"fmin\"=>50, \"width\"=>0.50, \n",
    "    \"log_constant\"=>1e-80, \"dB_threshold\"=>20, \"ref\"=>0.00005, \"plot_max\"=>90)\n",
    "obs_noise = Dict(\"type\"=>\"fixed\",\"val\"=>1.0)\n",
    "demo_gram, wts, scene_duration, audio_sr = load_sound(\"sounds-true-presents_rs\",gtg_params)\n",
    "args = (source_params, float(scene_duration), wts, steps, Int(audio_sr), obs_noise, gtg_params);"
   ]
  },
  {
   "cell_type": "code",
   "execution_count": null,
   "metadata": {},
   "outputs": [],
   "source": [
    "plot_gtg(demo_gram,scene_duration,audio_sr/2,20,100)"
   ]
  },
  {
   "cell_type": "code",
   "execution_count": null,
   "metadata": {},
   "outputs": [],
   "source": []
  }
 ],
 "metadata": {
  "language_info": {
   "name": "python",
   "pygments_lexer": "ipython3"
  }
 },
 "nbformat": 4,
 "nbformat_minor": 2
}
