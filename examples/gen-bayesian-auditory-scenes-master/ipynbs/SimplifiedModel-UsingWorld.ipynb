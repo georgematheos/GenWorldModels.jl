{
 "cells": [
  {
   "cell_type": "markdown",
   "metadata": {},
   "source": [
    "# Setup"
   ]
  },
  {
   "cell_type": "code",
   "execution_count": null,
   "metadata": {},
   "outputs": [],
   "source": [
    "using WAV\n",
    "include(\"../tools/plotting.jl\");\n",
    "include(\"../model/model.jl\");\n",
    "include(\"../model/gammatonegram.jl\");\n",
    "include(\"../model/time_helpers.jl\");"
   ]
  },
  {
   "cell_type": "code",
   "execution_count": null,
   "metadata": {},
   "outputs": [],
   "source": [
    "using GenWorldModels"
   ]
  },
  {
   "cell_type": "code",
   "execution_count": null,
   "metadata": {},
   "outputs": [],
   "source": [
    "source_params, steps, gtg_params, obs_noise = include(\"../params/base.jl\")\n",
    "sr = 2000.0\n",
    "gtg_params[\"dB_threshold\"] = 0.0\n",
    "wts, = gtg_weights(sr, gtg_params);"
   ]
  },
  {
   "cell_type": "markdown",
   "metadata": {},
   "source": [
    "# Model"
   ]
  },
  {
   "cell_type": "markdown",
   "metadata": {},
   "source": [
    "### Embed a sound within a larger scene"
   ]
  },
  {
   "cell_type": "code",
   "execution_count": null,
   "metadata": {},
   "outputs": [],
   "source": [
    "function embed_in_scene(scene_length, sr, wave, onset)\n",
    "  n_samples = Int(floor(sr * scene_length))\n",
    "  scene_wave = zeros(n_samples)\n",
    "  sample_start = max(1, Int(floor(onset * sr)))\n",
    "  sample_finish = min(sample_start + length(wave), length(scene_wave))\n",
    "  scene_wave[sample_start:sample_finish-1] = wave[1:length(sample_start:sample_finish-1)]\n",
    "  return scene_wave\n",
    "end"
   ]
  },
  {
   "cell_type": "markdown",
   "metadata": {},
   "source": [
    "### Generate white noise sound"
   ]
  },
  {
   "cell_type": "code",
   "execution_count": null,
   "metadata": {},
   "outputs": [],
   "source": [
    "@gen function generate_single_noise(scene_length, steps, sr)\n",
    "  onset ~ uniform(0, scene_length)\n",
    "  duration ~ uniform(0.1, 1.0)\n",
    "  amp ~ normal(10.0, 8.0)\n",
    "  times, t, f = get_gp_spectrotemporal([onset, onset+duration], steps, sr)\n",
    "  noise_wave = generate_noise(transpose(reshape(fill(amp, length(times)), (length(f), length(t)))), duration, steps, sr, 1e-6)\n",
    "  return embed_in_scene(scene_length, sr, noise_wave, onset)\n",
    "end;"
   ]
  },
  {
   "cell_type": "markdown",
   "metadata": {},
   "source": [
    "### Generate tone with pitch"
   ]
  },
  {
   "cell_type": "code",
   "execution_count": null,
   "metadata": {},
   "outputs": [],
   "source": [
    "@gen function generate_single_tone(scene_length, step_size, sr)\n",
    "  step_size = step_size[\"t\"]\n",
    "  erb ~ uniform(0.4, 37.0)\n",
    "  onset ~ uniform(0.0, scene_length)\n",
    "  duration ~ uniform(0.1, 1.0)\n",
    "  times = get_element_gp_times([onset, onset + duration], step_size)\n",
    "  wave = generate_tone(fill(erb, length(times)), fill(50.0, length(times)), duration, step_size, sr, 1.0e-6)\n",
    "  return embed_in_scene(scene_length, sr, wave, onset)\n",
    "end;"
   ]
  },
  {
   "cell_type": "markdown",
   "metadata": {},
   "source": [
    "### Generate sound (noise or tone)"
   ]
  },
  {
   "cell_type": "code",
   "execution_count": null,
   "metadata": {},
   "outputs": [],
   "source": [
    "@gen function generate_single_sound(world, source_idx)\n",
    "    scene_length ~ lookup_or_generate(world[:args][:scene_length])\n",
    "    steps ~ lookup_or_generate(world[:args][:steps])\n",
    "    sr ~ lookup_or_generate(world[:args][:sr])\n",
    "\n",
    "    is_noise ~ bernoulli(0.4)\n",
    "    if is_noise\n",
    "        wave = {*} ~ generate_single_noise(scene_length, steps, sr)\n",
    "    else\n",
    "        wave = {*} ~ generate_single_tone(scene_length, steps, sr)\n",
    "    end\n",
    "    return wave\n",
    "end\n",
    "#generate_sounds = Map(generate_single_sound);"
   ]
  },
  {
   "cell_type": "markdown",
   "metadata": {},
   "source": [
    "### Generate scene with many sounds"
   ]
  },
  {
   "cell_type": "code",
   "execution_count": null,
   "metadata": {},
   "outputs": [],
   "source": [
    "@gen (static) function _generate_scene(world, wts, gtg_params)\n",
    "  n_tones ~ uniform_discrete(1, 4)\n",
    "    \n",
    "  scene_duration ~ lookup_or_generate(world[:args][:scene_length])\n",
    "  audio_sr ~ lookup_or_generate(world[:args][:sr])\n",
    "\n",
    "  waves ~ Map(lookup_or_generate)([world[:waves][i] for i=1:n_tones])\n",
    "  n_samples = Int(floor(scene_duration * audio_sr))\n",
    "  scene_wave = reduce(+, waves; init=zeros(n_samples))\n",
    "  scene_gram, = gammatonegram(scene_wave, wts, audio_sr, gtg_params)\n",
    "  scene ~ noisy_matrix(scene_gram, 1.0)\n",
    "  return scene_gram, scene_wave, waves\n",
    "end;\n",
    "\n",
    "generate_scene = UsingWorld(\n",
    "    _generate_scene,\n",
    "    :waves => generate_single_sound;\n",
    "    world_args=(:scene_length, :steps, :sr)\n",
    ")"
   ]
  },
  {
   "cell_type": "code",
   "execution_count": null,
   "metadata": {},
   "outputs": [],
   "source": [
    "@load_generated_functions"
   ]
  },
  {
   "cell_type": "markdown",
   "metadata": {},
   "source": [
    "# Trace visualization and playback"
   ]
  },
  {
   "cell_type": "code",
   "execution_count": null,
   "metadata": {},
   "outputs": [],
   "source": [
    "function vis_and_write_wave(tr, title)\n",
    "  duration, _, sr, = get_args(tr)\n",
    "  gram, scene_wave, = get_retval(tr)\n",
    "  wavwrite(scene_wave/maximum(abs.(scene_wave)), title, Fs=sr)\n",
    "  plot_gtg(gram, duration, sr, 0, 100)\n",
    "end"
   ]
  },
  {
   "cell_type": "markdown",
   "metadata": {},
   "source": [
    "Some default arguments to `generate_scene`:"
   ]
  },
  {
   "cell_type": "code",
   "execution_count": null,
   "metadata": {},
   "outputs": [],
   "source": [
    "scene_length, steps, sr = (2.0, steps, sr)\n",
    "args = (scene_length, steps, sr, wts, gtg_params)"
   ]
  },
  {
   "cell_type": "markdown",
   "metadata": {},
   "source": [
    "Generate and visualize a trace:"
   ]
  },
  {
   "cell_type": "code",
   "execution_count": null,
   "metadata": {},
   "outputs": [],
   "source": [
    "tr = simulate(generate_scene, args);\n",
    "vis_and_write_wave(tr, \"simulated_scene.wav\")"
   ]
  },
  {
   "cell_type": "markdown",
   "metadata": {},
   "source": [
    "Playback (works on Mac, maybe not other platforms):"
   ]
  },
  {
   "cell_type": "code",
   "execution_count": null,
   "metadata": {},
   "outputs": [],
   "source": [
    "; afplay simulated_scene.wav"
   ]
  },
  {
   "cell_type": "markdown",
   "metadata": {},
   "source": [
    "# Inference"
   ]
  },
  {
   "cell_type": "code",
   "execution_count": null,
   "metadata": {},
   "outputs": [],
   "source": [
    "function do_inference(tr, iters)\n",
    "  for i=1:iters\n",
    "    for j=1:tr[:kernel => :n_tones]\n",
    "        tr, = mh(tr, select(:world => :waves => j))\n",
    "        if tr[:world => :waves => j => :is_noise]\n",
    "          tr, = mh(tr, select(:world => :waves => j => :amp))\n",
    "        else\n",
    "          tr, = mh(tr, select(:world => :waves => j => :erb))\n",
    "        end\n",
    "        tr, = mh(tr, select(:world => :waves => j => :onset))\n",
    "        tr, = mh(tr, select(:world => :waves => j => :duration))\n",
    "    end\n",
    "    tr, = mh(tr, select(:kernel => :n_tones))\n",
    "  end\n",
    "  tr\n",
    "end"
   ]
  },
  {
   "cell_type": "markdown",
   "metadata": {},
   "source": [
    "# Testing"
   ]
  },
  {
   "cell_type": "markdown",
   "metadata": {},
   "source": [
    "Generate ground truth:"
   ]
  },
  {
   "cell_type": "code",
   "execution_count": null,
   "metadata": {},
   "outputs": [],
   "source": [
    "ground_truth = simulate(generate_scene, args);\n",
    "vis_and_write_wave(ground_truth, \"ground_truth.wav\")"
   ]
  },
  {
   "cell_type": "code",
   "execution_count": null,
   "metadata": {},
   "outputs": [],
   "source": [
    "; afplay ground_truth.wav"
   ]
  },
  {
   "cell_type": "markdown",
   "metadata": {},
   "source": [
    "Generate trace with constraints:"
   ]
  },
  {
   "cell_type": "code",
   "execution_count": null,
   "metadata": {},
   "outputs": [],
   "source": [
    "inferred_trace, = generate(generate_scene, args, choicemap((:kernel => :scene, ground_truth[:kernel => :scene])));"
   ]
  },
  {
   "cell_type": "markdown",
   "metadata": {},
   "source": [
    "Run inference:"
   ]
  },
  {
   "cell_type": "code",
   "execution_count": null,
   "metadata": {},
   "outputs": [],
   "source": [
    "inferred_trace = do_inference(inferred_trace, 100);\n",
    "get_score(inferred_trace)"
   ]
  },
  {
   "cell_type": "code",
   "execution_count": null,
   "metadata": {},
   "outputs": [],
   "source": [
    "vis_and_write_wave(inferred_trace, \"inferred.wav\")"
   ]
  },
  {
   "cell_type": "code",
   "execution_count": null,
   "metadata": {},
   "outputs": [],
   "source": [
    "; afplay ground_truth.wav"
   ]
  },
  {
   "cell_type": "code",
   "execution_count": null,
   "metadata": {},
   "outputs": [],
   "source": [
    "observations = choicemap((:kernel => :scene, tr[:kernel => :scene]))\n",
    "inferred_tr, = generate(generate_scene, (2.0, steps, sr, wts, gtg_params), observations);"
   ]
  },
  {
   "cell_type": "code",
   "execution_count": null,
   "metadata": {},
   "outputs": [],
   "source": [
    "inferred_tr = do_inference(inferred_tr, 100);\n",
    "get_score(inferred_tr)"
   ]
  },
  {
   "cell_type": "code",
   "execution_count": null,
   "metadata": {},
   "outputs": [],
   "source": [
    "vis_and_write_wave(inferred_tr, \"inferred.wav\")"
   ]
  },
  {
   "cell_type": "code",
   "execution_count": null,
   "metadata": {},
   "outputs": [],
   "source": [
    "; afplay inferred.wav"
   ]
  },
  {
   "cell_type": "markdown",
   "metadata": {},
   "source": [
    "# Auditory illusion setup"
   ]
  },
  {
   "cell_type": "code",
   "execution_count": null,
   "metadata": {},
   "outputs": [],
   "source": [
    "function tones_with_noise(amp)\n",
    "    cm = choicemap((:kernel => :n_tones) => 3,\n",
    "              (:world => :waves => 1 => :is_noise) => false,\n",
    "              (:world => :waves => 1 => :erb) => 10.0,\n",
    "              (:world => :waves => 1 => :onset) => 0.5,\n",
    "              (:world => :waves => 1 => :duration) => 0.3,\n",
    "              (:world => :waves => 2 => :is_noise) => false,\n",
    "              (:world => :waves => 2 => :erb) => 10.0,\n",
    "              (:world => :waves => 2 => :onset) => 1.1,\n",
    "              (:world => :waves => 2 => :duration) => 0.3,\n",
    "              (:world => :waves => 3 => :is_noise) => true,\n",
    "              (:world => :waves => 3 => :amp) => amp,\n",
    "              (:world => :waves => 3 => :onset) => 0.8,\n",
    "              (:world => :waves => 3 => :duration) => 0.3)\n",
    "    tr, = generate(generate_scene, args, cm)\n",
    "    return tr\n",
    "end"
   ]
  },
  {
   "cell_type": "code",
   "execution_count": null,
   "metadata": {},
   "outputs": [],
   "source": [
    "trr = tones_with_noise(10.0);"
   ]
  },
  {
   "cell_type": "code",
   "execution_count": null,
   "metadata": {},
   "outputs": [],
   "source": [
    "vis_and_write_wave(trr, \"trr.wav\")"
   ]
  },
  {
   "cell_type": "code",
   "execution_count": null,
   "metadata": {},
   "outputs": [],
   "source": [
    "; afplay trr.wav"
   ]
  },
  {
   "cell_type": "code",
   "execution_count": null,
   "metadata": {},
   "outputs": [],
   "source": [
    "observations = choicemap((:kernel => :scene, trr[:kernel => :scene]))\n",
    "inferred_tr,weight = generate(generate_scene, args, observations);\n",
    "weight"
   ]
  },
  {
   "cell_type": "code",
   "execution_count": null,
   "metadata": {},
   "outputs": [],
   "source": [
    "inferred_tr[:kernel => :scene] == trr[:kernel => :scene]"
   ]
  },
  {
   "cell_type": "code",
   "execution_count": null,
   "metadata": {},
   "outputs": [],
   "source": [
    "inferred_tr = do_inference(inferred_tr, 1000);\n",
    "get_score(inferred_tr)"
   ]
  },
  {
   "cell_type": "code",
   "execution_count": null,
   "metadata": {},
   "outputs": [],
   "source": [
    "vis_and_write_wave(inferred_tr, \"inferred.wav\")"
   ]
  },
  {
   "cell_type": "code",
   "execution_count": null,
   "metadata": {},
   "outputs": [],
   "source": [
    "get_submap(get_choices(inferred_tr), :world => :waves)"
   ]
  },
  {
   "cell_type": "code",
   "execution_count": null,
   "metadata": {},
   "outputs": [],
   "source": [
    "; afplay inferred.wav"
   ]
  },
  {
   "cell_type": "code",
   "execution_count": null,
   "metadata": {},
   "outputs": [],
   "source": []
  }
 ],
 "metadata": {
  "language_info": {
   "name": "python",
   "pygments_lexer": "ipython3"
  }
 },
 "nbformat": 4,
 "nbformat_minor": 2
}
