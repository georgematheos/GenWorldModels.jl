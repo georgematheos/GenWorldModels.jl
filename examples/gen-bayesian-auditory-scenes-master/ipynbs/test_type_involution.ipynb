{
 "cells": [
  {
   "cell_type": "code",
   "execution_count": null,
   "metadata": {},
   "outputs": [],
   "source": [
    "using WAV;\n",
    "using Gen;\n",
    "using Printf;\n",
    "import Random;\n",
    "include(\"./model.jl\");\n",
    "include(\"./plotting.jl\");\n",
    "include(\"./proposals.jl\");\n",
    "include(\"./proposals.jl\");\n",
    "include(\"./gammatonegram.jl\");\n",
    "include(\"./time_helpers.jl\");\n",
    "include(\"./inference_helpers.jl\");\n",
    "include(\"./initialization.jl\");"
   ]
  },
  {
   "cell_type": "code",
   "execution_count": null,
   "metadata": {},
   "outputs": [],
   "source": [
    "source_params=Dict(\"types\"=>[\"noise\",\"tone\"], \"n_harmonics\"=>30,\"sources\"=>Dict(\"type\"=>\"max\",\"val\"=>5),\n",
    "    \"elements\"=>Dict(\"type\"=>\"max\",\"val\"=>10,\n",
    "        \"wait\"=>Dict(\"a\"=>Dict(\"a\"=>20,\"b\"=>1),\"mu\"=>Dict(\"mu\"=>-2.0,\"sig\"=>1.5)),\n",
    "        \"dur\"=>Dict(\"a\"=>Dict(\"a\"=>20,\"b\"=>1),\"mu\"=>Dict(\"mu\"=>-2.0,\"sig\"=>1.5))),\n",
    "    \"dream\"=>true)   \n",
    "audio_sr=20000; steps = Dict(\"t\"=>0.020, \"min\"=> 0.020, \"f\"=>4); \n",
    "gtg_params=Dict(\"twin\"=>0.025, \"thop\"=>0.010, \"nfilts\"=>64, \"fmin\"=>50, \"width\"=>0.50, \n",
    "    \"log_constant\"=>1e-80, \"dB_threshold\"=>20, \"ref\"=>1e-6, \"plot_max\"=>90)\n",
    "wts, f = gtg_weights(audio_sr, gtg_params)\n",
    "scene_duration = 0.5\n",
    "obs_noise = Dict(\"type\"=>\"fixed\",\"val\"=>1.0)\n",
    "args = (source_params, float(scene_duration), wts, steps, Int(audio_sr), obs_noise, gtg_params);"
   ]
  },
  {
   "cell_type": "code",
   "execution_count": null,
   "metadata": {},
   "outputs": [],
   "source": [
    "tre = []\n",
    "for trace_idx = 1\n",
    "    tr, _ = generate(generate_scene, args)\n",
    "    scene_gram, t, scene_wave, source_waves, element_waves = get_retval(tr)\n",
    "    println(size(element_waves))\n",
    "    n_elements = []\n",
    "    for i = 1:length(element_waves)\n",
    "        for j = 1:length(element_waves[i])\n",
    "            gtg, t = gammatonegram(element_waves[i][j],wts,audio_sr,gtg_params)\n",
    "            push!(n_elements, all(gtg .== gtg_params[\"dB_threshold\"]) ? 0 : 1)\n",
    "        end\n",
    "    end\n",
    "    push!(tre, sum(n_elements))\n",
    "end\n",
    "    \n"
   ]
  },
  {
   "cell_type": "code",
   "execution_count": null,
   "metadata": {},
   "outputs": [],
   "source": [
    "wavwrite(scene_wave/maximum(abs.(scene_wave)),\"scene.wav\",Fs=audio_sr)"
   ]
  },
  {
   "cell_type": "code",
   "execution_count": null,
   "metadata": {},
   "outputs": [],
   "source": [
    "(fwd_choices, fwd_score, fwd_ret) = propose(type_randomness, (tr,1,))\n",
    "(new_trace, bwd_choices, weight) = type_involution(tr, fwd_choices, fwd_ret, ())\n",
    "(bwd_score, _) = assess(type_randomness, (new_trace,1,), bwd_choices)\n",
    "println((weight - fwd_score + bwd_score))\n",
    "println(\"Weight: $(weight), Fwd: $(fwd_score), Bwd: $(bwd_score)\")\n",
    "# trace, accepted = mh(trace, switch_randomness, (), switch_involution) \n",
    "plot_sources(new_trace, scene_gram, 1)\n",
    "println(fwd_choices)\n",
    "println(\"Backward choices\")\n",
    "println(bwd_choices)"
   ]
  },
  {
   "cell_type": "code",
   "execution_count": null,
   "metadata": {},
   "outputs": [],
   "source": [
    "scene_gram, t, scene_wave, = get_retval(new_trace)\n",
    "plot_gtg(scene_gram, scene_duration, audio_sr/2., 20, 100)"
   ]
  },
  {
   "cell_type": "code",
   "execution_count": null,
   "metadata": {},
   "outputs": [],
   "source": []
  }
 ],
 "metadata": {
  "language_info": {
   "name": "python",
   "pygments_lexer": "ipython3"
  }
 },
 "nbformat": 4,
 "nbformat_minor": 2
}
