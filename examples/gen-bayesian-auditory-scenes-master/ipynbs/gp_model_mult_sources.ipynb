{
 "cells": [
  {
   "cell_type": "code",
   "execution_count": null,
   "metadata": {},
   "outputs": [],
   "source": [
    "using WAV;\n",
    "using Gen;\n",
    "import Random;\n",
    "include(\"model.jl\");\n",
    "include(\"plotting.jl\");\n",
    "include(\"proposals.jl\");\n",
    "include(\"gammatonegram.jl\");\n",
    "include(\"time_helpers.jl\");\n",
    "include(\"inference_helpers.jl\");\n",
    "include(\"initialization.jl\");"
   ]
  },
  {
   "cell_type": "code",
   "execution_count": null,
   "metadata": {},
   "outputs": [],
   "source": [
    "println(\"Loading in demo name...\")\n",
    "\n",
    "demo_name = \"Track32slow_new\"\n",
    "demo_names = [\"01-df2_dt125-shorttone-smalldf\",\"01-Track15higherBetweens\",\"02-df2_dt150-shorttone-smalldf\",\"02-Track15lowerBetweens\",\"03-df2_dt175-shorttone-smalldf\",\"04-df2_dt200-shorttone-smalldf\",\"05-df4_dt125-shorttone-smalldf\",\"06-df4_dt150-shorttone-smalldf\",\"07-df4_dt175-shorttone-smalldf\",\"08-df4_dt200-shorttone-smalldf\",\"09-df6_dt125-shorttone-smalldf\",\"10-df6_dt150-shorttone-smalldf\",\"11-df6_dt175-shorttone-smalldf\",\"12-df6_dt200-shorttone-smalldf\",\"13-df8_dt125-shorttone-smalldf\",\"14-df8_dt150-shorttone-smalldf\",\"15-df8_dt175-shorttone-smalldf\",\"16-df8_dt200-shorttone-smalldf\",\"1iii\",\"1ii\",\"1iv\",\"1i\",\"1v\",\"2iii\",\"2ii\",\"2iv\",\"2i\",\"2vi\",\"2v\",\"4ii\",\"continuity\",\"Track17X\",\"Track32fast_new\",\"Track32slow_new\"]\n",
    "for i = [27]\n",
    "    demo_name = demo_names[i]\n",
    "    demo_gram, wts, scene_duration, audio_sr = load_sound(demo_name)\n",
    "    plot_gtg(demo_gram, scene_duration, audio_sr/2.); \n",
    "end\n"
   ]
  },
  {
   "cell_type": "code",
   "execution_count": null,
   "metadata": {},
   "outputs": [],
   "source": [
    "max_elements=10; duration=1.0; audio_sr=20000; steps = Dict(:t=>0.020, :min=> 0.020, :f=>4); annealing_noise=-1\n",
    "wts, f = gtg_weights(audio_sr)\n",
    "\n",
    "# ## Inference parameters\n",
    "# annealing_noise = 1.5\n",
    "# n_steps = 1\n",
    "# if annealing_noise > 0 \n",
    "#     slope = 0.5; midpoint = 200; height = 0.7; base = 0.8; cutoff = 300\n",
    "#     annealing_schedule = make_annealing_schedule(slope, midpoint, height, base, cutoff)\n",
    "# end"
   ]
  },
  {
   "cell_type": "code",
   "execution_count": null,
   "metadata": {},
   "outputs": [],
   "source": [
    "println(\"Loading in sound...\")\n",
    "## Inference\n",
    "#Load in sound observation and its neural network guide distribution\n",
    "demo_gram, wts, scene_duration, audio_sr = load_sound(demo_name)\n",
    "demo_guide = read_guide(demo_name)"
   ]
  },
  {
   "cell_type": "code",
   "execution_count": null,
   "metadata": {},
   "outputs": [],
   "source": [
    "plot_gtg(demo_gram, scene_duration, audio_sr/2.);"
   ]
  },
  {
   "cell_type": "code",
   "execution_count": null,
   "metadata": {},
   "outputs": [],
   "source": [
    "println(\"Doing inference...\")\n",
    "#Sample initialization from the guide distribution \n",
    "args = (max_elements, float(scene_duration), wts, steps, Int(audio_sr), annealing_noise)\n",
    "n_likelihood_samples = 1\n",
    "data_init_trace = init_from_likelihood(n_likelihood_samples, demo_guide, demo_gram, args); \n",
    "plot_sources(data_init_trace, demo_gram, 0)"
   ]
  },
  {
   "cell_type": "code",
   "execution_count": null,
   "metadata": {},
   "outputs": [],
   "source": [
    "n_steps=2\n",
    "traces, accept_counts, proposal_counts = run_inference(mcmc_update, data_init_trace, demo_gram, n_steps);\n",
    "println(\"Inference complete!\")"
   ]
  },
  {
   "cell_type": "code",
   "execution_count": null,
   "metadata": {},
   "outputs": [],
   "source": [
    "println(\"Saving our results.\")\n",
    "## Save results\n",
    "PyPlot.ioff()\n",
    "# Show frequency of proposal acceptance for each proposal type\n",
    "plot_proposals(accept_counts, proposal_counts, annealing_noise)\n"
   ]
  },
  {
   "cell_type": "code",
   "execution_count": null,
   "metadata": {},
   "outputs": [],
   "source": [
    "for i = 1:length(traces)\n",
    "    plot_sources(traces[i], demo_gram, i)    \n",
    "end"
   ]
  },
  {
   "cell_type": "code",
   "execution_count": null,
   "metadata": {},
   "outputs": [],
   "source": [
    "println(get_choices(traces[end]))"
   ]
  },
  {
   "cell_type": "code",
   "execution_count": null,
   "metadata": {},
   "outputs": [],
   "source": []
  }
 ],
 "metadata": {
  "language_info": {
   "name": "python",
   "pygments_lexer": "ipython3"
  }
 },
 "nbformat": 4,
 "nbformat_minor": 2
}
