{
 "cells": [
  {
   "cell_type": "code",
   "execution_count": null,
   "metadata": {},
   "outputs": [],
   "source": [
    "using Gen;\n",
    "using Random;\n",
    "using Statistics: mean, std, cor;\n",
    "using LinearAlgebra: dot;\n",
    "using StatsFuns: logsumexp;\n",
    "using PyPlot\n",
    "using WAV\n",
    "include(\"./extra_distributions.jl\")\n",
    "include(\"./gaussian_helpers.jl\")\n",
    "include(\"./gammatonegram.jl\")\n",
    "include(\"./model.jl\")\n",
    "include(\"./plotting.jl\")\n",
    "include(\"./time_helpers.jl\")"
   ]
  },
  {
   "cell_type": "markdown",
   "metadata": {},
   "source": [
    "### Model with a mean spectrum for 2D Amplitudes "
   ]
  },
  {
   "cell_type": "code",
   "execution_count": null,
   "metadata": {},
   "outputs": [],
   "source": [
    "source_params, steps, gtg_params, obs_noise = include(\"./base_params.jl\")\n",
    "audio_sr = 20000;\n",
    "scene_duration = 2.0\n",
    "f = get_element_gp_freqs(audio_sr, steps)\n",
    "println(f)"
   ]
  },
  {
   "cell_type": "code",
   "execution_count": null,
   "metadata": {},
   "outputs": [],
   "source": [
    "noise_mu_params = Dict(:sigma=> 10.0, :scale=> 4.0, :noise=> 1.0)\n",
    "cov = generate_covariance_matrix(f, noise_mu_params)\n",
    "plt.imshow(cov)"
   ]
  },
  {
   "cell_type": "code",
   "execution_count": null,
   "metadata": {},
   "outputs": [],
   "source": [
    "source_params[\"gp\"][\"amp\"][\"2D\"][\"mu\"][\"dist\"]=mvnormal\n",
    "source_params[\"gp\"][\"amp\"][\"2D\"][\"mu\"][\"args\"]=(fill(10,length(f)),cov)"
   ]
  },
  {
   "cell_type": "code",
   "execution_count": null,
   "metadata": {},
   "outputs": [],
   "source": [
    "mu = mvnormal(fill(10,length(f)),cov)"
   ]
  },
  {
   "cell_type": "code",
   "execution_count": null,
   "metadata": {},
   "outputs": [],
   "source": [
    "x, _, _ = get_gp_spectrotemporal([0.21,0.43], steps, audio_sr)"
   ]
  },
  {
   "cell_type": "code",
   "execution_count": null,
   "metadata": {},
   "outputs": [],
   "source": [
    "n=Int(length(x)/length(mu))"
   ]
  },
  {
   "cell_type": "code",
   "execution_count": null,
   "metadata": {},
   "outputs": [],
   "source": [
    "plot(repeat(mu, n))\n",
    "plot(mu)"
   ]
  },
  {
   "cell_type": "code",
   "execution_count": null,
   "metadata": {},
   "outputs": [],
   "source": [
    "source_params[\"types\"]=[\"harmonic\", \"tone\", \"noise\"]\n",
    "source_params[\"n_sources\"][\"val\"]=5\n",
    "source_params[\"n_elements\"][\"val\"]=2"
   ]
  },
  {
   "cell_type": "code",
   "execution_count": null,
   "metadata": {},
   "outputs": [],
   "source": [
    "scene_duration = 2.0\n",
    "wts, f = gtg_weights(audio_sr,gtg_params)\n",
    "args = (source_params, float(scene_duration), wts, steps, Int(audio_sr), obs_noise, gtg_params);"
   ]
  },
  {
   "cell_type": "code",
   "execution_count": null,
   "metadata": {},
   "outputs": [],
   "source": [
    "trace, = generate(generate_scene, args);\n",
    "scene_gram, t, scene_wave, source_waves, element_waves = get_retval(trace);"
   ]
  },
  {
   "cell_type": "code",
   "execution_count": null,
   "metadata": {},
   "outputs": [],
   "source": [
    "plot_gtg(scene_gram, scene_duration, audio_sr/2., 20, 100)"
   ]
  },
  {
   "cell_type": "code",
   "execution_count": null,
   "metadata": {},
   "outputs": [],
   "source": [
    "wavwrite(scene_wave/maximum(abs.(scene_wave)),\"./scene.wav\",Fs=audio_sr)"
   ]
  },
  {
   "cell_type": "code",
   "execution_count": null,
   "metadata": {},
   "outputs": [],
   "source": [
    "x=[1,2,3,4,5,6]\n",
    "cat(x..., 7, 8, dims=1)"
   ]
  },
  {
   "cell_type": "code",
   "execution_count": null,
   "metadata": {},
   "outputs": [],
   "source": []
  }
 ],
 "metadata": {
  "language_info": {
   "name": "python",
   "pygments_lexer": "ipython3"
  }
 },
 "nbformat": 4,
 "nbformat_minor": 2
}
