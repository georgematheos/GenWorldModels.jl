{
 "cells": [
  {
   "cell_type": "code",
   "execution_count": null,
   "metadata": {},
   "outputs": [],
   "source": [
    "using WAV;\n",
    "using Gen;\n",
    "import Random\n",
    "include(\"model.jl\")\n",
    "include(\"plotting.jl\")\n",
    "include(\"proposals.jl\")\n",
    "include(\"gammatonegram.jl\")\n",
    "include(\"time_helpers.jl\")"
   ]
  },
  {
   "cell_type": "markdown",
   "metadata": {},
   "source": [
    "## Switch involution examples"
   ]
  },
  {
   "cell_type": "markdown",
   "metadata": {},
   "source": [
    "Basic model settings"
   ]
  },
  {
   "cell_type": "code",
   "execution_count": null,
   "metadata": {},
   "outputs": [],
   "source": [
    "duration = 0.81\n",
    "max_tones = 10\n",
    "audio_sr = 20000\n",
    "tstep = 0.020\n",
    "mindur = 0.020\n",
    "wts, f = gtg_weights(audio_sr);\n",
    "\n",
    "# function get_kernel_params(var_type) \n",
    "#     if var_type == :erb\n",
    "#         sigma = 3\n",
    "#         scale = 0.5\n",
    "#         noise = 1\n",
    "#     elseif var_type == :amp\n",
    "#         sigma = 1\n",
    "#         scale = 0.5\n",
    "#         noise = 0.5\n",
    "#     end\n",
    "#     return sigma, scale, noise    \n",
    "# end"
   ]
  },
  {
   "cell_type": "markdown",
   "metadata": {},
   "source": [
    "### Two-tone proposal example"
   ]
  },
  {
   "cell_type": "code",
   "execution_count": null,
   "metadata": {},
   "outputs": [],
   "source": [
    "difference = -1\n",
    "\n",
    "constraints = choicemap()\n",
    "\n",
    "constraints[:n_sources] = 2\n",
    "\n",
    "constraints[:source => 1 => :n_tones] = 1\n",
    "mu_erb_1 = 8; mu_amp_1 =0.9;\n",
    "constraints[:source => 1 => :mu_erb] = mu_erb_1\n",
    "constraints[:source => 1 => :mu_amp] = mu_amp_1\n",
    "wait_1 = 0.101; dur_minus_min_1 = 0.080\n",
    "constraints[:source => 1 => (:tone, 1) => :wait] = wait_1\n",
    "constraints[:source => 1 => (:tone, 1) => :dur_minus_min] = dur_minus_min_1\n",
    "t1 = get_tone_sample_times([wait_1, wait_1+dur_minus_min_1 + mindur], tstep)\n",
    "constraints[:source => 1 => (:tone, 1) => :erb]= fill(mu_erb_1, length(t1))\n",
    "constraints[:source => 1 => (:tone, 1) => :amp]= fill(mu_amp_1, length(t1))\n",
    "\n",
    "constraints[:source => 2 => :n_tones] = 1\n",
    "mu_erb_2 = mu_erb_1 + difference; \n",
    "constraints[:source => 2 => :mu_erb] = mu_erb_2\n",
    "constraints[:source => 2 => :mu_amp] = mu_amp_1\n",
    "wait_1 = 0.3201; dur_minus_min_1 = 0.080\n",
    "constraints[:source => 2 => (:tone, 1) => :wait] = wait_1\n",
    "constraints[:source => 2 => (:tone, 1) => :dur_minus_min] = dur_minus_min_1\n",
    "t2 = get_tone_sample_times([wait_1, wait_1+dur_minus_min_1 + mindur], tstep)\n",
    "constraints[:source => 2 => (:tone, 1) => :erb]= fill(mu_erb_2, length(t2))\n",
    "constraints[:source => 2 => (:tone, 1) => :amp]= fill(mu_amp_1, length(t2))\n",
    "\n",
    "t_full = vcat(t1, t2)\n",
    "erb_full = vcat(constraints[:source => 1 => (:tone, 1) => :erb], constraints[:source => 2 => (:tone, 1) => :erb])\n",
    "\n",
    "constraints[:noise] = 0.5\n",
    "\n",
    "observation_trace, _ = generate(generate_scene, (max_tones, duration, wts, mindur, tstep, audio_sr), constraints)\n",
    "plot_gtg(observation_trace[:scene], duration, audio_sr/2) "
   ]
  },
  {
   "cell_type": "code",
   "execution_count": null,
   "metadata": {},
   "outputs": [],
   "source": [
    "function get_initial_trace(observation_trace, constraints)\n",
    "    constraints[:scene] = observation_trace[:scene]\n",
    "    constraints[:noise] = 1.0\n",
    "    initial_trace, _ = generate(generate_scene, (max_tones, duration, wts, mindur, tstep, audio_sr), constraints)\n",
    "    plot_sources(initial_trace, observation_trace[:scene], 0)\n",
    "    return initial_trace\n",
    "end\n",
    "initial_trace = get_initial_trace(observation_trace, constraints);"
   ]
  },
  {
   "cell_type": "code",
   "execution_count": null,
   "metadata": {},
   "outputs": [],
   "source": [
    "function make_switch_proposal(initial_trace, observation_trace, show_info)\n",
    "    (fwd_choices, fwd_score, fwd_ret) = propose(switch_randomness, (initial_trace,))\n",
    "    (new_trace, bwd_choices, weight) = switch_involution(initial_trace, fwd_choices, fwd_ret, ())\n",
    "    (bwd_score, _) = assess(switch_randomness, (new_trace,), bwd_choices)\n",
    "    alpha = weight - fwd_score + bwd_score\n",
    "    if show_info\n",
    "        println((weight - fwd_score + bwd_score))\n",
    "        println(\"Weight: $(weight), Fwd: $(fwd_score), Bwd: $(bwd_score)\")\n",
    "        plot_sources(new_trace, observation_trace[:scene], 1)\n",
    "        println(fwd_choices)\n",
    "        println(\"Backward choices\")\n",
    "        println(bwd_choices)\n",
    "    end\n",
    "    return new_trace, alpha\n",
    "end\n",
    "new_trace, alpha = make_switch_proposal(initial_trace, observation_trace, true);"
   ]
  },
  {
   "cell_type": "code",
   "execution_count": null,
   "metadata": {},
   "outputs": [],
   "source": [
    "function check_score(initial_trace, new_trace, observation_trace)\n",
    "    println(\"Looking at each part of the score:\");println(\"\")\n",
    "    @assert initial_trace[:noise] == new_trace[:noise]\n",
    "    noise_value = initial_trace[:noise]\n",
    "    # old_scene, _, _ = get_retval(initial_trace)\n",
    "    # new_scene, _, _ = get_retval(new_trace)\n",
    "    ## NOTE: if you use \"old_scene\" or \"new_scene\" instead of the value from the trace, the likelihood does NOT come out equal!!\n",
    "    old_likelihood=logpdf(noisy_matrix,initial_trace[:scene],observation_trace[:scene],noise_value)\n",
    "    new_likelihood=logpdf(noisy_matrix,new_trace[:scene],observation_trace[:scene],noise_value)\n",
    "    println(\"Old likelihood: $old_likelihood, New likelihood: $new_likelihood\")\n",
    "    @assert old_likelihood == new_likelihood\n",
    "    println(\"Likelihoods are equal.\")\n",
    "\n",
    "    println(\"\"); println(\"Score of random choices:\")\n",
    "    for trace_number = 1:2\n",
    "        trace = trace_number == 1 ? initial_trace : new_trace\n",
    "        trace_name = trace_number == 1 ? \"Initial\" : \"New\"\n",
    "        \n",
    "        total = 0\n",
    "        for i = 1:trace[:n_sources]\n",
    "            single = project(trace, select(:source => i))\n",
    "            total += single\n",
    "            println(\"$trace_name Trace -- source $i: $single\")\n",
    "            mu_erb = round(trace[:source => i => :mu_erb], digits=2)\n",
    "            println(\"\\tmu erb $mu_erb: \", project(trace, select(:source => i => :mu_erb)))\n",
    "            mu_amp = round(trace[:source => i => :mu_amp], digits=2)\n",
    "            println(\"\\tmu amp $mu_amp: \", project(trace, select(:source => i => :mu_amp)))\n",
    "            n_tones = trace[:source => i => :n_tones]\n",
    "            println(\"\\tn_tones $n_tones: \", project(trace, select(:source => i => :n_tones)))\n",
    "            for j = 1:trace[:source => i => :n_tones]\n",
    "                println(\"\\tTone $j\")\n",
    "                for a = [:wait, :dur_minus_min, :erb, :amp]\n",
    "#                     println(trace[:source => i => (:tone, j) => a])\n",
    "                    println(\"\\t\\t\", a, \": \", project(trace, select(:source => i => (:tone, j) => a)))\n",
    "                end\n",
    "            end\n",
    "        end\n",
    "        println(\"$trace_name Trace -- total: $total\");println(\"\")\n",
    "            \n",
    "    end\n",
    "\n",
    "end\n",
    "check_score(initial_trace, new_trace, observation_trace)"
   ]
  },
  {
   "cell_type": "code",
   "execution_count": null,
   "metadata": {},
   "outputs": [],
   "source": [
    "println(\"Checking the correctness of the conditional Gaussian distributions:\")\n",
    "mu, cov =  get_mu_cov(t_full, new_trace[:source => 1 => :mu_erb], :erb)\n",
    "full_cov_score=logpdf(mvnormal,erb_full,mu,cov)\n",
    "println(\"full_cov_score: $full_cov_score\")\n",
    "tone1_erb_score = project(new_trace, select(:source => 1 => (:tone, 1) => :erb))\n",
    "tone2_erb_score = project(new_trace, select(:source => 1 => (:tone, 2) => :erb))\n",
    "println(\"conditional score: \", tone1_erb_score + tone2_erb_score)"
   ]
  },
  {
   "cell_type": "markdown",
   "metadata": {},
   "source": [
    "### Three-tone proposal example"
   ]
  },
  {
   "cell_type": "code",
   "execution_count": null,
   "metadata": {},
   "outputs": [],
   "source": [
    "stream_difference = 20 #between the tones with the same timing\n",
    "switch_difference = 1 #between source_1 tone, and the switch_tone\n",
    "\n",
    "constraints = choicemap()\n",
    "\n",
    "constraints[:n_sources] = 2\n",
    "\n",
    "constraints[:source => 1 => :n_tones] = 1\n",
    "mu_erb_1 = 8; mu_amp_1 =0.9;\n",
    "constraints[:source => 1 => :mu_erb] = mu_erb_1\n",
    "constraints[:source => 1 => :mu_amp] = mu_amp_1\n",
    "wait_1 = 0.101; dur_minus_min_1 = 0.080\n",
    "constraints[:source => 1 => (:tone, 1) => :wait] = wait_1\n",
    "constraints[:source => 1 => (:tone, 1) => :dur_minus_min] = dur_minus_min_1\n",
    "t = get_tone_sample_times([wait_1, wait_1+dur_minus_min_1 + 0.020], tstep)\n",
    "constraints[:source => 1 => (:tone, 1) => :erb]= fill(mu_erb_1, length(t))\n",
    "constraints[:source => 1 => (:tone, 1) => :amp]= fill(mu_amp_1, length(t))\n",
    "\n",
    "\n",
    "constraints[:source => 2 => :n_tones] = 2\n",
    "tone_erb_1 = mu_erb_1 + stream_difference; mu_amp_1 =0.9;\n",
    "wait_1 = 0.101; dur_minus_min_1 = 0.080\n",
    "constraints[:source => 2 => (:tone, 1) => :wait] = wait_1\n",
    "constraints[:source => 2 => (:tone, 1) => :dur_minus_min] = dur_minus_min_1\n",
    "t = get_tone_sample_times([wait_1, wait_1+dur_minus_min_1 + 0.020], tstep)\n",
    "constraints[:source => 2 => (:tone, 1) => :erb]= fill(tone_erb_1, length(t))\n",
    "constraints[:source => 2 => (:tone, 1) => :amp]= fill(mu_amp_1, length(t))\n",
    "\n",
    "\n",
    "tone_erb_2 = mu_erb_1 + switch_difference \n",
    "wait_2 = 0.101; \n",
    "constraints[:source => 2 => (:tone, 2) => :wait] = wait_2\n",
    "constraints[:source => 2 => (:tone, 2) => :dur_minus_min] = dur_minus_min_1\n",
    "t = get_tone_sample_times([wait_2, wait_2+dur_minus_min_1 + 0.020], tstep)\n",
    "constraints[:source => 2 => (:tone, 2) => :erb]= fill(tone_erb_2, length(t))\n",
    "constraints[:source => 2 => (:tone, 2) => :amp]= fill(mu_amp_1, length(t))\n",
    "\n",
    "constraints[:source => 2 => :mu_amp] = mu_amp_1\n",
    "constraints[:source => 2 => :mu_erb] = (tone_erb_1 + tone_erb_2)/2\n",
    "\n",
    "constraints[:noise] = 0.5\n",
    "\n",
    "observation_trace, _ = generate(generate_scene, (max_tones, duration, wts, mindur, tstep, audio_sr), constraints)\n",
    "plot_gtg(observation_trace[:scene], duration, audio_sr/2) "
   ]
  },
  {
   "cell_type": "code",
   "execution_count": null,
   "metadata": {},
   "outputs": [],
   "source": [
    "initial_trace = get_initial_trace(observation_trace, constraints);"
   ]
  },
  {
   "cell_type": "code",
   "execution_count": null,
   "metadata": {},
   "outputs": [],
   "source": [
    "new_trace, alpha = make_switch_proposal(initial_trace, observation_trace, true);"
   ]
  },
  {
   "cell_type": "code",
   "execution_count": null,
   "metadata": {},
   "outputs": [],
   "source": [
    "check_score(initial_trace, new_trace, observation_trace)"
   ]
  },
  {
   "cell_type": "code",
   "execution_count": null,
   "metadata": {},
   "outputs": [],
   "source": [
    "function run_switch_inference(initial_trace, observation_trace, n_steps)\n",
    "    trace = initial_trace\n",
    "    trace_list = []\n",
    "    proposal_list = []\n",
    "    alpha_list = []\n",
    "    for i = 1:n_steps\n",
    "        new_trace, alpha = make_switch_proposal(trace, observation_trace, false);\n",
    "        push!(proposal_list, new_trace)\n",
    "        f = log(rand())\n",
    "        accept = f < alpha\n",
    "        trace = accept ? new_trace : trace\n",
    "        push!(trace_list, trace)\n",
    "        push!(alpha_list, alpha)\n",
    "    end\n",
    "    return trace_list, proposal_list, alpha_list\n",
    "end\n",
    "trace_list, proposal_list, alpha_list = run_switch_inference(initial_trace, observation_trace, 100);"
   ]
  },
  {
   "cell_type": "code",
   "execution_count": null,
   "metadata": {},
   "outputs": [],
   "source": [
    "function plot_trace(trace_list)\n",
    "    for i = 1:length(trace_list)\n",
    "        plot_sources(trace_list[i], observation_trace[:scene], i)\n",
    "    end\n",
    "end\n",
    "function plot_proposals(trace_list, proposal_list)\n",
    "    for i = 1:length(trace_list)\n",
    "        plot_sources(trace_list[i], observation_trace[:scene], i)\n",
    "        plot_sources(proposal_list[i], observation_trace[:scene], i,colors=\"Reds\")\n",
    "    end\n",
    "end\n",
    "#plot_trace(trace_list)\n",
    "plot_proposals(trace_list, proposal_list)"
   ]
  },
  {
   "cell_type": "markdown",
   "metadata": {},
   "source": [
    "### 6-tone inference example with repetition"
   ]
  },
  {
   "cell_type": "code",
   "execution_count": null,
   "metadata": {},
   "outputs": [],
   "source": [
    "stream_difference = 8\n",
    "\n",
    "constraints = choicemap()\n",
    "\n",
    "constraints[:n_sources] = 6\n",
    "\n",
    "constraints[:source => 1 => :n_tones] = 1\n",
    "mu_erb_1 = 12; mu_amp_1 =0.9;\n",
    "constraints[:source => 1 => :mu_erb] = mu_erb_1\n",
    "constraints[:source => 1 => :mu_amp] = mu_amp_1\n",
    "wait_1 = 0.101; dur_minus_min_1 = 0.080\n",
    "constraints[:source => 1 => (:tone, 1) => :wait] = wait_1\n",
    "constraints[:source => 1 => (:tone, 1) => :dur_minus_min] = dur_minus_min_1\n",
    "t = get_tone_sample_times([wait_1, wait_1+dur_minus_min_1 + 0.020], tstep)\n",
    "constraints[:source => 1 => (:tone, 1) => :erb]= fill(mu_erb_1, length(t))\n",
    "constraints[:source => 1 => (:tone, 1) => :amp]= fill(mu_amp_1, length(t))\n",
    "\n",
    "constraints[:source => 2 => :n_tones] = 1\n",
    "mu_erb_2 = mu_erb_1 + stream_difference; mu_amp_1 =0.9;\n",
    "constraints[:source => 2 => :mu_erb] = mu_erb_2\n",
    "constraints[:source => 2 => :mu_amp] = mu_amp_1\n",
    "wait_1 = 0.2101; dur_minus_min_1 = 0.080\n",
    "constraints[:source => 2 => (:tone, 1) => :wait] = wait_1\n",
    "constraints[:source => 2 => (:tone, 1) => :dur_minus_min] = dur_minus_min_1\n",
    "t = get_tone_sample_times([wait_1, wait_1+dur_minus_min_1 + 0.020], tstep)\n",
    "constraints[:source => 2 => (:tone, 1) => :erb]= fill(mu_erb_2, length(t))\n",
    "constraints[:source => 2 => (:tone, 1) => :amp]= fill(mu_amp_1, length(t))\n",
    "\n",
    "constraints[:source => 3 => :n_tones] = 1\n",
    "mu_amp_1 =0.9;\n",
    "constraints[:source => 3 => :mu_erb] = mu_erb_1\n",
    "constraints[:source => 3 => :mu_amp] = mu_amp_1\n",
    "wait_1 = 0.3201; dur_minus_min_1 = 0.080\n",
    "constraints[:source => 3 => (:tone, 1) => :wait] = wait_1\n",
    "constraints[:source => 3 => (:tone, 1) => :dur_minus_min] = dur_minus_min_1\n",
    "t = get_tone_sample_times([wait_1, wait_1+dur_minus_min_1 + 0.020], tstep)\n",
    "constraints[:source => 3 => (:tone, 1) => :erb]= fill(mu_erb_1, length(t))\n",
    "constraints[:source => 3 => (:tone, 1) => :amp]= fill(mu_amp_1, length(t))\n",
    "\n",
    "constraints[:source => 4 => :n_tones] = 1\n",
    " mu_amp_1 =0.9;\n",
    "constraints[:source => 4 => :mu_erb] = mu_erb_2\n",
    "constraints[:source => 4 => :mu_amp] = mu_amp_1\n",
    "wait_1 = 0.4301; dur_minus_min_1 = 0.080\n",
    "constraints[:source => 4 => (:tone, 1) => :wait] = wait_1\n",
    "constraints[:source => 4 => (:tone, 1) => :dur_minus_min] = dur_minus_min_1\n",
    "t = get_tone_sample_times([wait_1, wait_1+dur_minus_min_1 + 0.020], tstep)\n",
    "constraints[:source => 4 => (:tone, 1) => :erb]= fill(mu_erb_2, length(t))\n",
    "constraints[:source => 4 => (:tone, 1) => :amp]= fill(mu_amp_1, length(t))\n",
    "\n",
    "constraints[:source => 5 => :n_tones] = 1\n",
    "mu_amp_1 =0.9;\n",
    "constraints[:source => 5 => :mu_erb] = mu_erb_1\n",
    "constraints[:source => 5 => :mu_amp] = mu_amp_1\n",
    "wait_1 = 0.5401; dur_minus_min_1 = 0.080\n",
    "constraints[:source => 5 => (:tone, 1) => :wait] = wait_1\n",
    "constraints[:source => 5 => (:tone, 1) => :dur_minus_min] = dur_minus_min_1\n",
    "t = get_tone_sample_times([wait_1, wait_1+dur_minus_min_1 + 0.020], tstep)\n",
    "constraints[:source => 5 => (:tone, 1) => :erb]= fill(mu_erb_1, length(t))\n",
    "constraints[:source => 5 => (:tone, 1) => :amp]= fill(mu_amp_1, length(t))\n",
    "\n",
    "constraints[:source => 6 => :n_tones] = 1\n",
    " mu_amp_1 =0.9;\n",
    "constraints[:source => 6 => :mu_erb] = mu_erb_2\n",
    "constraints[:source => 6 => :mu_amp] = mu_amp_1\n",
    "wait_1 = 0.6501; dur_minus_min_1 = 0.080\n",
    "constraints[:source => 6 => (:tone, 1) => :wait] = wait_1\n",
    "constraints[:source => 6 => (:tone, 1) => :dur_minus_min] = dur_minus_min_1\n",
    "t = get_tone_sample_times([wait_1, wait_1+dur_minus_min_1 + 0.020], tstep)\n",
    "constraints[:source => 6 => (:tone, 1) => :erb]= fill(mu_erb_2, length(t))\n",
    "constraints[:source => 6 => (:tone, 1) => :amp]= fill(mu_amp_1, length(t))\n",
    "\n",
    "constraints[:noise] = 0.5\n",
    "\n",
    "observation_trace, _ = generate(generate_scene, (max_tones, duration, wts, mindur, tstep, audio_sr), constraints)\n",
    "plot_gtg(observation_trace[:scene], duration, audio_sr/2) "
   ]
  },
  {
   "cell_type": "code",
   "execution_count": null,
   "metadata": {},
   "outputs": [],
   "source": [
    "initial_trace = get_initial_trace(observation_trace, constraints);"
   ]
  },
  {
   "cell_type": "code",
   "execution_count": null,
   "metadata": {},
   "outputs": [],
   "source": [
    "new_trace, alpha = make_switch_proposal(initial_trace, observation_trace, true);"
   ]
  },
  {
   "cell_type": "code",
   "execution_count": null,
   "metadata": {},
   "outputs": [],
   "source": [
    "check_score(initial_trace, new_trace, observation_trace)"
   ]
  },
  {
   "cell_type": "code",
   "execution_count": null,
   "metadata": {},
   "outputs": [],
   "source": [
    "trace_list, proposal_list, alpha_list = run_switch_inference(initial_trace, observation_trace, 100);"
   ]
  },
  {
   "cell_type": "code",
   "execution_count": null,
   "metadata": {},
   "outputs": [],
   "source": [
    "plot_proposals(trace_list, proposal_list)"
   ]
  },
  {
   "cell_type": "code",
   "execution_count": null,
   "metadata": {},
   "outputs": [],
   "source": [
    "new_trace,alpha = make_switch_proposal(trace_list[end], observation_trace,true);"
   ]
  },
  {
   "cell_type": "code",
   "execution_count": null,
   "metadata": {},
   "outputs": [],
   "source": [
    "check_score(trace_list[end], new_trace, observation_trace)"
   ]
  },
  {
   "cell_type": "markdown",
   "metadata": {},
   "source": [
    "### 6-tone example with variance"
   ]
  },
  {
   "cell_type": "code",
   "execution_count": null,
   "metadata": {},
   "outputs": [],
   "source": [
    "stream_difference = 15\n",
    "up_difference = 1\n",
    "down_difference = 1\n",
    "\n",
    "constraints = choicemap()\n",
    "\n",
    "constraints[:n_sources] = 6\n",
    "\n",
    "constraints[:source => 1 => :n_tones] = 1\n",
    "mu_erb_1 = 7; mu_amp_1 =0.9;\n",
    "constraints[:source => 1 => :mu_erb] = mu_erb_1\n",
    "constraints[:source => 1 => :mu_amp] = mu_amp_1\n",
    "wait_1 = 0.101; dur_minus_min_1 = 0.080\n",
    "constraints[:source => 1 => (:tone, 1) => :wait] = wait_1\n",
    "constraints[:source => 1 => (:tone, 1) => :dur_minus_min] = dur_minus_min_1\n",
    "t = get_tone_sample_times([wait_1, wait_1+dur_minus_min_1 + 0.020], tstep)\n",
    "constraints[:source => 1 => (:tone, 1) => :erb]= fill(mu_erb_1, length(t))\n",
    "constraints[:source => 1 => (:tone, 1) => :amp]= fill(mu_amp_1, length(t))\n",
    "\n",
    "constraints[:source => 2 => :n_tones] = 1\n",
    "mu_erb_2 = mu_erb_1 + stream_difference; mu_amp_1 =0.9;\n",
    "constraints[:source => 2 => :mu_erb] = mu_erb_2\n",
    "constraints[:source => 2 => :mu_amp] = mu_amp_1\n",
    "wait_1 = 0.2101; dur_minus_min_1 = 0.080\n",
    "constraints[:source => 2 => (:tone, 1) => :wait] = wait_1\n",
    "constraints[:source => 2 => (:tone, 1) => :dur_minus_min] = dur_minus_min_1\n",
    "t = get_tone_sample_times([wait_1, wait_1+dur_minus_min_1 + 0.020], tstep)\n",
    "constraints[:source => 2 => (:tone, 1) => :erb]= fill(mu_erb_2, length(t))\n",
    "constraints[:source => 2 => (:tone, 1) => :amp]= fill(mu_amp_1, length(t))\n",
    "\n",
    "constraints[:source => 3 => :n_tones] = 1\n",
    "mu_amp_1 =0.9;\n",
    "constraints[:source => 3 => :mu_erb] = mu_erb_1 + up_difference\n",
    "constraints[:source => 3 => :mu_amp] = mu_amp_1\n",
    "wait_1 = 0.3201; dur_minus_min_1 = 0.080\n",
    "constraints[:source => 3 => (:tone, 1) => :wait] = wait_1\n",
    "constraints[:source => 3 => (:tone, 1) => :dur_minus_min] = dur_minus_min_1\n",
    "t = get_tone_sample_times([wait_1, wait_1+dur_minus_min_1 + 0.020], tstep)\n",
    "constraints[:source => 3 => (:tone, 1) => :erb]= fill(mu_erb_1 + up_difference, length(t))\n",
    "constraints[:source => 3 => (:tone, 1) => :amp]= fill(mu_amp_1, length(t))\n",
    "\n",
    "constraints[:source => 4 => :n_tones] = 1\n",
    " mu_amp_1 =0.9;\n",
    "constraints[:source => 4 => :mu_erb] = mu_erb_2 + up_difference\n",
    "constraints[:source => 4 => :mu_amp] = mu_amp_1\n",
    "wait_1 = 0.4301; dur_minus_min_1 = 0.080\n",
    "constraints[:source => 4 => (:tone, 1) => :wait] = wait_1\n",
    "constraints[:source => 4 => (:tone, 1) => :dur_minus_min] = dur_minus_min_1\n",
    "t = get_tone_sample_times([wait_1, wait_1+dur_minus_min_1 + 0.020], tstep)\n",
    "constraints[:source => 4 => (:tone, 1) => :erb]= fill(mu_erb_2 + up_difference, length(t))\n",
    "constraints[:source => 4 => (:tone, 1) => :amp]= fill(mu_amp_1, length(t))\n",
    "\n",
    "constraints[:source => 5 => :n_tones] = 1\n",
    "mu_amp_1 =0.9;\n",
    "constraints[:source => 5 => :mu_erb] = mu_erb_1 - down_difference\n",
    "constraints[:source => 5 => :mu_amp] = mu_amp_1\n",
    "wait_1 = 0.5401; dur_minus_min_1 = 0.080\n",
    "constraints[:source => 5 => (:tone, 1) => :wait] = wait_1\n",
    "constraints[:source => 5 => (:tone, 1) => :dur_minus_min] = dur_minus_min_1\n",
    "t = get_tone_sample_times([wait_1, wait_1+dur_minus_min_1 + 0.020], tstep)\n",
    "constraints[:source => 5 => (:tone, 1) => :erb]= fill(mu_erb_1 - down_difference, length(t))\n",
    "constraints[:source => 5 => (:tone, 1) => :amp]= fill(mu_amp_1, length(t))\n",
    "\n",
    "constraints[:source => 6 => :n_tones] = 1\n",
    " mu_amp_1 =0.9;\n",
    "constraints[:source => 6 => :mu_erb] = mu_erb_2 - down_difference\n",
    "constraints[:source => 6 => :mu_amp] = mu_amp_1\n",
    "wait_1 = 0.6501; dur_minus_min_1 = 0.080\n",
    "constraints[:source => 6 => (:tone, 1) => :wait] = wait_1\n",
    "constraints[:source => 6 => (:tone, 1) => :dur_minus_min] = dur_minus_min_1\n",
    "t = get_tone_sample_times([wait_1, wait_1+dur_minus_min_1 + 0.020], tstep)\n",
    "constraints[:source => 6 => (:tone, 1) => :erb]= fill(mu_erb_2 - down_difference, length(t))\n",
    "constraints[:source => 6 => (:tone, 1) => :amp]= fill(mu_amp_1, length(t))\n",
    "\n",
    "constraints[:noise] = 0.5\n",
    "\n",
    "observation_trace, _ = generate(generate_scene, (max_tones, duration, wts, mindur, tstep, audio_sr), constraints)\n",
    "plot_gtg(observation_trace[:scene], duration, audio_sr/2) "
   ]
  },
  {
   "cell_type": "code",
   "execution_count": null,
   "metadata": {},
   "outputs": [],
   "source": [
    "initial_trace = get_initial_trace(observation_trace, constraints);"
   ]
  },
  {
   "cell_type": "code",
   "execution_count": null,
   "metadata": {},
   "outputs": [],
   "source": [
    "trace_list, proposal_list, alpha_list = run_switch_inference(initial_trace, observation_trace, 100);"
   ]
  },
  {
   "cell_type": "code",
   "execution_count": null,
   "metadata": {},
   "outputs": [],
   "source": [
    "plot_proposals(trace_list, proposal_list)"
   ]
  },
  {
   "cell_type": "markdown",
   "metadata": {},
   "source": [
    "## Real demo"
   ]
  },
  {
   "cell_type": "code",
   "execution_count": null,
   "metadata": {},
   "outputs": [],
   "source": [
    "duration = 1.6\n",
    "\n",
    "constraints = choicemap()\n",
    "\n",
    "tone_frequencies = [1600, 400, 1270, 504, 1008, 635, 800, 800, 635, 1008,  504, 1270, 400, 1600]\n",
    "tone_ERBs = freq_to_ERB.(tone_frequencies)\n",
    "waits = [0.101, 0.201, 0.301, 0.401, 0.501, 0.601, 0.701, 0.801, 0.901, 1.001,  1.101, 1.201, 1.301, 1.401]\n",
    "\n",
    "constraints[:n_sources] = length(tone_ERBs)\n",
    "\n",
    "for j = 1:constraints[:n_sources]\n",
    "    constraints[:source => j => :n_tones] = 1\n",
    "    mu_erb = tone_ERBs[j]; mu_amp =0.9;\n",
    "    constraints[:source => j => :mu_erb] = mu_erb\n",
    "    constraints[:source => j => :mu_amp] = mu_amp\n",
    "    wait = waits[j]; dur_minus_min = 0.080\n",
    "    constraints[:source => j => (:tone, 1) => :wait] = wait\n",
    "    constraints[:source => j => (:tone, 1) => :dur_minus_min] = dur_minus_min\n",
    "    t = get_tone_sample_times([wait, wait+dur_minus_min + 0.020], tstep)\n",
    "    constraints[:source => j => (:tone, 1) => :erb]= fill(mu_erb, length(t))\n",
    "    constraints[:source => j => (:tone, 1) => :amp]= fill(mu_amp, length(t))\n",
    "end\n",
    "\n",
    "constraints[:noise] = 0.5\n",
    "\n",
    "observation_trace, _ = generate(generate_scene, (max_tones, duration, wts, mindur, tstep, audio_sr), constraints)\n",
    "plot_gtg(observation_trace[:scene], duration, audio_sr/2) "
   ]
  },
  {
   "cell_type": "code",
   "execution_count": null,
   "metadata": {},
   "outputs": [],
   "source": [
    "constraints = choicemap()\n",
    "\n",
    "tone_frequencies = [1600, 400, 1270, 504, 1008, 635, 800, 800, 635, 1008,  504, 1270, 400, 1600]\n",
    "tone_ERBs = freq_to_ERB.(tone_frequencies)\n",
    "waits = [0.101, 0.201, 0.301, 0.401, 0.501, 0.601, 0.701, 0.801, 0.901, 1.001,  1.101, 1.201, 1.301, 1.401]\n",
    "\n",
    "constraints[:n_sources] = 7\n",
    "n = 1\n",
    "for j = 1:2:length(tone_ERBs)\n",
    "    constraints[:source => n => :n_tones] = 2\n",
    "    mu_erb = tone_ERBs[j]; mu_amp =0.9;\n",
    "    constraints[:source => n => :mu_erb] = mu_erb\n",
    "    constraints[:source => n => :mu_amp] = mu_amp\n",
    "    wait = waits[j]; dur_minus_min = 0.080\n",
    "    constraints[:source => n => (:tone, 1) => :wait] = wait\n",
    "    constraints[:source => n => (:tone, 1) => :dur_minus_min] = dur_minus_min\n",
    "    t = get_tone_sample_times([wait, wait+dur_minus_min + 0.020], tstep)\n",
    "    constraints[:source => n => (:tone, 1) => :erb]= fill(mu_erb, length(t))\n",
    "    constraints[:source => n => (:tone, 1) => :amp]= fill(mu_amp, length(t))\n",
    "    \n",
    "    wait = 0.00001; dur_minus_min = 0.080\n",
    "    constraints[:source => n => (:tone, 2) => :wait] = wait\n",
    "    constraints[:source => n => (:tone, 2) => :dur_minus_min] = dur_minus_min\n",
    "    t = get_tone_sample_times([wait, wait+dur_minus_min + 0.020], tstep)\n",
    "    constraints[:source => n => (:tone, 2) => :erb]= fill(tone_ERBs[j+1], length(t))\n",
    "    constraints[:source => n => (:tone, 2) => :amp]= fill(mu_amp, length(t))\n",
    "    \n",
    "    n = n + 1\n",
    "end\n",
    "\n",
    "constraints[:noise] = 0.5\n",
    "\n",
    "observation_trace, _ = generate(generate_scene, (max_tones, duration, wts, mindur, tstep, audio_sr), constraints)\n",
    "plot_gtg(observation_trace[:scene], duration, audio_sr/2) \n",
    "initial_trace = get_initial_trace(observation_trace, constraints);"
   ]
  },
  {
   "cell_type": "code",
   "execution_count": null,
   "metadata": {},
   "outputs": [],
   "source": [
    "trace_list, proposal_list, alpha_list = run_switch_inference(initial_trace, observation_trace, 300);"
   ]
  },
  {
   "cell_type": "code",
   "execution_count": null,
   "metadata": {},
   "outputs": [],
   "source": [
    "plot_proposals(trace_list[end-2:end], proposal_list[end-2:end])"
   ]
  }
 ],
 "metadata": {
  "language_info": {
   "name": "python",
   "pygments_lexer": "ipython3"
  }
 },
 "nbformat": 4,
 "nbformat_minor": 2
}
