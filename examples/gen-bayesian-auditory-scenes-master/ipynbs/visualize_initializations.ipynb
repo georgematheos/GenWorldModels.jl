{
 "cells": [
  {
   "cell_type": "code",
   "execution_count": null,
   "metadata": {},
   "outputs": [],
   "source": [
    "using WAV;\n",
    "using Gen;\n",
    "import Random;\n",
    "include(\"model.jl\");\n",
    "include(\"plotting.jl\");\n",
    "include(\"proposals.jl\");\n",
    "include(\"gammatonegram.jl\");\n",
    "include(\"time_helpers.jl\");\n",
    "include(\"inference_helpers.jl\");\n",
    "include(\"initialization.jl\");"
   ]
  },
  {
   "cell_type": "code",
   "execution_count": null,
   "metadata": {},
   "outputs": [],
   "source": [
    "Random.seed!(1)\n",
    "println(\"Loading in command-line args...\")\n",
    "#Load in command-line arguments\n",
    "demo_name = \"stdup_compdown_f1460\"\n",
    "#['1A', '1i', '1ii', '1iii', '1iv', '1v', '2i', '2ii', '2iii', '2iv', '2v', '2vi', 'b45_small', \n",
    "#'df-15_dt150', 'df-2_dt140', 'df-5_dt80', 'homophonic-gradual', 'homophonic-sudden', \n",
    "#'nature22_0', 'stdup_compdown_f1030', 'stdup_compdown_f1460', 'stdup_compdown_f590', \n",
    "#'stdup_compdown_fnone', 'toneContinuity-basic']"
   ]
  },
  {
   "cell_type": "code",
   "execution_count": null,
   "metadata": {},
   "outputs": [],
   "source": [
    "println(\"Defining parameters...\")\n",
    "## Model parameters\n",
    "#general\n",
    "n=Dict(\"sources\"=>Dict(\"type\"=>\"max\",\"val\"=>3),\"elements\"=>Dict(\"type\"=>\"max\",\"val\"=>5))   \n",
    "audio_sr=20000; steps = Dict(\"t\"=>0.020, \"min\"=> 0.020, \"f\"=>4); \n",
    "gtg_params=Dict(\"twin\"=>0.025, \"thop\"=>0.010, \"nfilts\"=>64, \"fmin\"=>50, \"width\"=>0.50, \n",
    "    \"log_constant\"=>1e-80, \"dB_threshold\"=>20, \"ref\"=>1e-6)\n",
    "n_likelihood_samples=2"
   ]
  },
  {
   "cell_type": "code",
   "execution_count": null,
   "metadata": {},
   "outputs": [],
   "source": [
    "println(\"Loading in sound...\")\n",
    "## Inference\n",
    "#Load in sound observation and its neural network guide distribution\n",
    "demo_gram, wts, scene_duration, audio_sr = load_sound(demo_name, gtg_params)\n",
    "plot_gtg(demo_gram, scene_duration, audio_sr/2., gtg_params[\"dB_threshold\"], 80)"
   ]
  },
  {
   "cell_type": "code",
   "execution_count": null,
   "metadata": {},
   "outputs": [],
   "source": [
    "demo_guide = read_guide(demo_name)"
   ]
  },
  {
   "cell_type": "code",
   "execution_count": null,
   "metadata": {},
   "outputs": [],
   "source": [
    "println(\"Doing inference...\")\n",
    "#Sample initialization from the guide distribution \n",
    "args = (n, float(scene_duration), wts, steps, Int(audio_sr), -1, gtg_params)\n",
    "constraints = choicemap()\n",
    "constraints[:scene] = demo_gram;\n",
    "init_trace = init_from_likelihood(100, demo_guide, demo_gram, args);"
   ]
  },
  {
   "cell_type": "code",
   "execution_count": null,
   "metadata": {},
   "outputs": [],
   "source": [
    "scene_gram, = get_retval(init_trace)\n",
    "plot_gtg(scene_gram, scene_duration, audio_sr/2., 20.0, 80)"
   ]
  },
  {
   "cell_type": "code",
   "execution_count": null,
   "metadata": {},
   "outputs": [],
   "source": [
    "println(get_choices(init_trace))"
   ]
  },
  {
   "cell_type": "code",
   "execution_count": null,
   "metadata": {},
   "outputs": [],
   "source": []
  }
 ],
 "metadata": {
  "language_info": {
   "name": "python",
   "pygments_lexer": "ipython3"
  }
 },
 "nbformat": 4,
 "nbformat_minor": 2
}
