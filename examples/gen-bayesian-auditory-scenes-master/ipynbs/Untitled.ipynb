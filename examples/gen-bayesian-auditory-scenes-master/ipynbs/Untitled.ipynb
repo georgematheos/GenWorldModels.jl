{
 "cells": [
  {
   "cell_type": "code",
   "execution_count": null,
   "metadata": {},
   "outputs": [],
   "source": [
    "include(\"rendering.jl\")\n",
    "include(\"plotting.jl\") "
   ]
  },
  {
   "cell_type": "code",
   "execution_count": null,
   "metadata": {},
   "outputs": [],
   "source": [
    "steps = Dict(\"t\"=>0.020,\"f\"=>4,\"scale\"=>\"ERB\",\"min\"=>0.025)\n",
    "x, f = make_overlapping_freq_windows(1000, steps, 20000)"
   ]
  },
  {
   "cell_type": "code",
   "execution_count": null,
   "metadata": {},
   "outputs": [],
   "source": [
    "t = size(x)[1]\n",
    "f=range(1,stop=9999,length=t)\n",
    "n_channels = size(x)[2]\n",
    "for i = 1:n_channels\n",
    "    plot(f,x[:,i]);\n",
    "end\n",
    "scale = steps[\"scale\"]\n",
    "n = steps[\"f\"]\n",
    "title(\"$n $scale, n_channels=$n_channels\")\n",
    "xlabel(\"Freq (Hz)\")"
   ]
  },
  {
   "cell_type": "code",
   "execution_count": null,
   "metadata": {},
   "outputs": [],
   "source": [
    "plot(f,sum(x.^2,dims=2))\n",
    "title(\"sum of sq freq response for $n $scale filters\")\n",
    "xlabel(\"Freq (Hz)\")"
   ]
  },
  {
   "cell_type": "code",
   "execution_count": null,
   "metadata": {},
   "outputs": [],
   "source": []
  }
 ],
 "metadata": {
  "language_info": {
   "name": "python",
   "pygments_lexer": "ipython3"
  }
 },
 "nbformat": 4,
 "nbformat_minor": 2
}
