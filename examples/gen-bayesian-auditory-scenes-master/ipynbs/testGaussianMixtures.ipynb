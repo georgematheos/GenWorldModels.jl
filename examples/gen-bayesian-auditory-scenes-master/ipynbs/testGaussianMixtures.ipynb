{
 "cells": [
  {
   "cell_type": "code",
   "execution_count": null,
   "metadata": {},
   "outputs": [],
   "source": [
    "using Gen\n",
    "using GaussianMixtures\n",
    "using PyPlot\n",
    "using Logging"
   ]
  },
  {
   "cell_type": "code",
   "execution_count": null,
   "metadata": {},
   "outputs": [],
   "source": [
    "#LogLevel Zero means that @info and @logmsg will be disabled (because author of GM.jl set logmsg to -1)\n",
    "debug_gm_print = false\n",
    "LL_idx = debug_gm_print ? -1 : 0\n",
    "Logging.disable_logging(LogLevel(LL_idx))"
   ]
  },
  {
   "cell_type": "code",
   "execution_count": null,
   "metadata": {},
   "outputs": [],
   "source": [
    "# The data index (i) always be a the first (row) index\n",
    "# The feature dimension index (k) always to be a the second (column) index\n",
    "n = 1000\n",
    "features = 2\n",
    "identity = zeros(2,2)\n",
    "identity[1,1] = 1; identity[2,2] = 1;\n",
    "cov1 = zeros(2,2)\n",
    "cov1[1,1] = 1; cov1[2,2] = 3; \n",
    "cov1[1,2] = 0.1; cov1[2,1] = 0.1;\n",
    "covs = [ identity, cov1, 0.2*cov1]\n",
    "mus = [ -5*ones(2), [0.0, 3.0],  [-1.0, 0] ]\n",
    "\n",
    "X = zeros(n, 2)\n",
    "for i = 1:n\n",
    "    idx = Gen.categorical([0.4,0.2,0.4])\n",
    "    X[i,:] = mvnormal(mus[idx],covs[idx])\n",
    "end"
   ]
  },
  {
   "cell_type": "code",
   "execution_count": null,
   "metadata": {},
   "outputs": [],
   "source": [
    "nclusters = 10\n",
    "sgmm_det_2 = GaussianMixtures.GMM(nclusters, X; method=:kmeansdet, kind=:full, nInit=10, nIter=10, nFinal=10, rng_seed=3, loglevel=LL_idx)"
   ]
  },
  {
   "cell_type": "code",
   "execution_count": null,
   "metadata": {},
   "outputs": [],
   "source": [
    "for j = 1:10\n",
    "@time x = zeros(nclusters,2,2); \n",
    "@time for i=1:nclusters\n",
    "    x[i,:,:] = GaussianMixtures.covar(sgmm_det_2.Σ[i])\n",
    "end\n",
    "    println(\"~~~\")\n",
    "end\n"
   ]
  },
  {
   "cell_type": "code",
   "execution_count": null,
   "metadata": {},
   "outputs": [],
   "source": [
    "for j = 1:10\n",
    "@time x=permutedims(cat(GaussianMixtures.covars(sgmm_det_2)...,dims=3),[3,1,2]);\n",
    "end"
   ]
  },
  {
   "cell_type": "code",
   "execution_count": null,
   "metadata": {},
   "outputs": [],
   "source": [
    "sgmm = GaussianMixtures.GMM(3, X; method=:kmeans, kind=:full, nInit=10, nIter=10, nFinal=10);"
   ]
  },
  {
   "cell_type": "code",
   "execution_count": null,
   "metadata": {},
   "outputs": [],
   "source": [
    "scatter(X[:,1],X[:,2])"
   ]
  },
  {
   "cell_type": "code",
   "execution_count": null,
   "metadata": {},
   "outputs": [],
   "source": []
  },
  {
   "cell_type": "code",
   "execution_count": null,
   "metadata": {},
   "outputs": [],
   "source": [
    "# type GMM\n",
    "#     n::Int                         # number of Gaussians\n",
    "#     d::Int                         # dimension of Gaussian\n",
    "#     w::Vector                      # weights: n\n",
    "#     μ::Array                       # means: n x d\n",
    "#     Σ::Union(Array, Vector{Array}) # diagonal covariances n x d, or Vector n of d x d full covariances\n",
    "#     hist::Array{History}           # history of this GMM\n",
    "# end"
   ]
  },
  {
   "cell_type": "code",
   "execution_count": null,
   "metadata": {},
   "outputs": [],
   "source": [
    "Y = zeros(n, 2)\n",
    "for i = 1:n\n",
    "    idx = Gen.categorical(sgmm.w)\n",
    "    Y[i,:] = mvnormal(sgmm.μ[idx,:],GaussianMixtures.covar(sgmm.Σ[idx]))\n",
    "end\n",
    "scatter(X[:,1],X[:,2])\n",
    "scatter(Y[:,1],Y[:,2])\n",
    "legend([\"Actual data\", \"Sample from posterior\"])"
   ]
  },
  {
   "cell_type": "code",
   "execution_count": null,
   "metadata": {},
   "outputs": [],
   "source": [
    "sgmm_det = GaussianMixtures.GMM(3, X; method=:kmeansdet, kind=:full, nInit=10, nIter=10, nFinal=10, rng_seed=1)"
   ]
  },
  {
   "cell_type": "code",
   "execution_count": null,
   "metadata": {},
   "outputs": [],
   "source": [
    "Y = zeros(n, 2)\n",
    "for i = 1:n\n",
    "    idx = Gen.categorical(sgmm_det.w)\n",
    "    Y[i,:] = mvnormal(sgmm_det.μ[idx,:],GaussianMixtures.covar(sgmm_det.Σ[idx]))\n",
    "end\n",
    "scatter(X[:,1],X[:,2],alpha=0.1)\n",
    "scatter(Y[:,1],Y[:,2],alpha=0.1)\n",
    "legend([\"Actual data\", \"Sample from posterior\"])"
   ]
  },
  {
   "cell_type": "code",
   "execution_count": null,
   "metadata": {},
   "outputs": [],
   "source": [
    "sgmm_det = GaussianMixtures.GMM(3, X; method=:kmeansdet, kind=:full, nInit=10, nIter=10, nFinal=10, rng_seed=1)"
   ]
  },
  {
   "cell_type": "code",
   "execution_count": null,
   "metadata": {},
   "outputs": [],
   "source": [
    "nclusters = 2\n",
    "sgmm_det_2 = GaussianMixtures.GMM(nclusters, X; method=:kmeansdet, kind=:full, nInit=10, nIter=10, nFinal=10, rng_seed=3)"
   ]
  },
  {
   "cell_type": "code",
   "execution_count": null,
   "metadata": {},
   "outputs": [],
   "source": [
    "sgmm_det_3 = GaussianMixtures.GMM(nclusters, X; method=:kmeansdet, kind=:full, nInit=10, nIter=10, nFinal=10, rng_seed=3)"
   ]
  },
  {
   "cell_type": "code",
   "execution_count": null,
   "metadata": {},
   "outputs": [],
   "source": [
    "plt.figure(figsize=(8,8))\n",
    "for i = [1,2]\n",
    "    \n",
    "    sgmm_to_use = i == 1 ? sgmm_det_2 : sgmm_det_3\n",
    "\n",
    "    subplot(2,1,i)\n",
    "    Y = zeros(n, 2)\n",
    "    for i = 1:n\n",
    "        idx = Gen.categorical(sgmm_to_use.w)\n",
    "        Y[i,:] = mvnormal(sgmm_to_use.μ[idx,:],GaussianMixtures.covar(sgmm_to_use.Σ[idx]))\n",
    "    end\n",
    "    scatter(X[:,1],X[:,2],alpha=0.1)\n",
    "    scatter(Y[:,1],Y[:,2],alpha=0.1)\n",
    "    legend([\"Actual data\", \"Sample from posterior\"])\n",
    "    title(\"Run $i, with rng_seed=3 (different rng for sampling), nclusters=$nclusters\")\n",
    "    \n",
    "end\n",
    "plt.tight_layout()"
   ]
  },
  {
   "cell_type": "code",
   "execution_count": null,
   "metadata": {},
   "outputs": [],
   "source": [
    "include(\"../model/extra_distributions.jl\")\n",
    "plt.figure(figsize=(8,8))\n",
    "for i = [1]\n",
    "    \n",
    "    sgmm_to_use = i == 1 ? sgmm_det_2 \n",
    "\n",
    "#     cs = zeros(nclusters, 2, 2)\n",
    "#     for idx=1:nclusters\n",
    "#         cs[idx,:,:] = GaussianMixtures.covar(sgmm_to_use.Σ[idx])\n",
    "#     end\n",
    "    cs = GaussianMixtures.covars\n",
    "    \n",
    "    subplot(2,1,i)\n",
    "    Y = zeros(n, 2)\n",
    "    for i = 1:n\n",
    "        Y[i,:] = Gen.random(mvn_mixture,sgmm_to_use.μ,cs,sgmm_to_use.w)\n",
    "    end\n",
    "    scatter(X[:,1],X[:,2],alpha=0.1)\n",
    "    scatter(Y[:,1],Y[:,2],alpha=0.1)\n",
    "    legend([\"Actual data\", \"Sample from posterior\"])\n",
    "    title(\"Using Gen.random mvn_mixture: Run $i, with rng_seed=3 for inference, nclusters=$nclusters\")\n",
    "    \n",
    "end\n",
    "plt.tight_layout()"
   ]
  },
  {
   "cell_type": "code",
   "execution_count": null,
   "metadata": {},
   "outputs": [],
   "source": []
  }
 ],
 "metadata": {
  "language_info": {
   "name": "python",
   "pygments_lexer": "ipython3"
  }
 },
 "nbformat": 4,
 "nbformat_minor": 2
}
