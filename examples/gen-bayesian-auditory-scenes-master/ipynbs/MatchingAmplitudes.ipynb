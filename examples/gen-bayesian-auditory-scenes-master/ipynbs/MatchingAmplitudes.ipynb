{
 "cells": [
  {
   "cell_type": "code",
   "execution_count": null,
   "metadata": {},
   "outputs": [],
   "source": [
    "using WAV;\n",
    "using Gen;\n",
    "import Random;\n",
    "include(\"model.jl\");\n",
    "include(\"plotting.jl\");\n",
    "include(\"proposals.jl\");\n",
    "include(\"gammatonegram.jl\");\n",
    "include(\"time_helpers.jl\");\n",
    "include(\"inference_helpers.jl\");\n",
    "include(\"initialization.jl\");\n",
    "\n",
    "Random.seed!(1);"
   ]
  },
  {
   "cell_type": "code",
   "execution_count": null,
   "metadata": {},
   "outputs": [],
   "source": [
    "println(\"Loading in command-line args...\")\n",
    "#Load in command-line arguments\n",
    "paper_name = \"mcDermottOxenham2008/fig2/\"\n",
    "demo_name = string(paper_name, \"2i\");\n",
    "f = open(string(\"./sounds/\",paper_name, \"parameters.json\"),\"r\")\n",
    "dt = read(f,String)\n",
    "sound_gen_params = JSON.parse(dt)\n",
    "close(f)"
   ]
  },
  {
   "cell_type": "code",
   "execution_count": null,
   "metadata": {},
   "outputs": [],
   "source": [
    "n=Dict(\"sources\"=>Dict(\"type\"=>\"max\",\"val\"=>5),\"elements\"=>Dict(\"type\"=>\"max\",\"val\"=>5))   \n",
    "audio_sr=20000; steps = Dict(\"t\"=>0.020, \"min\"=> 0.020, \"f\"=>4); \n",
    "gtg_params=Dict(\"twin\"=>0.025, \"thop\"=>0.010, \"nfilts\"=>64, \"fmin\"=>50, \"width\"=>1.0, \"log_constant\"=>1e-80, \"dB_threshold\"=>20, \"ref\"=>1e-4)\n",
    "\n",
    "## Inference parameters\n",
    "annealing_noise = -1\n",
    "\n",
    "println(\"Loading in sound...\")\n",
    "## Inference\n",
    "#Load in sound observation and its neural network guide distribution\n",
    "demo_gram, wts, scene_duration, audio_sr = load_sound(demo_name, gtg_params)\n",
    "# demo_guide = read_guide(demo_name)\n",
    "plot_gtg(demo_gram,scene_duration,audio_sr/2,gtg_params[\"dB_threshold\"],gtg_params[\"dB_threshold\"]+60.);\n",
    "\n",
    "args = (n, float(scene_duration), wts, steps, Int(audio_sr), annealing_noise, gtg_params)"
   ]
  },
  {
   "cell_type": "code",
   "execution_count": null,
   "metadata": {},
   "outputs": [],
   "source": [
    "demo_gram"
   ]
  },
  {
   "cell_type": "code",
   "execution_count": null,
   "metadata": {},
   "outputs": [],
   "source": [
    "scene_duration = round(1.5*rand() + 0.5,digits=3)\n",
    "args = (n, float(scene_duration), wts, steps, Int(audio_sr), annealing_noise, gtg_params)\n",
    "\n",
    "trace, = generate(generate_scene, args);\n",
    "scene_gram, t, scene_wave, element_waves = get_retval(trace)\n",
    "plot_gtg(scene_gram,scene_duration,audio_sr/2,gtg_params[\"dB_threshold\"],gtg_params[\"dB_threshold\"]+70.);"
   ]
  },
  {
   "cell_type": "code",
   "execution_count": null,
   "metadata": {},
   "outputs": [],
   "source": [
    "###Get all cochleagrams and masks\n",
    "element_grams = Array{Float64}(undef, 0, size(scene_gram)[2], size(scene_gram)[1]) #nElements t f \n",
    "elements_to_keep = []\n",
    "for i = 1:length(element_waves)\n",
    "    source_elements_to_keep = []\n",
    "    for j = 1:length(element_waves[i])\n",
    "        gtg, t = gammatonegram(element_waves[i][j],wts,audio_sr,gtg_params)\n",
    "        gtg = reshape(gtg, (size(gtg)[1], size(gtg)[2], 1))\n",
    "        gtg = permutedims(gtg, [3, 2, 1]) \n",
    "        element_grams = i == 1 && j == 1 ? gtg : cat(element_grams, gtg; dims=1)\n",
    "        push!(source_elements_to_keep, all(gtg .== gtg_params[\"dB_threshold\"]) ? 0 : 1)\n",
    "    end\n",
    "    push!(elements_to_keep, source_elements_to_keep)\n",
    "end\n",
    "tokeep(x) = x == 1\n",
    "idx_to_keep = findall(tokeep, vcat(elements_to_keep...))\n",
    "element_grams = element_grams[idx_to_keep, :, :]\n",
    "s = sum([sum(j) for j in elements_to_keep])\n",
    "\n",
    "element_thresh = element_grams .== gtg_params[\"dB_threshold\"]\n",
    "r=trues(1,size(element_grams)[2],size(element_grams)[3])\n",
    "all!(r,element_thresh)\n",
    "z=zeros(size(element_grams))\n",
    "vals, idxs = findmax(element_grams, dims=1)\n",
    "for idx in idxs\n",
    "    z[idx] = 1\n",
    "end\n",
    "z[1,:,:] = z[1,:,:] .* .!r[1,:,:];\n",
    "plt.imshow(permutedims(z[10,:,end:-1:1],[2,1]))"
   ]
  },
  {
   "cell_type": "code",
   "execution_count": null,
   "metadata": {},
   "outputs": [],
   "source": []
  }
 ],
 "metadata": {
  "language_info": {
   "name": "python",
   "pygments_lexer": "ipython3"
  }
 },
 "nbformat": 4,
 "nbformat_minor": 2
}
