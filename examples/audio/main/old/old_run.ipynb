{
 "cells": [
  {
   "cell_type": "code",
   "execution_count": null,
   "metadata": {},
   "outputs": [],
   "source": [
    "]activate .."
   ]
  },
  {
   "cell_type": "code",
   "execution_count": null,
   "metadata": {},
   "outputs": [],
   "source": [
    "include(\"main.jl\")"
   ]
  },
  {
   "cell_type": "code",
   "execution_count": null,
   "metadata": {},
   "outputs": [],
   "source": [
    "using .AudioInference"
   ]
  },
  {
   "cell_type": "code",
   "execution_count": null,
   "metadata": {},
   "outputs": [],
   "source": [
    "trr = tones_with_noise(10.); nothing"
   ]
  },
  {
   "cell_type": "code",
   "execution_count": null,
   "metadata": {},
   "outputs": [],
   "source": [
    "vis_and_write_wave(trr, \"trr.wav\")"
   ]
  },
  {
   "cell_type": "code",
   "execution_count": null,
   "metadata": {},
   "outputs": [],
   "source": [
    "AudioInference.savefig(\"truth.pdf\")"
   ]
  },
  {
   "cell_type": "code",
   "execution_count": null,
   "metadata": {},
   "outputs": [],
   "source": [
    "(initial_tr, weight) = generate_initial_tr(trr)\n",
    "weight"
   ]
  },
  {
   "cell_type": "code",
   "execution_count": null,
   "metadata": {},
   "outputs": [],
   "source": [
    "using PyPlot\n",
    "using Dates"
   ]
  },
  {
   "cell_type": "code",
   "execution_count": null,
   "metadata": {},
   "outputs": [],
   "source": [
    "function get_avg_likelihoods(initial_trs, run_inf!, iters)\n",
    "  likelihoods = zeros(Float64, iters)\n",
    "  times = zeros(Float64, iters)\n",
    "  starttime = Dates.now()\n",
    "  run_inf!(initial_tr, 20, (tr,) -> nothing) # compilation run\n",
    "  for (i, initial_tr) in enumerate(initial_trs)\n",
    "    print(\"Running trial $i...;\")\n",
    "    println(\" $(Dates.now() - starttime) ms ellapsed in total\")\n",
    "    (l, t, record!) = AudioInference.get_worldmodel_likelihood_time_tracker_and_recorder()\n",
    "    run_inf!(initial_tr, iters, record!)\n",
    "    likelihoods += l\n",
    "    times += t\n",
    "  end\n",
    "  likelihoods /= length(initial_trs)\n",
    "  times /= length(initial_trs)\n",
    "  return (times, likelihoods)\n",
    "end"
   ]
  },
  {
   "cell_type": "code",
   "execution_count": null,
   "metadata": {},
   "outputs": [],
   "source": [
    "#initial_trs = [AudioInference.simulate(AudioInference.generate_scene, AudioInference.args) for _=1:5]"
   ]
  },
  {
   "cell_type": "code",
   "execution_count": null,
   "metadata": {},
   "outputs": [],
   "source": [
    "(generic_times, generic_likelihoods) = get_avg_likelihoods(fill(initial_tr,5), AudioInference.do_generic_inference, 180)\n",
    "plot(generic_times, generic_likelihoods)"
   ]
  },
  {
   "cell_type": "code",
   "execution_count": null,
   "metadata": {},
   "outputs": [],
   "source": [
    "(bd_times, bd_likelihoods) = get_avg_likelihoods(fill(initial_tr,5), AudioInference.do_birth_death_inference, 200)\n",
    "plot(bd_times, bd_likelihoods)"
   ]
  },
  {
   "cell_type": "code",
   "execution_count": null,
   "metadata": {},
   "outputs": [],
   "source": [
    "(sm_times, sm_likelihoods) = get_avg_likelihoods(fill(initial_tr,5), AudioInference.do_split_merge_inference, 100)\n",
    "plot(sm_times, sm_likelihoods)"
   ]
  },
  {
   "cell_type": "code",
   "execution_count": null,
   "metadata": {},
   "outputs": [],
   "source": [
    "TIME_CAP = 7.0\n",
    "g_indices = filter(i -> generic_times[i] < TIME_CAP, 1:length(generic_times))\n",
    "bd_indices = filter(i -> bd_times[i] < TIME_CAP, 1:length(bd_times))\n",
    "sm_indices = filter(i -> sm_times[i] < TIME_CAP, 1:length(sm_times))\n",
    "nothing"
   ]
  },
  {
   "cell_type": "code",
   "execution_count": null,
   "metadata": {},
   "outputs": [],
   "source": [
    "POINT_SIZE = 8\n",
    "scatter(generic_times[g_indices], generic_likelihoods[g_indices], label=\"generic\", s=POINT_SIZE)\n",
    "scatter(bd_times[bd_indices], bd_likelihoods[bd_indices], label=\"birth/death\", s=POINT_SIZE)\n",
    "scatter(sm_times[sm_indices], sm_likelihoods[sm_indices], label=\"split/merge\", s=POINT_SIZE)\n",
    "xlabel(\"time (s)\")\n",
    "ylabel(\"log likelihood of observed sound given inferred waves\")\n",
    "title(\"Quality of inferred waveforms over time\")\n",
    "legend(loc=\"lower right\")"
   ]
  },
  {
   "cell_type": "code",
   "execution_count": null,
   "metadata": {},
   "outputs": [],
   "source": [
    "(generic_times2, generic_likelihoods2) = get_avg_likelihoods(fill(initial_tr,20), AudioInference.do_generic_inference, 540)\n",
    "plot(generic_times2, generic_likelihoods2)"
   ]
  },
  {
   "cell_type": "code",
   "execution_count": null,
   "metadata": {},
   "outputs": [],
   "source": [
    "(bd_times2, bd_likelihoods2) = get_avg_likelihoods(fill(initial_tr,20), AudioInference.do_birth_death_inference, 600)\n",
    "plot(bd_times2, bd_likelihoods2)"
   ]
  },
  {
   "cell_type": "code",
   "execution_count": null,
   "metadata": {},
   "outputs": [],
   "source": [
    "(sm_times2, sm_likelihoods2) = get_avg_likelihoods(fill(initial_tr,20), AudioInference.do_split_merge_inference, 400)\n",
    "plot(sm_times2, sm_likelihoods2)"
   ]
  },
  {
   "cell_type": "code",
   "execution_count": null,
   "metadata": {},
   "outputs": [],
   "source": [
    "TIME_CAP = 30.0\n",
    "g_indices2 = filter(i -> generic_times2[i] < TIME_CAP, 1:length(generic_times2))\n",
    "bd_indices2 = filter(i -> bd_times2[i] < TIME_CAP, 1:length(bd_times2))\n",
    "sm_indices2 = filter(i -> sm_times2[i] < TIME_CAP, 1:length(sm_times2))\n",
    "nothing"
   ]
  },
  {
   "cell_type": "code",
   "execution_count": null,
   "metadata": {},
   "outputs": [],
   "source": [
    "ax = gca()\n",
    "ax[:set_ylim]([-400000, 0])\n",
    "POINT_SIZE = 1\n",
    "scatter(generic_times2[g_indices2], generic_likelihoods2[g_indices2], label=\"generic\", s=POINT_SIZE)\n",
    "scatter(bd_times2[bd_indices2], bd_likelihoods2[bd_indices2], label=\"birth/death\", s=POINT_SIZE)\n",
    "scatter(sm_times2[sm_indices2], sm_likelihoods2[sm_indices2], label=\"split/merge\", s=POINT_SIZE)\n",
    "xlabel(\"time (s)\")\n",
    "ylabel(\"log likelihood of observed sound given inferred waves\")\n",
    "title(\"Quality of inferred waveforms over time\")\n",
    "legend(loc=\"lower right\")"
   ]
  },
  {
   "cell_type": "code",
   "execution_count": null,
   "metadata": {},
   "outputs": [],
   "source": []
  },
  {
   "cell_type": "code",
   "execution_count": null,
   "metadata": {},
   "outputs": [],
   "source": []
  },
  {
   "cell_type": "code",
   "execution_count": null,
   "metadata": {},
   "outputs": [],
   "source": []
  },
  {
   "cell_type": "code",
   "execution_count": null,
   "metadata": {},
   "outputs": [],
   "source": []
  },
  {
   "cell_type": "code",
   "execution_count": null,
   "metadata": {},
   "outputs": [],
   "source": []
  },
  {
   "cell_type": "code",
   "execution_count": null,
   "metadata": {},
   "outputs": [],
   "source": []
  },
  {
   "cell_type": "code",
   "execution_count": null,
   "metadata": {},
   "outputs": [],
   "source": [
    "function get_avg_likelihoods_and_counts(initial_trs, run_inf!, iters)\n",
    "  likelihoods = zeros(Float64, iters)\n",
    "  counts = []\n",
    "  starttime = Dates.now()\n",
    "  for (i, initial_tr) in enumerate(initial_trs)\n",
    "    print(\"Running trial $i...;\")\n",
    "    println(\" $(Dates.now() - starttime) ms ellapsed in total\")\n",
    "    (l, record!) = AudioInference.get_worldmodel_likelihood_tracker_and_recorder()\n",
    "    tr = run_inf!(initial_tr, iters, record!)\n",
    "    push!(counts, tr[:kernel => :n_tones])\n",
    "    likelihoods += l\n",
    "  end\n",
    "  likelihoods /= length(initial_trs)\n",
    "  return (likelihoods, counts)\n",
    "end"
   ]
  },
  {
   "cell_type": "code",
   "execution_count": null,
   "metadata": {},
   "outputs": [],
   "source": [
    "(l, c) = get_avg_likelihoods_and_counts(fill(initial_tr,2), AudioInference.do_birth_death_inference, 600)\n",
    "c"
   ]
  },
  {
   "cell_type": "code",
   "execution_count": null,
   "metadata": {},
   "outputs": [],
   "source": [
    "(l, c) = get_avg_likelihoods_and_counts(fill(initial_tr,2), AudioInference.do_split_merge_inference, 600)\n",
    "c"
   ]
  },
  {
   "cell_type": "code",
   "execution_count": null,
   "metadata": {},
   "outputs": [],
   "source": [
    "using Pkg; Pkg.add(\"ProfileView\")"
   ]
  },
  {
   "cell_type": "code",
   "execution_count": null,
   "metadata": {},
   "outputs": [],
   "source": [
    "using Profile; using ProfileView;"
   ]
  },
  {
   "cell_type": "code",
   "execution_count": null,
   "metadata": {},
   "outputs": [],
   "source": [
    "@profile get_avg_likelihoods_and_counts(fill(initial_tr,5), AudioInference.do_split_merge_inference, 600)"
   ]
  },
  {
   "cell_type": "code",
   "execution_count": null,
   "metadata": {},
   "outputs": [],
   "source": [
    "ProfileView.view()"
   ]
  },
  {
   "cell_type": "code",
   "execution_count": null,
   "metadata": {},
   "outputs": [],
   "source": [
    "function plot_gtg(gtg, duration, audio_sr, vmin, vmax;colors=\"Blues\",plot_colorbar=false)\n",
    "    \n",
    "    max_freq=audio_sr/2\n",
    "    imshow(gtg, cmap=colors, origin=\"lower\", extent=(0, duration, 0, max_freq),vmin=vmin, vmax=vmax, aspect=1/1300)\n",
    "    locs, labels = yticks();\n",
    "    lowlim = AudioInference.freq_to_ERB(1.)\n",
    "    hilim = AudioInference.freq_to_ERB(max_freq)\n",
    "    fs = Int.(floor.(AudioInference.ERB_to_freq(range(lowlim, stop=hilim, length=length(locs)))))\n",
    "    setp(gca().set_yticklabels(fs), fontsize=\"small\")\n",
    "    if plot_colorbar\n",
    "        plt.colorbar()\n",
    "    end\n",
    "end"
   ]
  },
  {
   "cell_type": "code",
   "execution_count": null,
   "metadata": {},
   "outputs": [],
   "source": [
    "function vis(tr)\n",
    "    duration, _, sr, = AudioInference.get_args(tr)\n",
    "    gram, scene_wave, = AudioInference.get_retval(tr)\n",
    "  #  wavwrite(scene_wave/maximum(abs.(scene_wave)), title, Fs=sr)\n",
    " # display(gram)\n",
    "    plot_gtg(gram, duration, sr, 0, 100)\n",
    "end"
   ]
  },
  {
   "cell_type": "code",
   "execution_count": null,
   "metadata": {},
   "outputs": [],
   "source": [
    "trr = tones_with_noise(10.); nothing"
   ]
  },
  {
   "cell_type": "code",
   "execution_count": null,
   "metadata": {},
   "outputs": [],
   "source": [
    "vis(trr)"
   ]
  },
  {
   "cell_type": "code",
   "execution_count": null,
   "metadata": {},
   "outputs": [],
   "source": [
    "tr = AudioInference.do_birth_death_inference(initial_tr, 500, (tr,) -> ())"
   ]
  },
  {
   "cell_type": "code",
   "execution_count": null,
   "metadata": {},
   "outputs": [],
   "source": [
    "vis(tr)"
   ]
  },
  {
   "cell_type": "code",
   "execution_count": null,
   "metadata": {},
   "outputs": [],
   "source": []
  }
 ],
 "metadata": {
  "language_info": {
   "name": "python",
   "pygments_lexer": "ipython3"
  }
 },
 "nbformat": 4,
 "nbformat_minor": 2
}
