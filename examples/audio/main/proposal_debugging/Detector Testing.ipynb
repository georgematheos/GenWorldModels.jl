{
 "cells": [
  {
   "cell_type": "code",
   "execution_count": null,
   "metadata": {},
   "outputs": [],
   "source": [
    "]activate ../.."
   ]
  },
  {
   "cell_type": "markdown",
   "metadata": {},
   "source": [
    "### Includes, Drawing Utils:"
   ]
  },
  {
   "cell_type": "code",
   "execution_count": null,
   "metadata": {},
   "outputs": [],
   "source": [
    "using Gen\n",
    "using GenWorldModels"
   ]
  },
  {
   "cell_type": "code",
   "execution_count": null,
   "metadata": {},
   "outputs": [],
   "source": [
    "include(\"../main.jl\")\n",
    "AI = AudioInference"
   ]
  },
  {
   "cell_type": "code",
   "execution_count": null,
   "metadata": {},
   "outputs": [],
   "source": [
    "function img_with_tones(img, tones, val=100)\n",
    "  img = copy(img)\n",
    "  for tone in tones\n",
    "    add_tone_to_img!(img, tone; val=val)\n",
    "  end\n",
    "  return img\n",
    "end\n",
    "\n",
    "function add_tone_to_img!(img, tone; val=100)\n",
    "  (region, erb) = tone\n",
    "  yval = Int(floor(AudioInference.pos_for_erb_val(erb)))\n",
    "  for i=region[1]:region[2]\n",
    "    img[yval, i] = val\n",
    "  end\n",
    "end"
   ]
  },
  {
   "cell_type": "code",
   "execution_count": null,
   "metadata": {},
   "outputs": [],
   "source": [
    "function add_vert_bars(img, xvals; val=100)\n",
    "  img = copy(img)\n",
    "  for xval in xvals\n",
    "    add_vert_bar!(img, xval, val=val)\n",
    "  end\n",
    "  img\n",
    "end\n",
    "function add_vert_bar!(img, xval; val=100)\n",
    "    img[:, xval] .= val\n",
    "end"
   ]
  },
  {
   "cell_type": "code",
   "execution_count": null,
   "metadata": {},
   "outputs": [],
   "source": [
    "function draw_rect!(img, ((x1, y1), (x2, y2)); color=100)\n",
    "  for x=x1:min(x2, size(img)[1])\n",
    "    img[x, min(y1, size(img)[2])] = color\n",
    "    img[x, min(y2, size(img)[2])] = color\n",
    "  end\n",
    "  for y=y1:min(y2, size(img)[2])\n",
    "    img[min(x1, size(img)[1]), y] = color\n",
    "    img[min(x2, size(img)[1]), y] = color\n",
    "  end\n",
    "end\n",
    "function img_with_rects(img, rects; color=100)\n",
    "  img = copy(img)\n",
    "  for rect in rects\n",
    "    draw_rect!(img, rect; color=color)\n",
    "  end\n",
    "  return img\n",
    "end"
   ]
  },
  {
   "cell_type": "code",
   "execution_count": null,
   "metadata": {},
   "outputs": [],
   "source": [
    "function add_vert_segs(img, segs; val=100)\n",
    "  img = copy(img)\n",
    "  for seg in segs\n",
    "    add_vert_seg!(img, seg, val=val)\n",
    "  end\n",
    "  img\n",
    "end\n",
    "function add_vert_seg!(img, seg; val=100)\n",
    "    for y=seg.ymin:min(seg.ymax, size(img)[1])\n",
    "      img[y, seg.x] = val\n",
    "  end\n",
    "end"
   ]
  },
  {
   "cell_type": "markdown",
   "metadata": {},
   "source": [
    "### Testing Detector"
   ]
  },
  {
   "cell_type": "code",
   "execution_count": null,
   "metadata": {},
   "outputs": [],
   "source": [
    "include(\"../detector.jl\")"
   ]
  },
  {
   "cell_type": "markdown",
   "metadata": {},
   "source": [
    "Util to visualize source(s):"
   ]
  },
  {
   "cell_type": "code",
   "execution_count": null,
   "metadata": {},
   "outputs": [],
   "source": [
    "function img_with_sources(img, sources, scenelength; val=100)\n",
    "  img = copy(img)\n",
    "  for s in sources\n",
    "    add_source_to_img!(img, s, scenelength)\n",
    "  end\n",
    "  img\n",
    "end\n",
    "function add_source_to_img!(img, source, scenelength; val=100)\n",
    "  if source.is_noise\n",
    "    add_noise_to_img!(img, source, scenelength)\n",
    "  else\n",
    "    add_tone_to_img!(img, source, scenelength)\n",
    "  end\n",
    "end\n",
    "function add_tone_to_img!(img, source, scenelength; val=100)\n",
    "  y = Int(floor(Detector.pos_for_erb_val(source.amp_or_erb)))\n",
    "  xwidth = size(img)[2]\n",
    "  start = Int(floor(source.onset/scenelength * xwidth))\n",
    "  dur = Int(floor(source.duration/scenelength * xwidth))\n",
    "  for x=start:min(start + dur, xwidth)\n",
    "    img[y, x] = val\n",
    "  end\n",
    "end\n",
    "function add_noise_to_img!(img, source, scenelength; val=100)\n",
    "  xwidth = size(img)[2]\n",
    "  start = Int(floor(source.onset/scenelength * xwidth))\n",
    "  dur = Int(floor(source.duration/scenelength * xwidth))\n",
    "  draw_rect!(img, ((1, start), (size(img)[1], min(start + dur, xwidth))); color=val)\n",
    "end"
   ]
  },
  {
   "cell_type": "code",
   "execution_count": null,
   "metadata": {},
   "outputs": [],
   "source": [
    "function rect_for_source(img, source, scenelength)\n",
    "  TONESIZE = 10\n",
    "  xwidth = size(img)[2]\n",
    "  start = Int(floor(source.onset/scenelength * xwidth))\n",
    "  dur = Int(floor(source.duration/scenelength * xwidth))\n",
    "  xmin, xmax = start, min(start + dur, xwidth)\n",
    "  if !source.is_noise\n",
    "    y = Int(floor(Detector.pos_for_erb_val(source.amp_or_erb)))\n",
    "    ymin, ymax = max(1, y-Int(TONESIZE/2)), min(size(img)[1], y+Int(TONESIZE/2))\n",
    "  else\n",
    "    ymin, ymax = 1, size(img)[1]\n",
    "  end\n",
    "  return ((ymin, xmin), (ymax, xmax))\n",
    "end"
   ]
  },
  {
   "cell_type": "code",
   "execution_count": null,
   "metadata": {},
   "outputs": [],
   "source": [
    "function img_with_source_rects(img, sources, scenelength; val=100)\n",
    "  img = copy(img)\n",
    "  for s in sources\n",
    "    draw_rect!(img, rect_for_source(img, s, scenelength); color=val)\n",
    "  end\n",
    "  img\n",
    "end"
   ]
  },
  {
   "cell_type": "markdown",
   "metadata": {},
   "source": [
    "Test rectangle detecting:"
   ]
  },
  {
   "cell_type": "code",
   "execution_count": null,
   "metadata": {},
   "outputs": [],
   "source": [
    "ground_truth, _ = generate(AI.generate_scene, AI.args, choicemap((:kernel => :n_tones, 4)))\n",
    "initial_tr, weight = AI.generate_initial_tr(ground_truth, num_sources=0)\n",
    "gram = AI.error_gram(initial_tr)\n",
    "AI.plot_gtg(img_with_rects(gram, Iterators.flatten(Detector.get_noise_tone_rects(gram; threshold=0.3))))"
   ]
  },
  {
   "cell_type": "code",
   "execution_count": null,
   "metadata": {},
   "outputs": [],
   "source": [
    "sources = Detector.get_detected_sources(gram; threshold=0.3, scenelength=2.)\n",
    "AI.plot_gtg(img_with_source_rects(gram, sources, 2))"
   ]
  },
  {
   "cell_type": "code",
   "execution_count": null,
   "metadata": {},
   "outputs": [],
   "source": [
    "s = Detector.get_noise_tone_rects(gram; threshold=0.4)[2][2]\n",
    "AI.plot_gtg(img_with_rects(gram, (s,)))"
   ]
  },
  {
   "cell_type": "code",
   "execution_count": null,
   "metadata": {},
   "outputs": [],
   "source": [
    "s"
   ]
  },
  {
   "cell_type": "code",
   "execution_count": null,
   "metadata": {},
   "outputs": [],
   "source": [
    "AI.plot_gtg(img_with_sources(gram, (Detector.tonesource(s, gram, 2.),), 2))"
   ]
  },
  {
   "cell_type": "code",
   "execution_count": null,
   "metadata": {},
   "outputs": [],
   "source": [
    "((miny, minx), (maxy, maxx)) = s\n",
    "println(\"mean y: \", (miny + maxy) / 2)\n",
    "erb = Detector.tone_erb_for_val((miny + maxy)/2)\n",
    "println(\"erb: \", erb)\n",
    "println(\"back to yval: \", Detector.pos_for_erb_val(erb))"
   ]
  },
  {
   "cell_type": "code",
   "execution_count": null,
   "metadata": {},
   "outputs": [],
   "source": []
  },
  {
   "cell_type": "code",
   "execution_count": null,
   "metadata": {},
   "outputs": [],
   "source": [
    "λ = 2"
   ]
  },
  {
   "cell_type": "code",
   "execution_count": null,
   "metadata": {},
   "outputs": [],
   "source": [
    "\"\"\"\n",
    "    score(gram, s::Source; threshold=0.5)\n",
    "\n",
    "The score of a birth action gives a heuristic estimate of how \"good\" it is to add this object.\n",
    "This score is calculated by inspecting the rough rectangle in which the tone/noise will be placed,\n",
    "and counting how many pixels in the errorgram are \"on\", minus how many are off.  We normalize this by dividing\n",
    "by the rectangle area, to get a measure of \"fraction_improvement\"\n",
    "(what fraction of the area is an improvement, minus the fraction that makes things worse).\n",
    "The score is e^(λ * improvement).\n",
    "\"\"\"\n",
    "function score(gram, s::Detector.Source; threshold=0.5)\n",
    "    ((miny, minx), (maxy, maxx)) = rect_for_source(gram, s, 2)\n",
    "    gram = @view gram[miny:maxy, minx:maxx]\n",
    "    maxval = maximum(gram)\n",
    "    greater_than_threshold = gram .> maxval * threshold\n",
    "    less_than_threshold = gram .< maxval * threshold\n",
    "    area = (maxx - minx) * (maxy - miny)\n",
    "    improvement = (sum(greater_than_threshold) - sum(less_than_threshold))/area\n",
    "    return exp(λ * improvement)\n",
    "end\n"
   ]
  },
  {
   "cell_type": "code",
   "execution_count": null,
   "metadata": {},
   "outputs": [],
   "source": [
    "for source in Detector.get_detected_sources(gram; threshold=0.3, scenelength=2)\n",
    "  println(\"SCORE: \", score(gram, source; threshold=0.3))\n",
    "  AI.plot_gtg(img_with_source_rects(gram, (source,), 2))\n",
    "  AI.PyPlot.figure()\n",
    "end"
   ]
  },
  {
   "cell_type": "code",
   "execution_count": null,
   "metadata": {},
   "outputs": [],
   "source": []
  },
  {
   "cell_type": "code",
   "execution_count": null,
   "metadata": {},
   "outputs": [],
   "source": []
  },
  {
   "cell_type": "code",
   "execution_count": null,
   "metadata": {},
   "outputs": [],
   "source": []
  }
 ],
 "metadata": {
  "language_info": {
   "name": "python",
   "pygments_lexer": "ipython3"
  }
 },
 "nbformat": 4,
 "nbformat_minor": 2
}
