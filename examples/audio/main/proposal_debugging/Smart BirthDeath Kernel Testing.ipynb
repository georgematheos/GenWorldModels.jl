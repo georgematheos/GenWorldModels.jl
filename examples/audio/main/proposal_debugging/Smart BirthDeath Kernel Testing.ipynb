{
 "cells": [
  {
   "cell_type": "code",
   "execution_count": null,
   "metadata": {},
   "outputs": [],
   "source": [
    "]activate ../.."
   ]
  },
  {
   "cell_type": "code",
   "execution_count": null,
   "metadata": {},
   "outputs": [],
   "source": [
    "using Gen\n",
    "using GenWorldModels"
   ]
  },
  {
   "cell_type": "code",
   "execution_count": null,
   "metadata": {},
   "outputs": [],
   "source": [
    "include(\"../main.jl\")\n",
    "AI = AudioInference\n",
    "using .AI: AudioSource, gammatonegram"
   ]
  },
  {
   "cell_type": "code",
   "execution_count": null,
   "metadata": {},
   "outputs": [],
   "source": [
    "include(\"../worldmodel/smart_birth_death.jl\")"
   ]
  },
  {
   "cell_type": "code",
   "execution_count": null,
   "metadata": {},
   "outputs": [],
   "source": [
    "ground_truth, _ = generate(AI.generate_scene, AI.args, choicemap((:kernel => :n_tones, 4)))\n",
    "initial_tr, weight = AI.generate_initial_tr(ground_truth, num_sources=0)\n",
    "gram = AI.error_gram(initial_tr)\n",
    "AI.plot_gtg(gram)"
   ]
  },
  {
   "cell_type": "code",
   "execution_count": null,
   "metadata": {},
   "outputs": [],
   "source": []
  },
  {
   "cell_type": "code",
   "execution_count": null,
   "metadata": {},
   "outputs": [],
   "source": [
    "tr, acc = mh(initial_tr, smart_birth_death_mh_kern; check=true)\n",
    "println(\"acc: \", acc)"
   ]
  },
  {
   "cell_type": "code",
   "execution_count": null,
   "metadata": {},
   "outputs": [],
   "source": [
    "AI.plot_gtg(underlying_gram(tr))"
   ]
  },
  {
   "cell_type": "code",
   "execution_count": null,
   "metadata": {},
   "outputs": [],
   "source": [
    "total_acc = 0\n",
    "for _=1:20\n",
    "  tr, acc = mh(tr, smart_birth_death_mh_kern; check=true)\n",
    "  total_acc += acc\n",
    "end\n",
    "println(\"Total number accepted: \", total_acc)"
   ]
  },
  {
   "cell_type": "code",
   "execution_count": null,
   "metadata": {},
   "outputs": [],
   "source": []
  },
  {
   "cell_type": "code",
   "execution_count": null,
   "metadata": {},
   "outputs": [],
   "source": [
    "function iterated_birth_death(tr, bd_kernel, accumulated_weight=0; check=true)\n",
    "  (new_tr, weight) = bd_kernel(tr; check=check)\n",
    "  accumulated_weight += weight\n",
    "  stop_prob = exp(accumulated_weight) > 0.5 ? 0.99 : 0.25\n",
    "  if bernoulli(stop_prob)\n",
    "    return (new_tr, accumulated_weight)\n",
    "  else\n",
    "    return iterated_birth_death(new_tr, bd_kernel, accumulated_weight; check=check)\n",
    "  end\n",
    "end"
   ]
  },
  {
   "cell_type": "code",
   "execution_count": null,
   "metadata": {},
   "outputs": [],
   "source": []
  },
  {
   "cell_type": "code",
   "execution_count": null,
   "metadata": {},
   "outputs": [],
   "source": [
    "total_acc = 0\n",
    "for _=1:20\n",
    "  new_tr, weight = iterated_birth_death(tr, smart_birth_death_mh_kern; check=true)\n",
    "  if bernoulli(weight)\n",
    "    total_acc += 1\n",
    "    tr = new_tr\n",
    "  end\n",
    "end\n",
    "println(\"Total number accepted: \", total_acc)"
   ]
  },
  {
   "cell_type": "code",
   "execution_count": null,
   "metadata": {},
   "outputs": [],
   "source": []
  },
  {
   "cell_type": "code",
   "execution_count": null,
   "metadata": {},
   "outputs": [],
   "source": [
    "(new_tr, weight) = iterated_birth_death(tr, smart_birth_death_mh_kern; check=true)"
   ]
  },
  {
   "cell_type": "code",
   "execution_count": null,
   "metadata": {},
   "outputs": [],
   "source": [
    "AI.plot_gtg(underlying_gram(tr))"
   ]
  },
  {
   "cell_type": "code",
   "execution_count": null,
   "metadata": {},
   "outputs": [],
   "source": [
    "AI.plot_gtg(underlying_gram(new_tr))"
   ]
  },
  {
   "cell_type": "code",
   "execution_count": null,
   "metadata": {},
   "outputs": [],
   "source": [
    "(proptr, _) = generate(smart_birth_death_proposal, (tr,))\n",
    "get_choices(proptr)"
   ]
  },
  {
   "cell_type": "code",
   "execution_count": null,
   "metadata": {},
   "outputs": [],
   "source": [
    "assess(smart_birth_death_proposal, (tr,), get_choices(proptr))"
   ]
  },
  {
   "cell_type": "code",
   "execution_count": null,
   "metadata": {},
   "outputs": [],
   "source": [
    "newtr, weight, _, _ = update"
   ]
  },
  {
   "cell_type": "code",
   "execution_count": null,
   "metadata": {},
   "outputs": [],
   "source": [
    "get_subtree(get_choices(tr), :world => :waves => AudioSource(2))"
   ]
  },
  {
   "cell_type": "code",
   "execution_count": null,
   "metadata": {},
   "outputs": [],
   "source": []
  },
  {
   "cell_type": "code",
   "execution_count": null,
   "metadata": {},
   "outputs": [],
   "source": []
  },
  {
   "cell_type": "code",
   "execution_count": null,
   "metadata": {},
   "outputs": [],
   "source": [
    "(sum(underlying_gram(ground_truth)[:, 5]) - 1054)/64"
   ]
  },
  {
   "cell_type": "code",
   "execution_count": null,
   "metadata": {},
   "outputs": [],
   "source": [
    "get_subtree(get_choices(ground_truth), :world)"
   ]
  },
  {
   "cell_type": "code",
   "execution_count": null,
   "metadata": {},
   "outputs": [],
   "source": [
    "proptr, wt = generate(smart_birth_death_proposal, (initial_tr,), choicemap((:do_smart_birth, false)))\n",
    "get_choices(proptr)"
   ]
  },
  {
   "cell_type": "code",
   "execution_count": null,
   "metadata": {},
   "outputs": [],
   "source": [
    "first_pass_results = GenWorldModels.run_first_pass(smart_birth_death_involution, tr, proptr)\n",
    "first_pass_results.update_spec.subspec"
   ]
  },
  {
   "cell_type": "code",
   "execution_count": null,
   "metadata": {},
   "outputs": [],
   "source": [
    "newtr, wt, _, _ = update(tr, get_args(initial_tr),\n",
    "map(_ -> NoChange(), get_args(initial_tr)),\n",
    "first_pass_results.update_spec,\n",
    "invert(first_pass_results.reverse_regenerated));\n",
    "wt;"
   ]
  },
  {
   "cell_type": "code",
   "execution_count": null,
   "metadata": {},
   "outputs": [],
   "source": [
    "wt"
   ]
  },
  {
   "cell_type": "code",
   "execution_count": null,
   "metadata": {},
   "outputs": [],
   "source": [
    "get_subtree(get_choices(newtr), :world)"
   ]
  },
  {
   "cell_type": "code",
   "execution_count": null,
   "metadata": {},
   "outputs": [],
   "source": [
    "wt"
   ]
  },
  {
   "cell_type": "code",
   "execution_count": null,
   "metadata": {},
   "outputs": [],
   "source": [
    "AI.plot_gtg(underlying_gram(newtr))"
   ]
  },
  {
   "cell_type": "code",
   "execution_count": null,
   "metadata": {},
   "outputs": [],
   "source": [
    "AI.plot_gtg(observed_gram(newtr))"
   ]
  },
  {
   "cell_type": "code",
   "execution_count": null,
   "metadata": {},
   "outputs": [],
   "source": []
  },
  {
   "cell_type": "code",
   "execution_count": null,
   "metadata": {},
   "outputs": [],
   "source": []
  }
 ],
 "metadata": {
  "language_info": {
   "name": "python",
   "pygments_lexer": "ipython3"
  }
 },
 "nbformat": 4,
 "nbformat_minor": 2
}
