{
 "cells": [
  {
   "cell_type": "code",
   "execution_count": null,
   "metadata": {},
   "outputs": [],
   "source": [
    "]activate .."
   ]
  },
  {
   "cell_type": "code",
   "execution_count": null,
   "metadata": {},
   "outputs": [],
   "source": [
    "include(\"main.jl\")"
   ]
  },
  {
   "cell_type": "code",
   "execution_count": null,
   "metadata": {},
   "outputs": [],
   "source": [
    "AI = AudioInference\n",
    "using .AI: AudioSource, gammatonegram"
   ]
  },
  {
   "cell_type": "code",
   "execution_count": null,
   "metadata": {},
   "outputs": [],
   "source": [
    "trr = AI.tones_with_noise(10.); nothing"
   ]
  },
  {
   "cell_type": "code",
   "execution_count": null,
   "metadata": {},
   "outputs": [],
   "source": [
    "AI.plot_gtg(trr[:kernel => :scene])"
   ]
  },
  {
   "cell_type": "code",
   "execution_count": null,
   "metadata": {},
   "outputs": [],
   "source": [
    "(initial_tr, weight) = AudioInference.generate_initial_tr(trr)\n",
    "weight"
   ]
  },
  {
   "cell_type": "code",
   "execution_count": null,
   "metadata": {},
   "outputs": [],
   "source": []
  },
  {
   "cell_type": "code",
   "execution_count": null,
   "metadata": {},
   "outputs": [],
   "source": [
    "using PyPlot\n",
    "using Dates"
   ]
  },
  {
   "cell_type": "code",
   "execution_count": null,
   "metadata": {},
   "outputs": [],
   "source": [
    "function get_avg_likelihoods(initial_trs, run_inf!, iters)\n",
    "  likelihoods = zeros(Float64, iters)\n",
    "  times = zeros(Float64, iters)\n",
    "  starttime = Dates.now()\n",
    "  run_inf!(initial_tr, 20, (tr,) -> nothing) # compilation run\n",
    "  for (i, initial_tr) in enumerate(initial_trs)\n",
    "    print(\"Running trial $i...;\")\n",
    "    println(\" $(Dates.now() - starttime) ms ellapsed in total\")\n",
    "    (l, t, record!) = AudioInference.get_worldmodel_likelihood_time_tracker_and_recorder()\n",
    "    run_inf!(initial_tr, iters, record!)\n",
    "    likelihoods += l\n",
    "    times += t\n",
    "  end\n",
    "  likelihoods /= length(initial_trs)\n",
    "  times /= length(initial_trs)\n",
    "  return (times, likelihoods)\n",
    "end"
   ]
  },
  {
   "cell_type": "code",
   "execution_count": null,
   "metadata": {},
   "outputs": [],
   "source": [
    "#initial_trs = [AudioInference.simulate(AudioInference.generate_scene, AudioInference.args) for _=1:5]"
   ]
  },
  {
   "cell_type": "code",
   "execution_count": null,
   "metadata": {},
   "outputs": [],
   "source": [
    "initial_trs = [AI.generate_initial_tr(trr)[1] for i=1:5]"
   ]
  },
  {
   "cell_type": "code",
   "execution_count": null,
   "metadata": {},
   "outputs": [],
   "source": []
  },
  {
   "cell_type": "code",
   "execution_count": null,
   "metadata": {},
   "outputs": [],
   "source": [
    "\n",
    "  include(\"worldmodel/inference2.jl\")\n"
   ]
  },
  {
   "cell_type": "code",
   "execution_count": null,
   "metadata": {},
   "outputs": [],
   "source": [
    "using .AudioInference"
   ]
  },
  {
   "cell_type": "code",
   "execution_count": null,
   "metadata": {},
   "outputs": [],
   "source": [
    "(generic_times, generic_likelihoods) = get_avg_likelihoods(initial_trs, AudioInference.do_generic_inference, 200)\n",
    "plot(generic_times, generic_likelihoods)"
   ]
  },
  {
   "cell_type": "code",
   "execution_count": null,
   "metadata": {},
   "outputs": [],
   "source": [
    "(new_times, new_likelihoods) = get_avg_likelihoods(initial_trs, drift_smartsmbd_inference, 300)\n",
    "plot(new_times, new_likelihoods)"
   ]
  },
  {
   "cell_type": "code",
   "execution_count": null,
   "metadata": {},
   "outputs": [],
   "source": [
    "ax = gca()\n",
    "ax[:set_ylim]([-400000, 0])\n",
    "plot(new_times, new_likelihoods)\n",
    "plot(generic_times, generic_likelihoods)"
   ]
  },
  {
   "cell_type": "code",
   "execution_count": null,
   "metadata": {},
   "outputs": [],
   "source": [
    "(bd_times, bd_likelihoods) = get_avg_likelihoods(initial_trs, AudioInference.do_birth_death_inference, 400)"
   ]
  },
  {
   "cell_type": "code",
   "execution_count": null,
   "metadata": {},
   "outputs": [],
   "source": [
    "plot(bd_times, bd_likelihoods)"
   ]
  },
  {
   "cell_type": "code",
   "execution_count": null,
   "metadata": {},
   "outputs": [],
   "source": [
    "(smart_bd_times, smart_bd_likelihoods) = get_avg_likelihoods(initial_trs, AudioInference.do_smart_bd_inference, 400)"
   ]
  },
  {
   "cell_type": "code",
   "execution_count": null,
   "metadata": {},
   "outputs": [],
   "source": [
    "plot(smart_bd_times, smart_bd_likelihoods)"
   ]
  },
  {
   "cell_type": "code",
   "execution_count": null,
   "metadata": {},
   "outputs": [],
   "source": [
    "(smart_smbd_times, smart_smbd_likelihoods) = get_avg_likelihoods(initial_trs, AudioInference.do_smart_smbd_inference, 400)"
   ]
  },
  {
   "cell_type": "code",
   "execution_count": null,
   "metadata": {},
   "outputs": [],
   "source": [
    "plot(smart_smbd_times, smart_smbd_likelihoods)"
   ]
  },
  {
   "cell_type": "code",
   "execution_count": null,
   "metadata": {},
   "outputs": [],
   "source": [
    "ax = gca()\n",
    "ax[:set_ylim]([-400000, 0])\n",
    "plot(new_times, new_likelihoods)\n",
    "plot(generic_times, generic_likelihoods)\n",
    "plot(smart_smbd_times, smart_smbd_likelihoods)"
   ]
  },
  {
   "cell_type": "code",
   "execution_count": null,
   "metadata": {},
   "outputs": [],
   "source": [
    "(sm_times, sm_likelihoods) = get_avg_likelihoods(initial_trs, AudioInference.do_split_merge_inference, 340)\n",
    "plot(sm_times, sm_likelihoods)"
   ]
  },
  {
   "cell_type": "code",
   "execution_count": null,
   "metadata": {},
   "outputs": [],
   "source": [
    "TIME_CAP = 20.0\n",
    "g_indices = filter(i -> generic_times[i] < TIME_CAP, 1:length(generic_times))\n",
    "# bd_indices = filter(i -> bd_times[i] < TIME_CAP, 1:length(bd_times))\n",
    "# smart_bd_indices = filter(i -> smart_bd_times[i] < TIME_CAP, 1:length(smart_bd_times))\n",
    "smart_smbd_indices = filter(i -> smart_smbd_times[i] < TIME_CAP, 1:length(smart_smbd_times))\n",
    "sm_indices = filter(i -> sm_times[i] < TIME_CAP, 1:length(sm_times))\n",
    "nothing"
   ]
  },
  {
   "cell_type": "code",
   "execution_count": null,
   "metadata": {},
   "outputs": [],
   "source": [
    "POINT_SIZE = 6\n",
    "scatter(generic_times[g_indices], generic_likelihoods[g_indices], label=\"generic\", s=POINT_SIZE)\n",
    "scatter(bd_times[bd_indices], bd_likelihoods[bd_indices], label=\"generic birth/death\", s=POINT_SIZE)\n",
    "scatter(smart_bd_times[smart_bd_indices], smart_bd_likelihoods[smart_bd_indices], label=\"data-driven birth/death\", s=POINT_SIZE)\n",
    "scatter(smart_smbd_times[smart_smbd_indices], smart_smbd_likelihoods[smart_smbd_indices], label=\"data-driven birth/death + split/merge\", s=POINT_SIZE)\n",
    "scatter(sm_times[sm_indices], sm_likelihoods[sm_indices], label=\"split/merge\", s=POINT_SIZE)\n",
    "xlabel(\"time (s)\")\n",
    "ylabel(\"log likelihood of observed sound given inferred waves\")\n",
    "title(\"Quality of inferred waveforms over time\")\n",
    "legend(loc=\"lower right\")"
   ]
  },
  {
   "cell_type": "code",
   "execution_count": null,
   "metadata": {},
   "outputs": [],
   "source": [
    "POINT_SIZE = 3\n",
    "scatter(generic_times[g_indices], generic_likelihoods[g_indices], label=\"generic\", s=POINT_SIZE)\n",
    "scatter(bd_times[bd_indices], bd_likelihoods[bd_indices], label=\"generic birth/death\", s=POINT_SIZE)\n",
    "scatter(smart_bd_times[smart_bd_indices], smart_bd_likelihoods[smart_bd_indices], label=\"data-driven birth/death\", s=POINT_SIZE)\n",
    "scatter(smart_smbd_times[smart_smbd_indices], smart_smbd_likelihoods[smart_smbd_indices], label=\"data-driven birth/death + split/merge\", s=POINT_SIZE)\n",
    "scatter(sm_times[sm_indices], sm_likelihoods[sm_indices], label=\"split/merge\", s=POINT_SIZE)\n",
    "xlabel(\"time (s)\")\n",
    "ylabel(\"log likelihood of observed sound given inferred waves\")\n",
    "title(\"Quality of inferred waveforms over time\")\n",
    "legend(loc=\"lower right\")"
   ]
  },
  {
   "cell_type": "code",
   "execution_count": null,
   "metadata": {},
   "outputs": [],
   "source": [
    "POINT_SIZE = 6\n",
    "scatter(generic_times[g_indices], generic_likelihoods[g_indices], label=\"generic\", s=POINT_SIZE)\n",
    "# scatter(bd_times[bd_indices], bd_likelihoods[bd_indices], label=\"generic birth/death\", s=POINT_SIZE)\n",
    "scatter(smart_bd_times[smart_bd_indices], smart_bd_likelihoods[smart_bd_indices], label=\"data-driven birth/death\", s=POINT_SIZE)\n",
    "scatter(smart_smbd_times[smart_smbd_indices], smart_smbd_likelihoods[smart_smbd_indices], label=\"data-driven birth/death + split/merge\", s=POINT_SIZE)\n",
    "# scatter(sm_times[sm_indices], sm_likelihoods[sm_indices], label=\"split/merge\", s=POINT_SIZE)\n",
    "xlabel(\"time (s)\")\n",
    "ylabel(\"log likelihood of observed sound given inferred waves\")\n",
    "title(\"Quality of inferred waveforms over time\")\n",
    "legend(loc=\"lower right\")"
   ]
  },
  {
   "cell_type": "code",
   "execution_count": null,
   "metadata": {},
   "outputs": [],
   "source": [
    "(generic_times2, generic_likelihoods2) = get_avg_likelihoods(fill(initial_tr,20), AudioInference.do_generic_inference, 540)\n",
    "plot(generic_times2, generic_likelihoods2)"
   ]
  },
  {
   "cell_type": "code",
   "execution_count": null,
   "metadata": {},
   "outputs": [],
   "source": [
    "(bd_times2, bd_likelihoods2) = get_avg_likelihoods(fill(initial_tr,20), AudioInference.do_birth_death_inference, 600)\n",
    "plot(bd_times2, bd_likelihoods2)"
   ]
  },
  {
   "cell_type": "code",
   "execution_count": null,
   "metadata": {},
   "outputs": [],
   "source": [
    "(sm_times2, sm_likelihoods2) = get_avg_likelihoods(fill(initial_tr,20), AudioInference.do_split_merge_inference, 400)\n",
    "plot(sm_times2, sm_likelihoods2)"
   ]
  },
  {
   "cell_type": "code",
   "execution_count": null,
   "metadata": {},
   "outputs": [],
   "source": [
    "TIME_CAP = 30.0\n",
    "g_indices2 = filter(i -> generic_times2[i] < TIME_CAP, 1:length(generic_times2))\n",
    "bd_indices2 = filter(i -> bd_times2[i] < TIME_CAP, 1:length(bd_times2))\n",
    "sm_indices2 = filter(i -> sm_times2[i] < TIME_CAP, 1:length(sm_times2))\n",
    "nothing"
   ]
  },
  {
   "cell_type": "code",
   "execution_count": null,
   "metadata": {},
   "outputs": [],
   "source": [
    "ax = gca()\n",
    "ax[:set_ylim]([-400000, 0])\n",
    "POINT_SIZE = 1\n",
    "scatter(generic_times2[g_indices2], generic_likelihoods2[g_indices2], label=\"generic\", s=POINT_SIZE)\n",
    "scatter(bd_times2[bd_indices2], bd_likelihoods2[bd_indices2], label=\"birth/death\", s=POINT_SIZE)\n",
    "scatter(sm_times2[sm_indices2], sm_likelihoods2[sm_indices2], label=\"split/merge\", s=POINT_SIZE)\n",
    "xlabel(\"time (s)\")\n",
    "ylabel(\"log likelihood of observed sound given inferred waves\")\n",
    "title(\"Quality of inferred waveforms over time\")\n",
    "legend(loc=\"lower right\")"
   ]
  },
  {
   "cell_type": "code",
   "execution_count": null,
   "metadata": {},
   "outputs": [],
   "source": []
  },
  {
   "cell_type": "code",
   "execution_count": null,
   "metadata": {},
   "outputs": [],
   "source": []
  },
  {
   "cell_type": "code",
   "execution_count": null,
   "metadata": {},
   "outputs": [],
   "source": []
  },
  {
   "cell_type": "code",
   "execution_count": null,
   "metadata": {},
   "outputs": [],
   "source": []
  },
  {
   "cell_type": "code",
   "execution_count": null,
   "metadata": {},
   "outputs": [],
   "source": []
  },
  {
   "cell_type": "code",
   "execution_count": null,
   "metadata": {},
   "outputs": [],
   "source": []
  },
  {
   "cell_type": "code",
   "execution_count": null,
   "metadata": {},
   "outputs": [],
   "source": [
    "function get_avg_likelihoods_and_counts(initial_trs, run_inf!, iters)\n",
    "  likelihoods = zeros(Float64, iters)\n",
    "  counts = []\n",
    "  starttime = Dates.now()\n",
    "  for (i, initial_tr) in enumerate(initial_trs)\n",
    "    print(\"Running trial $i...;\")\n",
    "    println(\" $(Dates.now() - starttime) ms ellapsed in total\")\n",
    "    (l, record!) = AudioInference.get_worldmodel_likelihood_tracker_and_recorder()\n",
    "    tr = run_inf!(initial_tr, iters, record!)\n",
    "    push!(counts, tr[:kernel => :n_tones])\n",
    "    likelihoods += l\n",
    "  end\n",
    "  likelihoods /= length(initial_trs)\n",
    "  return (likelihoods, counts)\n",
    "end"
   ]
  },
  {
   "cell_type": "code",
   "execution_count": null,
   "metadata": {},
   "outputs": [],
   "source": [
    "(l, c) = get_avg_likelihoods_and_counts(fill(initial_tr,2), AudioInference.do_birth_death_inference, 600)\n",
    "c"
   ]
  },
  {
   "cell_type": "code",
   "execution_count": null,
   "metadata": {},
   "outputs": [],
   "source": [
    "(l, c) = get_avg_likelihoods_and_counts(fill(initial_tr,2), AudioInference.do_split_merge_inference, 600)\n",
    "c"
   ]
  },
  {
   "cell_type": "code",
   "execution_count": null,
   "metadata": {},
   "outputs": [],
   "source": [
    "using Pkg; Pkg.add(\"ProfileView\")"
   ]
  },
  {
   "cell_type": "code",
   "execution_count": null,
   "metadata": {},
   "outputs": [],
   "source": [
    "using Profile; using ProfileView;"
   ]
  },
  {
   "cell_type": "code",
   "execution_count": null,
   "metadata": {},
   "outputs": [],
   "source": [
    "@profile get_avg_likelihoods_and_counts(fill(initial_tr,5), AudioInference.do_split_merge_inference, 600)"
   ]
  },
  {
   "cell_type": "code",
   "execution_count": null,
   "metadata": {},
   "outputs": [],
   "source": [
    "ProfileView.view()"
   ]
  },
  {
   "cell_type": "code",
   "execution_count": null,
   "metadata": {},
   "outputs": [],
   "source": [
    "function plot_gtg(gtg, duration, audio_sr, vmin, vmax;colors=\"Blues\",plot_colorbar=false)\n",
    "    \n",
    "    max_freq=audio_sr/2\n",
    "    imshow(gtg, cmap=colors, origin=\"lower\", extent=(0, duration, 0, max_freq),vmin=vmin, vmax=vmax, aspect=1/1300)\n",
    "    locs, labels = yticks();\n",
    "    lowlim = AudioInference.freq_to_ERB(1.)\n",
    "    hilim = AudioInference.freq_to_ERB(max_freq)\n",
    "    fs = Int.(floor.(AudioInference.ERB_to_freq(range(lowlim, stop=hilim, length=length(locs)))))\n",
    "    setp(gca().set_yticklabels(fs), fontsize=\"small\")\n",
    "    if plot_colorbar\n",
    "        plt.colorbar()\n",
    "    end\n",
    "end"
   ]
  },
  {
   "cell_type": "code",
   "execution_count": null,
   "metadata": {},
   "outputs": [],
   "source": [
    "function vis(tr)\n",
    "    duration, _, sr, = AudioInference.get_args(tr)\n",
    "    gram, scene_wave, = AudioInference.get_retval(tr)\n",
    "  #  wavwrite(scene_wave/maximum(abs.(scene_wave)), title, Fs=sr)\n",
    " # display(gram)\n",
    "    plot_gtg(gram, duration, sr, 0, 100)\n",
    "end"
   ]
  },
  {
   "cell_type": "code",
   "execution_count": null,
   "metadata": {},
   "outputs": [],
   "source": [
    "trr = tones_with_noise(10.); nothing"
   ]
  },
  {
   "cell_type": "code",
   "execution_count": null,
   "metadata": {},
   "outputs": [],
   "source": [
    "vis(trr)"
   ]
  },
  {
   "cell_type": "code",
   "execution_count": null,
   "metadata": {},
   "outputs": [],
   "source": [
    "tr = AudioInference.do_birth_death_inference(initial_tr, 500, (tr,) -> ())"
   ]
  },
  {
   "cell_type": "code",
   "execution_count": null,
   "metadata": {},
   "outputs": [],
   "source": [
    "vis(tr)"
   ]
  },
  {
   "cell_type": "code",
   "execution_count": null,
   "metadata": {},
   "outputs": [],
   "source": []
  }
 ],
 "metadata": {
  "language_info": {
   "name": "python",
   "pygments_lexer": "ipython3"
  }
 },
 "nbformat": 4,
 "nbformat_minor": 2
}
