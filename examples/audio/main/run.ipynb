{
 "cells": [
  {
   "cell_type": "markdown",
   "metadata": {},
   "source": [
    "## Setup"
   ]
  },
  {
   "cell_type": "code",
   "execution_count": null,
   "metadata": {},
   "outputs": [],
   "source": [
    "]activate .."
   ]
  },
  {
   "cell_type": "code",
   "execution_count": null,
   "metadata": {},
   "outputs": [],
   "source": [
    "include(\"main.jl\")"
   ]
  },
  {
   "cell_type": "code",
   "execution_count": null,
   "metadata": {},
   "outputs": [],
   "source": [
    "using .AudioInference: gammatonegram, AudioSource\n",
    "using .AudioInference\n",
    "AI = AudioInference"
   ]
  },
  {
   "cell_type": "code",
   "execution_count": null,
   "metadata": {},
   "outputs": [],
   "source": [
    "trr = tones_with_noise(10.); nothing"
   ]
  },
  {
   "cell_type": "code",
   "execution_count": null,
   "metadata": {},
   "outputs": [],
   "source": [
    "vis_and_write_wave(trr, \"trr.wav\")"
   ]
  },
  {
   "cell_type": "code",
   "execution_count": null,
   "metadata": {},
   "outputs": [],
   "source": [
    "using Dates"
   ]
  },
  {
   "cell_type": "code",
   "execution_count": null,
   "metadata": {},
   "outputs": [],
   "source": [
    "using PyPlot"
   ]
  },
  {
   "cell_type": "code",
   "execution_count": null,
   "metadata": {},
   "outputs": [],
   "source": [
    "include(\"worldmodel/inference2.jl\")"
   ]
  },
  {
   "cell_type": "markdown",
   "metadata": {},
   "source": [
    "## Functions For Likelihood Recording & Graphing"
   ]
  },
  {
   "cell_type": "code",
   "execution_count": null,
   "metadata": {},
   "outputs": [],
   "source": [
    "#=\n",
    "Outputs matrices where each column is a run for one initial trace,\n",
    "and each row represents the ith iteration of each run.\n",
    "=#\n",
    "function get_times_and_likelihoods(initial_trs, run_inf!, iters)\n",
    "    likelihoods = zeros(Float64, (iters, length(initial_trs)))\n",
    "    times = zeros(Float64, (iters, length(initial_trs)))\n",
    "    starttime = Dates.now()\n",
    "    run_inf!(initial_trs[1], 20, (tr,) -> nothing) # compilation run\n",
    "    for (i, initial_tr) in enumerate(initial_trs)\n",
    "        print(\"Running trial $i...;\")\n",
    "        println(\" $(Dates.now() - starttime) ms ellapsed in total\")\n",
    "        (l, t, record!) = AudioInference.get_worldmodel_likelihood_time_tracker_and_recorder()\n",
    "        run_inf!(initial_tr, iters, record!)\n",
    "        likelihoods[:, i] = l\n",
    "        times[:, i] = t\n",
    "    end\n",
    "    return (times, likelihoods)\n",
    "end"
   ]
  },
  {
   "cell_type": "code",
   "execution_count": null,
   "metadata": {},
   "outputs": [],
   "source": []
  },
  {
   "cell_type": "code",
   "execution_count": null,
   "metadata": {},
   "outputs": [],
   "source": [
    "run_specs = Dict(\n",
    "    :generic => (AudioInference.do_generic_inference, 1),\n",
    "    :dumb_bd => (AudioInference.do_birth_death_inference, 1.2),\n",
    "   # :dumb_sm => (AudioInference.do_split_merge_inference, .6),\n",
    "    :old_smbd => (AudioInference.do_smart_smbd_inference, .7),\n",
    "    :new_smbd => (drift_smartsmbd_inference, 0.7),\n",
    "    :new_bd => (drift_smartbd_inference, 0.75)\n",
    ")\n",
    "nothing"
   ]
  },
  {
   "cell_type": "code",
   "execution_count": null,
   "metadata": {},
   "outputs": [],
   "source": [
    "function perform_runs(run_specs, initial_trs, num_generic_iters)\n",
    "    times = Dict()\n",
    "    likelihoods = Dict()\n",
    "    \n",
    "    for (label, (inf, num_iters_multiplier)) in run_specs\n",
    "        n_iters = Int(floor(num_iters_multiplier*num_generic_iters))\n",
    "        println(\"Running \", label, \" for \", n_iters, \" iterations per initial trace.\")\n",
    "        (t, l) = get_times_and_likelihoods(initial_trs, inf, n_iters)\n",
    "        times[label] = t\n",
    "        likelihoods[label] = l\n",
    "    end\n",
    "    \n",
    "    return (times, likelihoods)\n",
    "end"
   ]
  },
  {
   "cell_type": "code",
   "execution_count": null,
   "metadata": {},
   "outputs": [],
   "source": [
    "function plot_avg_times_and_likelihoods(times, likelihoods; POINT_SIZE=3, order=nothing, names=nothing, miny=nothing, maxx=nothing)\n",
    "    key_itr = order === nothing ? keys(times) : order\n",
    "    for label in key_itr\n",
    "        t = times[label]\n",
    "        l = likelihoods[label]\n",
    "        avg_t = sum(t, dims=2) / size(t)[2]\n",
    "        avg_l = sum(l, dims=2) / size(l)[2]\n",
    "        name = names === nothing ? String(label) : names[label]\n",
    "        scatter(avg_t, avg_l, label=name, s=POINT_SIZE)\n",
    "    end\n",
    "    if miny !== nothing\n",
    "        ylim(bottom=miny)\n",
    "    end\n",
    "    if maxx !== nothing\n",
    "        xlim(right=maxx)\n",
    "    end\n",
    "    xlabel(\"time (s)\")\n",
    "    ylabel(\"log likelihood of observed sound given inferred sources\")\n",
    "    title(\"Predictive log-likelihod of inferred audio sources over time\")\n",
    "    legend(loc=\"lower right\")\n",
    "end"
   ]
  },
  {
   "cell_type": "code",
   "execution_count": null,
   "metadata": {},
   "outputs": [],
   "source": [
    "# merges the new times and likelihoods into the running ones (by concatenating to the\n",
    "# matrix of run data)\n",
    "# assumes that the same keys are \n",
    "function merge_in_runs!(running_times, running_likelihoods, new_times, new_likelihoods)\n",
    "    for key in keys(running_times)\n",
    "       running_times[key] = hcat(running_times[key], new_times[key])\n",
    "       running_likelihoods[key] = hcat(running_likelihoods[key], new_likelihoods[key])\n",
    "    end\n",
    "end"
   ]
  },
  {
   "cell_type": "markdown",
   "metadata": {},
   "source": [
    "### Fetch serialized data"
   ]
  },
  {
   "cell_type": "code",
   "execution_count": null,
   "metadata": {},
   "outputs": [],
   "source": [
    "using Serialization"
   ]
  },
  {
   "cell_type": "code",
   "execution_count": null,
   "metadata": {},
   "outputs": [],
   "source": [
    "(rt, rl) = deserialize(\"illusion_from_0.data\")\n",
    "size(rl[:generic])"
   ]
  },
  {
   "cell_type": "code",
   "execution_count": null,
   "metadata": {},
   "outputs": [],
   "source": [
    "plot_avg_times_and_likelihoods(rt, rl, POINT_SIZE=1, miny=-300000)"
   ]
  },
  {
   "cell_type": "code",
   "execution_count": null,
   "metadata": {},
   "outputs": [],
   "source": []
  },
  {
   "cell_type": "code",
   "execution_count": null,
   "metadata": {},
   "outputs": [],
   "source": [
    "function record_likelihoods!(generate_initial_trs, run_specs, NUM_ITERS;\n",
    "        filename=nothing,\n",
    "        running_times=nothing,\n",
    "        running_likelihoods=nothing,\n",
    "        num_cycles=1\n",
    "    )\n",
    "    @assert num_cycles >= 1\n",
    "    if running_times === nothing || running_likelihoods === nothing\n",
    "        @assert running_times === nothing && running_likelihoods === nothing \"Cannot provide only 1 of running_times and running_likelihoods\"\n",
    "        initial_trs = generate_initial_trs()\n",
    "        (running_times, running_likelihoods) = perform_runs(run_specs, initial_trs, NUM_ITERS)\n",
    "        num_cycles -= 1\n",
    "    else\n",
    "       @assert size(running_times[:generic])[1] == NUM_ITERS \n",
    "    end\n",
    "    \n",
    "    for _=1:(num_cycles)\n",
    "        if filename !== nothing\n",
    "            serialize(filename, (times=running_times, likelihoods=running_likelihoods))\n",
    "        end\n",
    "        try\n",
    "            initial_trs = generate_initial_trs()\n",
    "            (t, l) = perform_runs(run_specs, initial_trs, NUM_ITERS)\n",
    "            merge_in_runs!(running_times, running_likelihoods, t, l)\n",
    "        catch e end\n",
    "    end\n",
    "    if filename !== nothing\n",
    "        serialize(filename, (times=running_times, likelihoods=running_likelihoods))\n",
    "    end\n",
    "    \n",
    "    return (running_times, running_likelihoods)\n",
    "end"
   ]
  },
  {
   "cell_type": "code",
   "execution_count": null,
   "metadata": {},
   "outputs": [],
   "source": [
    "NUM_RUNS_PER_EXPERIMENT = 4"
   ]
  },
  {
   "cell_type": "code",
   "execution_count": null,
   "metadata": {},
   "outputs": [],
   "source": [
    "## record likelihoods on illusion:\n",
    "record_likelihoods!(\n",
    "    () -> [generate_initial_tr(trr, num_sources=0)[1] for _=1:NUM_RUNS_PER_EXPERIMENT],\n",
    "    run_specs, 500;\n",
    "    running_times=rt, running_likelihoods=rl, num_cycles=6,\n",
    "    filename=\"illusion_from_0_1-4-2021--1-25pm.data\"\n",
    ")"
   ]
  },
  {
   "cell_type": "code",
   "execution_count": null,
   "metadata": {},
   "outputs": [],
   "source": [
    "size(rl[:generic])"
   ]
  },
  {
   "cell_type": "code",
   "execution_count": null,
   "metadata": {},
   "outputs": [],
   "source": [
    "deserialize(\"illusion_from_0_1-4-2021--7-53am.data\").times[:generic] |> size"
   ]
  },
  {
   "cell_type": "code",
   "execution_count": null,
   "metadata": {},
   "outputs": [],
   "source": []
  },
  {
   "cell_type": "code",
   "execution_count": null,
   "metadata": {},
   "outputs": [],
   "source": [
    "## record likelihoods on synthetic:\n",
    "synth_t, synth_l = record_likelihoods!(\n",
    "    () -> [generate_initial_tr(\n",
    "                generate(AI.generate_scene, AI.args, choicemap((:kernel => :n_tones, 3)))[1],\n",
    "                num_sources=0\n",
    "            )[1]\n",
    "        for _=1:NUM_RUNS_PER_EXPERIMENT\n",
    "        ],\n",
    "    run_specs, 500; running_times=synth_t, running_likelihoods=synth_l,\n",
    "    num_cycles=4,\n",
    "    filename=\"synthetic_from_0_1-4-2021--9-45am.data\"\n",
    ")"
   ]
  },
  {
   "cell_type": "code",
   "execution_count": null,
   "metadata": {},
   "outputs": [],
   "source": [
    "plot_avg_times_and_likelihoods(rt, rl, POINT_SIZE=1, miny=-300000)"
   ]
  },
  {
   "cell_type": "code",
   "execution_count": null,
   "metadata": {},
   "outputs": [],
   "source": []
  },
  {
   "cell_type": "code",
   "execution_count": null,
   "metadata": {},
   "outputs": [],
   "source": [
    "deserialize(\"synthetic_from_0_1-4-2021--9-45am.data\").likelihoods[:generic] |> size"
   ]
  },
  {
   "cell_type": "code",
   "execution_count": null,
   "metadata": {},
   "outputs": [],
   "source": [
    "plot_avg_times_and_likelihoods(synth_t, synth_l, POINT_SIZE=1, miny=-300000)"
   ]
  },
  {
   "cell_type": "markdown",
   "metadata": {},
   "source": [
    "## Record Likelihoods"
   ]
  },
  {
   "cell_type": "code",
   "execution_count": null,
   "metadata": {},
   "outputs": [],
   "source": [
    "NUM_RUNS_PER_EXPERIMENT = 4\n",
    "initial_trs = [generate_initial_tr(trr, num_sources=0)[1] for _=1:NUM_RUNS_PER_EXPERIMENT]\n",
    "nothing\n"
   ]
  },
  {
   "cell_type": "code",
   "execution_count": null,
   "metadata": {},
   "outputs": [],
   "source": [
    "NUM_ITERS = 500\n",
    "(t, l) = perform_runs(run_specs, initial_trs, NUM_ITERS)\n",
    "nothing\n"
   ]
  },
  {
   "cell_type": "code",
   "execution_count": null,
   "metadata": {},
   "outputs": [],
   "source": [
    "running_times, running_likelihoods = (t, l)\n",
    "nothing"
   ]
  },
  {
   "cell_type": "code",
   "execution_count": null,
   "metadata": {},
   "outputs": [],
   "source": [
    "NUM_ITERS = 500\n",
    "for _=1:8\n",
    "    try\n",
    "        initial_trs = [generate_initial_tr(trr)[1] for _=1:4]\n",
    "        (t, l) = perform_runs(run_specs, initial_trs, NUM_ITERS)\n",
    "        merge_in_runs!(running_times, running_likelihoods, t, l)\n",
    "    catch e\n",
    "        continue;\n",
    "    end\n",
    "end"
   ]
  },
  {
   "cell_type": "code",
   "execution_count": null,
   "metadata": {},
   "outputs": [],
   "source": [
    "serialize(\"illusion_from_0_take2.data\", (times=running_times, likelihoods=running_likelihoods))"
   ]
  },
  {
   "cell_type": "markdown",
   "metadata": {},
   "source": [
    "## Plot Likelihoods"
   ]
  },
  {
   "cell_type": "code",
   "execution_count": null,
   "metadata": {},
   "outputs": [],
   "source": [
    "plot_avg_times_and_likelihoods(t, l, POINT_SIZE=1, miny=-400000)"
   ]
  },
  {
   "cell_type": "code",
   "execution_count": null,
   "metadata": {},
   "outputs": [],
   "source": [
    "plot_avg_times_and_likelihoods(running_times, running_likelihoods, miny=-300000)"
   ]
  },
  {
   "cell_type": "code",
   "execution_count": null,
   "metadata": {},
   "outputs": [],
   "source": [
    "[running_likelihoods[:new_smbd][:, i][100] for i=1:8]"
   ]
  },
  {
   "cell_type": "code",
   "execution_count": null,
   "metadata": {},
   "outputs": [],
   "source": []
  },
  {
   "cell_type": "code",
   "execution_count": null,
   "metadata": {},
   "outputs": [],
   "source": [
    "wanted_tags = [:new_bd, :generic, :dumb_bd, :new_smbd, :old_smbd]\n",
    "filt_t = Dict(t => running_times[t] for t in wanted_tags)\n",
    "filt_l = Dict(t => running_likelihoods[t] for t in wanted_tags)"
   ]
  },
  {
   "cell_type": "code",
   "execution_count": null,
   "metadata": {},
   "outputs": [],
   "source": [
    "plot_avg_times_and_likelihoods(filt_t, filt_l)"
   ]
  },
  {
   "cell_type": "code",
   "execution_count": null,
   "metadata": {},
   "outputs": [],
   "source": [
    "names = Dict(\n",
    "    :generic => \"Ancestral resampling\",\n",
    "    :dumb_bd => \"Generic birth/death\",\n",
    "    :new_bd => \"Data-driven custom birth/death\",\n",
    "    :new_smbd => \"Data-driven birth/death & split-merge\"\n",
    "   # :old_smbd => \"AABI Submission best performer\"\n",
    ")"
   ]
  },
  {
   "cell_type": "code",
   "execution_count": null,
   "metadata": {},
   "outputs": [],
   "source": [
    "order = [:generic, :dumb_bd, :new_bd, :new_smbd]#, :old_smbd]"
   ]
  },
  {
   "cell_type": "code",
   "execution_count": null,
   "metadata": {},
   "outputs": [],
   "source": [
    "plot_avg_times_and_likelihoods(rt, rl; order=order, names=names, maxx=20, miny=-300000)"
   ]
  },
  {
   "cell_type": "code",
   "execution_count": null,
   "metadata": {},
   "outputs": [],
   "source": [
    "rl[:generic] |> size"
   ]
  },
  {
   "cell_type": "markdown",
   "metadata": {},
   "source": [
    "### "
   ]
  },
  {
   "cell_type": "code",
   "execution_count": null,
   "metadata": {},
   "outputs": [],
   "source": [
    "using Serialization\n",
    "serialize(\"illusion_from_0.data\", (running_times, running_likelihoods))"
   ]
  },
  {
   "cell_type": "markdown",
   "metadata": {},
   "source": [
    "## Likelihoods on synthetic data"
   ]
  },
  {
   "cell_type": "code",
   "execution_count": null,
   "metadata": {},
   "outputs": [],
   "source": [
    "NUM_RUNS = 4\n",
    "ground_truth_trs = [\n",
    "    generate(AI.generate_scene, AI.args, choicemap((:kernel => :n_tones, 3)))[1]\n",
    "    for i=1:NUM_RUNS\n",
    "]\n",
    "initial_trs = [\n",
    "    AI.generate_initial_tr(ground_truth, num_sources=0)[1] for ground_truth in ground_truth_trs\n",
    "]\n",
    "nothing"
   ]
  },
  {
   "cell_type": "code",
   "execution_count": null,
   "metadata": {},
   "outputs": [],
   "source": [
    "NUM_ITERS = 650"
   ]
  },
  {
   "cell_type": "code",
   "execution_count": null,
   "metadata": {},
   "outputs": [],
   "source": [
    "(tms, lhs) = perform_runs(run_specs, initial_trs, NUM_ITERS)\n",
    "nothing"
   ]
  },
  {
   "cell_type": "code",
   "execution_count": null,
   "metadata": {},
   "outputs": [],
   "source": [
    "plot_avg_times_and_likelihoods(tms, lhs, miny=-300000)"
   ]
  },
  {
   "cell_type": "code",
   "execution_count": null,
   "metadata": {},
   "outputs": [],
   "source": [
    "(running_times2, running_likelihoods2) = (tms, lhs)\n",
    "nothing "
   ]
  },
  {
   "cell_type": "code",
   "execution_count": null,
   "metadata": {},
   "outputs": [],
   "source": [
    "for _=1:5\n",
    "    try\n",
    "        ground_truth_trs = [\n",
    "            generate(AI.generate_scene, AI.args, choicemap((:kernel => :n_tones, 3)))[1]\n",
    "            for i=1:NUM_RUNS\n",
    "        ]\n",
    "        initial_trs = [\n",
    "            AI.generate_initial_tr(ground_truth, num_sources=0)[1] for ground_truth in ground_truth_trs\n",
    "        ]\n",
    "        (t2, l2) = perform_runs(run_specs, initial_trs, NUM_ITERS)\n",
    "        merge_in_runs!(running_times2, running_likelihoods2, t2, l2)\n",
    "    catch e\n",
    "        continue;\n",
    "    end\n",
    "end"
   ]
  },
  {
   "cell_type": "code",
   "execution_count": null,
   "metadata": {},
   "outputs": [],
   "source": [
    "plot_avg_times_and_likelihoods(running_times2, running_likelihoods2, miny=-600000)"
   ]
  },
  {
   "cell_type": "code",
   "execution_count": null,
   "metadata": {},
   "outputs": [],
   "source": [
    "serialize(\"synthetic_from_prior_from_0.data\", (times = running_times2, likelihoods = running_likelihoods2))"
   ]
  },
  {
   "cell_type": "code",
   "execution_count": null,
   "metadata": {},
   "outputs": [],
   "source": [
    "plot(sum(running_likelihoods[:new_smbd][:,8:8], dims=2))"
   ]
  },
  {
   "cell_type": "code",
   "execution_count": null,
   "metadata": {},
   "outputs": [],
   "source": [
    "]add Serialize"
   ]
  },
  {
   "cell_type": "code",
   "execution_count": null,
   "metadata": {},
   "outputs": [],
   "source": [
    "using Serialization"
   ]
  },
  {
   "cell_type": "code",
   "execution_count": null,
   "metadata": {},
   "outputs": [],
   "source": [
    "serialize(\"runs_on_audio_illusion.data\", (times=running_times, likelihoods=running_likelihoods))"
   ]
  },
  {
   "cell_type": "code",
   "execution_count": null,
   "metadata": {},
   "outputs": [],
   "source": [
    "serialize(\"runs_on_samples_from_prior.data\", (times=running_times2, likelihoods=running_likelihoods2))"
   ]
  },
  {
   "cell_type": "code",
   "execution_count": null,
   "metadata": {},
   "outputs": [],
   "source": [
    "x = deserialize(\"runs_on_audio_illusion.data\")"
   ]
  },
  {
   "cell_type": "markdown",
   "metadata": {},
   "source": [
    "## Functions for time vs count recording"
   ]
  },
  {
   "cell_type": "code",
   "execution_count": null,
   "metadata": {},
   "outputs": [],
   "source": [
    "function get_worldmodel_count_likelihood_time_tracker_and_recorder()\n",
    "    counts = Int[]\n",
    "    times = Float64[]\n",
    "    starttime = Dates.now()\n",
    "    function record_worldmodel_iter!(tr)\n",
    "        push!(counts, tr[:kernel => :n_tones])\n",
    "        push!(times, Dates.value(Dates.now() - starttime)/1000)\n",
    "    end\n",
    "    return (counts, times, record_worldmodel_iter!)\n",
    "end"
   ]
  },
  {
   "cell_type": "code",
   "execution_count": null,
   "metadata": {},
   "outputs": [],
   "source": [
    "#=\n",
    "Outputs matrices where each column is a run for one initial trace,\n",
    "and each row represents the ith iteration of each run.\n",
    "=#\n",
    "function get_times_and_counts(initial_trs, run_inf!, iters)\n",
    "    counts = zeros(Int, (iters, length(initial_trs)))\n",
    "    times = zeros(Float64, (iters, length(initial_trs)))\n",
    "    starttime = Dates.now()\n",
    "    run_inf!(initial_trs[1], 20, (tr,) -> nothing) # compilation run\n",
    "    for (i, initial_tr) in enumerate(initial_trs)\n",
    "        print(\"Running trial $i...;\")\n",
    "        println(\" $(Dates.now() - starttime) ms ellapsed in total\")\n",
    "        (c, t, record!) = get_worldmodel_count_likelihood_time_tracker_and_recorder()\n",
    "        run_inf!(initial_tr, iters, record!)\n",
    "        counts[:, i] = c\n",
    "        times[:, i] = t\n",
    "    end\n",
    "    return (times, counts)\n",
    "end"
   ]
  },
  {
   "cell_type": "code",
   "execution_count": null,
   "metadata": {},
   "outputs": [],
   "source": [
    "function perform_count_runs(run_specs, initial_trs, num_generic_iters)\n",
    "    times = Dict()\n",
    "    counts = Dict()\n",
    "    \n",
    "    for (label, (inf, num_iters_multiplier)) in run_specs\n",
    "        n_iters = Int(floor(num_iters_multiplier*num_generic_iters))\n",
    "        println(\"Running \", label, \" for \", n_iters, \" iterations per initial trace.\")\n",
    "        (t, c) = get_times_and_counts(initial_trs, inf, n_iters)\n",
    "        times[label] = t\n",
    "        counts[label] = c\n",
    "    end\n",
    "    \n",
    "    return (times, counts)\n",
    "end"
   ]
  },
  {
   "cell_type": "markdown",
   "metadata": {},
   "source": [
    "## Record time vs counts"
   ]
  },
  {
   "cell_type": "code",
   "execution_count": null,
   "metadata": {},
   "outputs": [],
   "source": [
    "filtered_specs = Dict(i => run_specs[i] for i in (:generic, :smart_bd, :dumb_bd, :smart_smbd))"
   ]
  },
  {
   "cell_type": "code",
   "execution_count": null,
   "metadata": {},
   "outputs": [],
   "source": [
    "initial_trs = [AudioInference.generate_initial_tr(trr)[1] for _=1:200]\n",
    "(t, c) = perform_count_runs(filtered_specs, initial_trs, 20)"
   ]
  },
  {
   "cell_type": "code",
   "execution_count": null,
   "metadata": {},
   "outputs": [],
   "source": [
    "# counts = matrix, where each column has counts at each iter\n",
    "# times = matrix, where each column has time at which each iter occurred\n",
    "function get_count_to_time(times, counts)\n",
    "    counts_to_time = [Set() for _=1:maximum(counts)]\n",
    "    num_runs = size(times)[2]\n",
    "    for run=1:num_runs\n",
    "        t = times[:, run]\n",
    "        c = counts[:, run]\n",
    "        for i=1:length(t)\n",
    "            i == 1 && continue\n",
    "            Δt = t[i] - t[i-1]\n",
    "            push!(counts_to_time[c[i]], Δt)\n",
    "        end\n",
    "    end\n",
    "    return counts_to_time\n",
    "end"
   ]
  },
  {
   "cell_type": "code",
   "execution_count": null,
   "metadata": {},
   "outputs": [],
   "source": [
    "label = :smart_smbd_drift\n",
    "ctot = get_count_to_time(t[label], c[label])"
   ]
  },
  {
   "cell_type": "code",
   "execution_count": null,
   "metadata": {},
   "outputs": [],
   "source": [
    "reduce(+, ctot[1]; init=0.)"
   ]
  },
  {
   "cell_type": "code",
   "execution_count": null,
   "metadata": {},
   "outputs": [],
   "source": [
    "function plot_count_to_avg_time(times, counts; POINT_SIZE=5, order=nothing, names=nothing)\n",
    "    key_itr = order === nothing ? keys(times) : order\n",
    "    for label in key_itr\n",
    "        t = times[label]\n",
    "        c = counts[label]\n",
    "        count_to_time = get_count_to_time(t, c)\n",
    "        count_to_avg_time = map(v -> reduce(+, v; init=0.)/length(v), count_to_time)\n",
    "        plot(1:length(count_to_avg_time), count_to_avg_time, label=label)\n",
    "    end\n",
    "     ylabel(\"time (s) for inference pass\")\n",
    "     xlabel(\"num sources in inferred trace\")\n",
    "    title(\"Runtime/iter for different numbers of inferred sources\")\n",
    "    legend(loc=\"lower right\")\n",
    "end"
   ]
  },
  {
   "cell_type": "code",
   "execution_count": null,
   "metadata": {},
   "outputs": [],
   "source": [
    "plot_count_to_avg_time(t, c)"
   ]
  },
  {
   "cell_type": "code",
   "execution_count": null,
   "metadata": {},
   "outputs": [],
   "source": []
  },
  {
   "cell_type": "code",
   "execution_count": null,
   "metadata": {},
   "outputs": [],
   "source": []
  },
  {
   "cell_type": "markdown",
   "metadata": {},
   "source": [
    "# Timing individual kernel runs vs \"active set\""
   ]
  },
  {
   "cell_type": "markdown",
   "metadata": {},
   "source": [
    "Here, I want to time how long it takes to run each kernel in traces with different numbers of components."
   ]
  },
  {
   "cell_type": "code",
   "execution_count": null,
   "metadata": {},
   "outputs": [],
   "source": [
    "names = Dict(\n",
    "    :generic => \"Ancestral resampling\",\n",
    "    :dumb_bd => \"Generic birth/death\",\n",
    "    :smart_bd => \"Data-driven custom birth/death\",\n",
    "    :smart_smbd => \"Data-driven birth/death & split-merge\"\n",
    ")"
   ]
  },
  {
   "cell_type": "code",
   "execution_count": null,
   "metadata": {},
   "outputs": [],
   "source": [
    "order = [:generic, :dumb_bd, :smart_bd, :smart_smbd]"
   ]
  },
  {
   "cell_type": "code",
   "execution_count": null,
   "metadata": {},
   "outputs": [],
   "source": [
    "plot_avg_times_and_likelihoods(filt_t, filt_l; order=order, names=names, maxx=18, miny=-10000)"
   ]
  },
  {
   "cell_type": "code",
   "execution_count": null,
   "metadata": {},
   "outputs": [],
   "source": []
  },
  {
   "cell_type": "code",
   "execution_count": null,
   "metadata": {},
   "outputs": [],
   "source": []
  },
  {
   "cell_type": "code",
   "execution_count": null,
   "metadata": {},
   "outputs": [],
   "source": []
  },
  {
   "cell_type": "code",
   "execution_count": null,
   "metadata": {},
   "outputs": [],
   "source": []
  },
  {
   "cell_type": "code",
   "execution_count": null,
   "metadata": {},
   "outputs": [],
   "source": []
  },
  {
   "cell_type": "code",
   "execution_count": null,
   "metadata": {},
   "outputs": [],
   "source": []
  },
  {
   "cell_type": "code",
   "execution_count": null,
   "metadata": {},
   "outputs": [],
   "source": []
  },
  {
   "cell_type": "code",
   "execution_count": null,
   "metadata": {},
   "outputs": [],
   "source": []
  },
  {
   "cell_type": "code",
   "execution_count": null,
   "metadata": {},
   "outputs": [],
   "source": []
  },
  {
   "cell_type": "code",
   "execution_count": null,
   "metadata": {},
   "outputs": [],
   "source": [
    "using Serialization"
   ]
  },
  {
   "cell_type": "code",
   "execution_count": null,
   "metadata": {},
   "outputs": [],
   "source": [
    "serialize(\"save.txt\", running_times)"
   ]
  },
  {
   "cell_type": "code",
   "execution_count": null,
   "metadata": {},
   "outputs": [],
   "source": []
  },
  {
   "cell_type": "code",
   "execution_count": null,
   "metadata": {},
   "outputs": [],
   "source": []
  },
  {
   "cell_type": "code",
   "execution_count": null,
   "metadata": {},
   "outputs": [],
   "source": []
  },
  {
   "cell_type": "code",
   "execution_count": null,
   "metadata": {},
   "outputs": [],
   "source": []
  },
  {
   "cell_type": "code",
   "execution_count": null,
   "metadata": {},
   "outputs": [],
   "source": []
  },
  {
   "cell_type": "code",
   "execution_count": null,
   "metadata": {},
   "outputs": [],
   "source": []
  },
  {
   "cell_type": "code",
   "execution_count": null,
   "metadata": {},
   "outputs": [],
   "source": [
    "initial_trs = [generate_initial_tr(trr)[1] for _=1:2]\n",
    "(t, l) = perform_runs(run_specs, initial_trs, 10)\n",
    "nothing"
   ]
  },
  {
   "cell_type": "code",
   "execution_count": null,
   "metadata": {},
   "outputs": [],
   "source": [
    "plot_count_to_avg_time(t, c)"
   ]
  },
  {
   "cell_type": "code",
   "execution_count": null,
   "metadata": {},
   "outputs": [],
   "source": []
  },
  {
   "cell_type": "code",
   "execution_count": null,
   "metadata": {},
   "outputs": [],
   "source": []
  },
  {
   "cell_type": "code",
   "execution_count": null,
   "metadata": {},
   "outputs": [],
   "source": [
    "rt, rl = t, l"
   ]
  },
  {
   "cell_type": "code",
   "execution_count": null,
   "metadata": {},
   "outputs": [],
   "source": [
    "initial_trs = [generate_initial_tr(trr)[1] for _=1:2]\n",
    "(t, l) = perform_runs(run_specs, initial_trs, 10)"
   ]
  },
  {
   "cell_type": "code",
   "execution_count": null,
   "metadata": {},
   "outputs": [],
   "source": [
    "merge_in_runs!(rt, rl, t, l)"
   ]
  },
  {
   "cell_type": "code",
   "execution_count": null,
   "metadata": {},
   "outputs": [],
   "source": [
    "for _=1:2\n",
    "    initial_trs = [generate_initial_tr(trr)[1] for _=1:2]\n",
    "    (t, l) = perform_runs(run_specs, initial_trs, 10)\n",
    "    merge_in_runs!(rt, rl, t, l)\n",
    "end"
   ]
  },
  {
   "cell_type": "code",
   "execution_count": null,
   "metadata": {},
   "outputs": [],
   "source": []
  },
  {
   "cell_type": "code",
   "execution_count": null,
   "metadata": {},
   "outputs": [],
   "source": []
  },
  {
   "cell_type": "code",
   "execution_count": null,
   "metadata": {},
   "outputs": [],
   "source": []
  },
  {
   "cell_type": "code",
   "execution_count": null,
   "metadata": {},
   "outputs": [],
   "source": []
  },
  {
   "cell_type": "code",
   "execution_count": null,
   "metadata": {},
   "outputs": [],
   "source": []
  },
  {
   "cell_type": "code",
   "execution_count": null,
   "metadata": {},
   "outputs": [],
   "source": []
  },
  {
   "cell_type": "code",
   "execution_count": null,
   "metadata": {},
   "outputs": [],
   "source": []
  },
  {
   "cell_type": "code",
   "execution_count": null,
   "metadata": {},
   "outputs": [],
   "source": []
  },
  {
   "cell_type": "code",
   "execution_count": null,
   "metadata": {},
   "outputs": [],
   "source": []
  },
  {
   "cell_type": "code",
   "execution_count": null,
   "metadata": {},
   "outputs": [],
   "source": []
  },
  {
   "cell_type": "code",
   "execution_count": null,
   "metadata": {},
   "outputs": [],
   "source": []
  },
  {
   "cell_type": "code",
   "execution_count": null,
   "metadata": {},
   "outputs": [],
   "source": []
  },
  {
   "cell_type": "code",
   "execution_count": null,
   "metadata": {},
   "outputs": [],
   "source": []
  },
  {
   "cell_type": "code",
   "execution_count": null,
   "metadata": {},
   "outputs": [],
   "source": []
  },
  {
   "cell_type": "code",
   "execution_count": null,
   "metadata": {},
   "outputs": [],
   "source": []
  },
  {
   "cell_type": "code",
   "execution_count": null,
   "metadata": {},
   "outputs": [],
   "source": []
  },
  {
   "cell_type": "code",
   "execution_count": null,
   "metadata": {},
   "outputs": [],
   "source": [
    "(generic_times, generic_likelihoods) = get_avg_likelihoods(fill(initial_tr,20), AudioInference.do_generic_inference, 800)\n",
    "plot(generic_times, generic_likelihoods)"
   ]
  },
  {
   "cell_type": "code",
   "execution_count": null,
   "metadata": {},
   "outputs": [],
   "source": [
    "(bd_times, bd_likelihoods) = get_avg_likelihoods(fill(initial_tr,20), AudioInference.do_birth_death_inference, 800)\n",
    "plot(bd_times, bd_likelihoods)"
   ]
  },
  {
   "cell_type": "code",
   "execution_count": null,
   "metadata": {},
   "outputs": [],
   "source": [
    "(bd_times3, bd_likelihoods3) = get_avg_likelihoods(fill(initial_tr,20), AudioInference.do_birth_death_inference, 1200)\n",
    "plot(bd_times3, bd_likelihoods3)"
   ]
  },
  {
   "cell_type": "code",
   "execution_count": null,
   "metadata": {},
   "outputs": [],
   "source": [
    "do_sm = (args...,) -> AudioInference.do_split_merge_inference(args...; num_sm_per_iter=3)\n",
    "(sm_times, sm_likelihoods) = get_avg_likelihoods(fill(initial_tr,20), do_sm, 600)\n",
    "plot(sm_times, sm_likelihoods)"
   ]
  },
  {
   "cell_type": "code",
   "execution_count": null,
   "metadata": {},
   "outputs": [],
   "source": [
    "(generic_times, generic_likelihoods) = get_avg_likelihoods(initial_trs), AudioInference.do_generic_inference, 180)\n",
    "plot(generic_times, generic_likelihoods)"
   ]
  },
  {
   "cell_type": "code",
   "execution_count": null,
   "metadata": {},
   "outputs": [],
   "source": [
    "f = open(\"real_data.txt\", \"w\")"
   ]
  },
  {
   "cell_type": "code",
   "execution_count": null,
   "metadata": {},
   "outputs": [],
   "source": [
    "(bd_times, bd_likelihoods) = get_avg_likelihoods(initial_trs, AudioInference.do_birth_death_inference, 200)\n",
    "plot(bd_times, bd_likelihoods)"
   ]
  },
  {
   "cell_type": "code",
   "execution_count": null,
   "metadata": {},
   "outputs": [],
   "source": [
    "(sm_times, sm_likelihoods) = get_avg_likelihoods(initial_trs, AudioInference.do_split_merge_inference, 100)\n",
    "plot(sm_times, sm_likelihoods)"
   ]
  },
  {
   "cell_type": "code",
   "execution_count": null,
   "metadata": {},
   "outputs": [],
   "source": []
  },
  {
   "cell_type": "code",
   "execution_count": null,
   "metadata": {},
   "outputs": [],
   "source": [
    "(smart_bd_times, smart_bd_likelihoods) = get_avg_likelihoods(initial_trs, AudioInference.do_split_merge_inference, 100)"
   ]
  },
  {
   "cell_type": "code",
   "execution_count": null,
   "metadata": {},
   "outputs": [],
   "source": []
  },
  {
   "cell_type": "code",
   "execution_count": null,
   "metadata": {},
   "outputs": [],
   "source": [
    "TIME_CAP = 7.0\n",
    "g_indices = filter(i -> generic_times[i] < TIME_CAP, 1:length(generic_times))\n",
    "bd_indices = filter(i -> bd_times[i] < TIME_CAP, 1:length(bd_times))\n",
    "sm_indices = filter(i -> sm_times[i] < TIME_CAP, 1:length(sm_times))\n",
    "nothing"
   ]
  },
  {
   "cell_type": "code",
   "execution_count": null,
   "metadata": {},
   "outputs": [],
   "source": []
  },
  {
   "cell_type": "code",
   "execution_count": null,
   "metadata": {},
   "outputs": [],
   "source": [
    "ax = gca()\n",
    "ax[:set_ylim]([-200000, 0])\n",
    "POINT_SIZE = 2\n",
    "scatter(generic_times[g_indices], generic_likelihoods[g_indices], label=\"ancestral resampling (generic MCMC)\", s=POINT_SIZE, color=\"g\")\n",
    "scatter(bd_times3[bd_indices], bd_likelihoods3[bd_indices], label=\"birth/death\", s=POINT_SIZE, color=\"darkorange\")\n",
    "scatter(sm_times[sm_indices], sm_likelihoods[sm_indices], label=\"birth/death + split/merge\", s=POINT_SIZE)\n",
    "xlabel(\"time (s)\")\n",
    "ylabel(\"log likelihood of observed sound given inferred waves\")\n",
    "title(\"Quality of inferred waveforms over time\")\n",
    "legend(loc=\"lower right\")"
   ]
  },
  {
   "cell_type": "code",
   "execution_count": null,
   "metadata": {},
   "outputs": [],
   "source": [
    "(generic_times2, generic_likelihoods2) = get_avg_likelihoods(fill(initial_tr,20), AudioInference.do_generic_inference, 540)\n",
    "plot(generic_times2, generic_likelihoods2)"
   ]
  },
  {
   "cell_type": "code",
   "execution_count": null,
   "metadata": {},
   "outputs": [],
   "source": [
    "(bd_times2, bd_likelihoods2) = get_avg_likelihoods(fill(initial_tr,20), AudioInference.do_birth_death_inference, 600)\n",
    "plot(bd_times2, bd_likelihoods2)"
   ]
  },
  {
   "cell_type": "code",
   "execution_count": null,
   "metadata": {},
   "outputs": [],
   "source": [
    "(sm_times2, sm_likelihoods2) = get_avg_likelihoods(fill(initial_tr,20), AudioInference.do_split_merge_inference, 400)\n",
    "plot(sm_times2, sm_likelihoods2)"
   ]
  },
  {
   "cell_type": "code",
   "execution_count": null,
   "metadata": {},
   "outputs": [],
   "source": [
    "TIME_CAP = 30.0\n",
    "g_indices2 = filter(i -> generic_times2[i] < TIME_CAP, 1:length(generic_times2))\n",
    "bd_indices2 = filter(i -> bd_times2[i] < TIME_CAP, 1:length(bd_times2))\n",
    "sm_indices2 = filter(i -> sm_times2[i] < TIME_CAP, 1:length(sm_times2))\n",
    "nothing"
   ]
  },
  {
   "cell_type": "code",
   "execution_count": null,
   "metadata": {},
   "outputs": [],
   "source": [
    "ax = gca()\n",
    "ax[:set_ylim]([-400000, 0])\n",
    "POINT_SIZE = 1\n",
    "scatter(generic_times2[g_indices2], generic_likelihoods2[g_indices2], label=\"generic\", s=POINT_SIZE)\n",
    "scatter(bd_times2[bd_indices2], bd_likelihoods2[bd_indices2], label=\"birth/death\", s=POINT_SIZE)\n",
    "scatter(sm_times2[sm_indices2], sm_likelihoods2[sm_indices2], label=\"split/merge\", s=POINT_SIZE)\n",
    "xlabel(\"time (s)\")\n",
    "ylabel(\"log likelihood of observed sound given inferred waves\")\n",
    "title(\"Quality of inferred waveforms over time\")\n",
    "legend(loc=\"lower right\")"
   ]
  },
  {
   "cell_type": "code",
   "execution_count": null,
   "metadata": {},
   "outputs": [],
   "source": [
    "d"
   ]
  },
  {
   "cell_type": "code",
   "execution_count": null,
   "metadata": {},
   "outputs": [],
   "source": [
    "function get_avg_likelihoods(initial_trs, run_inf!, iters)\n",
    "  likelihoods = zeros(Float64, iters)\n",
    "  times = zeros(Float64, iters)\n",
    "  starttime = Dates.now()\n",
    "  run_inf!(initial_tr, 20, (tr,) -> nothing) # compilation run\n",
    "  for (i, initial_tr) in enumerate(initial_trs)\n",
    "    print(\"Running trial $i...;\")\n",
    "    println(\" $(Dates.now() - starttime) ms ellapsed in total\")\n",
    "    (l, t, record!) = AudioInference.get_worldmodel_likelihood_time_tracker_and_recorder()\n",
    "    run_inf!(initial_tr, iters, record!)\n",
    "    likelihoods += l\n",
    "    times += t\n",
    "  end\n",
    "  likelihoods /= length(initial_trs)\n",
    "  times /= length(initial_trs)\n",
    "  return (times, likelihoods)\n",
    "end"
   ]
  },
  {
   "cell_type": "code",
   "execution_count": null,
   "metadata": {},
   "outputs": [],
   "source": []
  },
  {
   "cell_type": "code",
   "execution_count": null,
   "metadata": {},
   "outputs": [],
   "source": []
  },
  {
   "cell_type": "code",
   "execution_count": null,
   "metadata": {},
   "outputs": [],
   "source": []
  },
  {
   "cell_type": "code",
   "execution_count": null,
   "metadata": {},
   "outputs": [],
   "source": []
  },
  {
   "cell_type": "code",
   "execution_count": null,
   "metadata": {},
   "outputs": [],
   "source": []
  },
  {
   "cell_type": "code",
   "execution_count": null,
   "metadata": {},
   "outputs": [],
   "source": [
    "function get_avg_likelihoods_and_counts(initial_trs, run_inf!, iters)\n",
    "  likelihoods = zeros(Float64, iters)\n",
    "  counts = []\n",
    "  starttime = Dates.now()\n",
    "  for (i, initial_tr) in enumerate(initial_trs)\n",
    "    print(\"Running trial $i...;\")\n",
    "    println(\" $(Dates.now() - starttime) ms ellapsed in total\")\n",
    "    (l, record!) = AudioInference.get_worldmodel_likelihood_tracker_and_recorder()\n",
    "    tr = run_inf!(initial_tr, iters, record!)\n",
    "    push!(counts, tr[:kernel => :n_tones])\n",
    "    likelihoods += l\n",
    "  end\n",
    "  likelihoods /= length(initial_trs)\n",
    "  return (likelihoods, counts)\n",
    "end"
   ]
  },
  {
   "cell_type": "code",
   "execution_count": null,
   "metadata": {},
   "outputs": [],
   "source": [
    "(l, c) = get_avg_likelihoods_and_counts(fill(initial_tr,2), AudioInference.do_birth_death_inference, 600)\n",
    "c"
   ]
  },
  {
   "cell_type": "code",
   "execution_count": null,
   "metadata": {},
   "outputs": [],
   "source": [
    "(l, c) = get_avg_likelihoods_and_counts(fill(initial_tr,2), AudioInference.do_split_merge_inference, 600)\n",
    "c"
   ]
  },
  {
   "cell_type": "code",
   "execution_count": null,
   "metadata": {},
   "outputs": [],
   "source": [
    "using Pkg; Pkg.add(\"ProfileView\")"
   ]
  },
  {
   "cell_type": "code",
   "execution_count": null,
   "metadata": {},
   "outputs": [],
   "source": [
    "using Profile; using ProfileView;"
   ]
  },
  {
   "cell_type": "code",
   "execution_count": null,
   "metadata": {},
   "outputs": [],
   "source": [
    "@profile get_avg_likelihoods_and_counts(fill(initial_tr,5), AudioInference.do_split_merge_inference, 600)"
   ]
  },
  {
   "cell_type": "code",
   "execution_count": null,
   "metadata": {},
   "outputs": [],
   "source": [
    "ProfileView.view()"
   ]
  },
  {
   "cell_type": "code",
   "execution_count": null,
   "metadata": {},
   "outputs": [],
   "source": [
    "function plot_gtg(gtg, duration, audio_sr, vmin, vmax;colors=\"Blues\",plot_colorbar=false)\n",
    "    \n",
    "    max_freq=audio_sr/2\n",
    "    imshow(gtg, cmap=colors, origin=\"lower\", extent=(0, duration, 0, max_freq),vmin=vmin, vmax=vmax, aspect=1/1300)\n",
    "    locs, labels = yticks();\n",
    "    lowlim = AudioInference.freq_to_ERB(1.)\n",
    "    hilim = AudioInference.freq_to_ERB(max_freq)\n",
    "    fs = Int.(floor.(AudioInference.ERB_to_freq(range(lowlim, stop=hilim, length=length(locs)))))\n",
    "    setp(gca().set_yticklabels(fs), fontsize=\"small\")\n",
    "    if plot_colorbar\n",
    "        plt.colorbar()\n",
    "    end\n",
    "end"
   ]
  },
  {
   "cell_type": "code",
   "execution_count": null,
   "metadata": {},
   "outputs": [],
   "source": [
    "function vis(tr)\n",
    "    duration, _, sr, = AudioInference.get_args(tr)\n",
    "    gram, scene_wave, = AudioInference.get_retval(tr)\n",
    "  #  wavwrite(scene_wave/maximum(abs.(scene_wave)), title, Fs=sr)\n",
    " # display(gram)\n",
    "    plot_gtg(gram, duration, sr, 0, 100)\n",
    "end"
   ]
  },
  {
   "cell_type": "code",
   "execution_count": null,
   "metadata": {},
   "outputs": [],
   "source": [
    "trr = tones_with_noise(10.); nothing"
   ]
  },
  {
   "cell_type": "code",
   "execution_count": null,
   "metadata": {},
   "outputs": [],
   "source": [
    "vis(trr)"
   ]
  },
  {
   "cell_type": "code",
   "execution_count": null,
   "metadata": {},
   "outputs": [],
   "source": [
    "tr = AudioInference.do_birth_death_inference(initial_tr, 500, (tr,) -> ())"
   ]
  },
  {
   "cell_type": "code",
   "execution_count": null,
   "metadata": {},
   "outputs": [],
   "source": [
    "vis(tr)"
   ]
  },
  {
   "cell_type": "code",
   "execution_count": null,
   "metadata": {},
   "outputs": [],
   "source": []
  }
 ],
 "metadata": {
  "language_info": {
   "name": "python",
   "pygments_lexer": "ipython3"
  }
 },
 "nbformat": 4,
 "nbformat_minor": 2
}
