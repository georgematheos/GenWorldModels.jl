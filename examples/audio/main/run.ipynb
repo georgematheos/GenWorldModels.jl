{
 "cells": [
  {
   "cell_type": "code",
   "execution_count": null,
   "metadata": {},
   "outputs": [],
   "source": [
    "]activate .."
   ]
  },
  {
   "cell_type": "code",
   "execution_count": null,
   "metadata": {},
   "outputs": [],
   "source": [
    "include(\"main.jl\")"
   ]
  },
  {
   "cell_type": "code",
   "execution_count": null,
   "metadata": {},
   "outputs": [],
   "source": [
    "using .AudioInference"
   ]
  },
  {
   "cell_type": "code",
   "execution_count": null,
   "metadata": {},
   "outputs": [],
   "source": [
    "trr = tones_with_noise(10.); nothing"
   ]
  },
  {
   "cell_type": "code",
   "execution_count": null,
   "metadata": {},
   "outputs": [],
   "source": [
    "vis_and_write_wave(trr, \"trr.wav\")"
   ]
  },
  {
   "cell_type": "code",
   "execution_count": null,
   "metadata": {},
   "outputs": [],
   "source": [
    "AudioInference.savefig(\"truth.pdf\")"
   ]
  },
  {
   "cell_type": "code",
   "execution_count": null,
   "metadata": {},
   "outputs": [],
   "source": [
    "(initial_tr, weight) = generate_initial_tr(trr)\n",
    "weight"
   ]
  },
  {
   "cell_type": "code",
   "execution_count": null,
   "metadata": {},
   "outputs": [],
   "source": [
    "using PyPlot\n",
    "using Dates"
   ]
  },
  {
   "cell_type": "code",
   "execution_count": null,
   "metadata": {},
   "outputs": [],
   "source": [
    "function get_avg_likelihoods(initial_trs, run_inf!, iters)\n",
    "  likelihoods = zeros(Float64, iters)\n",
    "  starttime = Dates.now()\n",
    "  for (i, initial_tr) in enumerate(initial_trs)\n",
    "    print(\"Running trial $i...;\")\n",
    "    println(\" $(Dates.now() - starttime) ms ellapsed in total\")\n",
    "    (l, record!) = AudioInference.get_worldmodel_likelihood_tracker_and_recorder()\n",
    "    run_inf!(initial_tr, iters, record!)\n",
    "    likelihoods += l\n",
    "  end\n",
    "  likelihoods /= length(initial_trs)\n",
    "  return likelihoods\n",
    "end"
   ]
  },
  {
   "cell_type": "code",
   "execution_count": null,
   "metadata": {},
   "outputs": [],
   "source": [
    "#initial_trs = [AudioInference.simulate(AudioInference.generate_scene, AudioInference.args) for _=1:5]"
   ]
  },
  {
   "cell_type": "code",
   "execution_count": null,
   "metadata": {},
   "outputs": [],
   "source": [
    "generic_likelihoods = get_avg_likelihoods(fill(initial_tr,5), AudioInference.do_generic_inference, 600)\n",
    "plot(generic_likelihoods)"
   ]
  },
  {
   "cell_type": "code",
   "execution_count": null,
   "metadata": {},
   "outputs": [],
   "source": [
    "bd_likelihoods = get_avg_likelihoods(fill(initial_tr,5), AudioInference.do_birth_death_inference, 600)\n",
    "plot(bd_likelihoods)"
   ]
  },
  {
   "cell_type": "code",
   "execution_count": null,
   "metadata": {},
   "outputs": [],
   "source": [
    "sm_likelihoods = get_avg_likelihoods(fill(initial_tr,5), AudioInference.do_split_merge_inference, 600)\n",
    "plot(sm_likelihoods)"
   ]
  },
  {
   "cell_type": "code",
   "execution_count": null,
   "metadata": {},
   "outputs": [],
   "source": [
    "bot, top = 1, 600\n",
    "plot(bot:top, generic_likelihoods[bot:top], label=\"generic\")\n",
    "plot(bot:top, bd_likelihoods[bot:top], label=\"birth/death\")\n",
    "plot(bot:top, sm_likelihoods[bot:top], label=\"split/merge\")\n",
    "xlabel(\"number of inference iterations\")\n",
    "ylabel(\"log likelihood of observed sound given inferred waves\")\n",
    "title(\"Quality of inferred waveforms over time\")\n",
    "legend()"
   ]
  },
  {
   "cell_type": "code",
   "execution_count": null,
   "metadata": {},
   "outputs": [],
   "source": [
    "function get_avg_likelihoods_and_counts(initial_trs, run_inf!, iters)\n",
    "  likelihoods = zeros(Float64, iters)\n",
    "  counts = []\n",
    "  starttime = Dates.now()\n",
    "  for (i, initial_tr) in enumerate(initial_trs)\n",
    "    print(\"Running trial $i...;\")\n",
    "    println(\" $(Dates.now() - starttime) ms ellapsed in total\")\n",
    "    (l, record!) = AudioInference.get_worldmodel_likelihood_tracker_and_recorder()\n",
    "    tr = run_inf!(initial_tr, iters, record!)\n",
    "    push!(counts, tr[:kernel => :n_tones])\n",
    "    likelihoods += l\n",
    "  end\n",
    "  likelihoods /= length(initial_trs)\n",
    "  return (likelihoods, counts)\n",
    "end"
   ]
  },
  {
   "cell_type": "code",
   "execution_count": null,
   "metadata": {},
   "outputs": [],
   "source": [
    "(l, c) = get_avg_likelihoods_and_counts(fill(initial_tr,2), AudioInference.do_birth_death_inference, 600)\n",
    "c"
   ]
  },
  {
   "cell_type": "code",
   "execution_count": null,
   "metadata": {},
   "outputs": [],
   "source": [
    "(l, c) = get_avg_likelihoods_and_counts(fill(initial_tr,2), AudioInference.do_split_merge_inference, 600)\n",
    "c"
   ]
  },
  {
   "cell_type": "code",
   "execution_count": null,
   "metadata": {},
   "outputs": [],
   "source": [
    "using Pkg; Pkg.add(\"ProfileView\")"
   ]
  },
  {
   "cell_type": "code",
   "execution_count": null,
   "metadata": {},
   "outputs": [],
   "source": [
    "using Profile; using ProfileView;"
   ]
  },
  {
   "cell_type": "code",
   "execution_count": null,
   "metadata": {},
   "outputs": [],
   "source": [
    "@profile get_avg_likelihoods_and_counts(fill(initial_tr,5), AudioInference.do_split_merge_inference, 600)"
   ]
  },
  {
   "cell_type": "code",
   "execution_count": null,
   "metadata": {},
   "outputs": [],
   "source": [
    "ProfileView.view()"
   ]
  },
  {
   "cell_type": "code",
   "execution_count": null,
   "metadata": {},
   "outputs": [],
   "source": [
    "function plot_gtg(gtg, duration, audio_sr, vmin, vmax;colors=\"Blues\",plot_colorbar=false)\n",
    "    \n",
    "    max_freq=audio_sr/2\n",
    "    imshow(gtg, cmap=colors, origin=\"lower\", extent=(0, duration, 0, max_freq),vmin=vmin, vmax=vmax, aspect=1/1300)\n",
    "    locs, labels = yticks();\n",
    "    lowlim = AudioInference.freq_to_ERB(1.)\n",
    "    hilim = AudioInference.freq_to_ERB(max_freq)\n",
    "    fs = Int.(floor.(AudioInference.ERB_to_freq(range(lowlim, stop=hilim, length=length(locs)))))\n",
    "    setp(gca().set_yticklabels(fs), fontsize=\"small\")\n",
    "    if plot_colorbar\n",
    "        plt.colorbar()\n",
    "    end\n",
    "end"
   ]
  },
  {
   "cell_type": "code",
   "execution_count": null,
   "metadata": {},
   "outputs": [],
   "source": [
    "function vis(tr)\n",
    "    duration, _, sr, = AudioInference.get_args(tr)\n",
    "    gram, scene_wave, = AudioInference.get_retval(tr)\n",
    "  #  wavwrite(scene_wave/maximum(abs.(scene_wave)), title, Fs=sr)\n",
    " # display(gram)\n",
    "    plot_gtg(gram, duration, sr, 0, 100)\n",
    "end"
   ]
  },
  {
   "cell_type": "code",
   "execution_count": null,
   "metadata": {},
   "outputs": [],
   "source": [
    "trr = tones_with_noise(10.); nothing"
   ]
  },
  {
   "cell_type": "code",
   "execution_count": null,
   "metadata": {},
   "outputs": [],
   "source": [
    "vis(trr)"
   ]
  },
  {
   "cell_type": "code",
   "execution_count": null,
   "metadata": {},
   "outputs": [],
   "source": [
    "tr = AudioInference.do_birth_death_inference(initial_tr, 500, (tr,) -> ())"
   ]
  },
  {
   "cell_type": "code",
   "execution_count": null,
   "metadata": {},
   "outputs": [],
   "source": [
    "vis(tr)"
   ]
  },
  {
   "cell_type": "code",
   "execution_count": null,
   "metadata": {},
   "outputs": [],
   "source": []
  }
 ],
 "metadata": {
  "language_info": {
   "name": "python",
   "pygments_lexer": "ipython3"
  }
 },
 "nbformat": 4,
 "nbformat_minor": 2
}
