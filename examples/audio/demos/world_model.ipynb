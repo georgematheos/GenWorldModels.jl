{
 "cells": [
  {
   "cell_type": "code",
   "execution_count": null,
   "metadata": {},
   "outputs": [],
   "source": [
    "]activate .."
   ]
  },
  {
   "cell_type": "code",
   "execution_count": null,
   "metadata": {},
   "outputs": [],
   "source": [
    "using Gen"
   ]
  },
  {
   "cell_type": "code",
   "execution_count": null,
   "metadata": {},
   "outputs": [],
   "source": [
    "using WAV\n",
    "include(\"../tools/plotting.jl\")\n",
    "include(\"../model/gammatonegram.jl\");\n",
    "include(\"../model/time_helpers.jl\");\n",
    "include(\"../model/extra_distributions.jl\");"
   ]
  },
  {
   "cell_type": "code",
   "execution_count": null,
   "metadata": {},
   "outputs": [],
   "source": [
    "source_params, steps, gtg_params, obs_noise = include(\"../params/base.jl\")\n",
    "sr = 2000.0\n",
    "gtg_params[\"dB_threshold\"] = 0.0\n",
    "wts, = gtg_weights(sr, gtg_params);\n",
    "\n",
    "scene_length, steps, sr = (2.0, steps, sr)\n",
    "args = (scene_length, steps, sr, wts, gtg_params)"
   ]
  },
  {
   "cell_type": "code",
   "execution_count": null,
   "metadata": {},
   "outputs": [],
   "source": [
    "using GenWorldModels"
   ]
  },
  {
   "cell_type": "code",
   "execution_count": null,
   "metadata": {},
   "outputs": [],
   "source": [
    "include(\"../main/worldmodel/model.jl\")\n",
    "include(\"worldmodel_utils.jl\")"
   ]
  },
  {
   "cell_type": "code",
   "execution_count": null,
   "metadata": {},
   "outputs": [],
   "source": [
    "trr = tones_with_noise(10.); nothing"
   ]
  },
  {
   "cell_type": "code",
   "execution_count": null,
   "metadata": {},
   "outputs": [],
   "source": [
    "vis_and_write_wave(trr, \"trr.wav\")"
   ]
  },
  {
   "cell_type": "markdown",
   "metadata": {},
   "source": [
    "### Birth/Death"
   ]
  },
  {
   "cell_type": "code",
   "execution_count": null,
   "metadata": {},
   "outputs": [],
   "source": [
    "@gen function birth_death_proposal(tr)\n",
    "    do_birth ~ bernoulli(0.5)\n",
    "    if do_birth\n",
    "        idx ~ uniform_discrete(1, tr[:kernel => :n_tones] + 1)\n",
    "    else\n",
    "        idx ~ uniform_discrete(1, tr[:kernel => :n_tones])\n",
    "    end\n",
    "end"
   ]
  },
  {
   "cell_type": "code",
   "execution_count": null,
   "metadata": {},
   "outputs": [],
   "source": [
    "@oupm_involution birth_death_inv (old_tr, fwd_prop_tr) to (new_tr, bwd_prop_tr) begin\n",
    "    do_birth = @read(fwd_prop_tr[:do_birth], :disc)\n",
    "    idx = @read(fwd_prop_tr[:idx], :disc)\n",
    "    num = @read(old_tr[:kernel => :n_tones], :disc)\n",
    "    if do_birth\n",
    "        @birth(AudioSource(idx))\n",
    "        @write(new_tr[:kernel => :n_tones], num + 1, :disc)\n",
    "        @regenerate(:world => :waves => AudioSource(idx))\n",
    "    else\n",
    "        @death(AudioSource(idx))\n",
    "        @write(new_tr[:kernel => :n_tones], num - 1, :disc)\n",
    "        @save_for_reverse_regenerate(:world => :waves => AudioSource(idx))\n",
    "    end\n",
    "    @write(bwd_prop_tr[:do_birth], !do_birth, :disc)\n",
    "    @write(bwd_prop_tr[:idx], idx, :disc)\n",
    "end\n",
    "birth_death_kernel = OUPMMHKernel(birth_death_proposal, (), birth_death_inv)"
   ]
  },
  {
   "cell_type": "code",
   "execution_count": null,
   "metadata": {},
   "outputs": [],
   "source": [
    "function birth_death_iter(tr)\n",
    "  tr = generic_no_num_change_inference_iter(tr)\n",
    "  tr, _ = mh(tr, birth_death_kernel)\n",
    "  tr\n",
    "end"
   ]
  },
  {
   "cell_type": "code",
   "execution_count": null,
   "metadata": {},
   "outputs": [],
   "source": [
    "initial_tr = get_initial_tr(trr)\n",
    "println(\"Initial trace score: $(get_score(initial_tr))\")\n",
    "inferred_tr = run_inference(initial_tr, birth_death_iter, 200)\n",
    "println(\"Inferred trace score: $(get_score(inferred_tr))\")"
   ]
  },
  {
   "cell_type": "code",
   "execution_count": null,
   "metadata": {},
   "outputs": [],
   "source": [
    "vis_and_write_wave(inferred_tr, \"inferred_bd.wav\")"
   ]
  },
  {
   "cell_type": "markdown",
   "metadata": {},
   "source": [
    "### Split/Merge"
   ]
  },
  {
   "cell_type": "code",
   "execution_count": null,
   "metadata": {},
   "outputs": [],
   "source": [
    "tone_indices(tr, n_tones) = [idx for idx = 1:n_tones if !tr[:world => :waves => AudioSource(idx) => :is_noise]]\n",
    "noise_indices(tr, n_tones) = [idx for idx = 1:n_tones if tr[:world => :waves => AudioSource(idx) => :is_noise]]\n",
    "tone_merge_possible(tr) = length(tone_indices(tr, tr[:kernel => :n_tones])) > 1\n",
    "noise_merge_possible(tr) = length(noise_indices(tr, tr[:kernel => :n_tones])) > 1\n",
    "merge_possible(tr) = tr[:kernel => :n_tones] > 1 && (tone_merge_possible(tr) || noise_merge_possible(tr))"
   ]
  },
  {
   "cell_type": "code",
   "execution_count": null,
   "metadata": {},
   "outputs": [],
   "source": [
    "@gen function split_merge_proposal(tr)\n",
    "  mp = merge_possible(tr)\n",
    "  split_likelihood = mp ? 0.5 : 1.\n",
    "  do_split ~ bernoulli(split_likelihood)\n",
    "  \n",
    "  if do_split\n",
    "    {*} ~ sample_split(tr)\n",
    "  else\n",
    "    {*} ~ sample_merge(tr)\n",
    "  end\n",
    "end"
   ]
  },
  {
   "cell_type": "code",
   "execution_count": null,
   "metadata": {},
   "outputs": [],
   "source": [
    "@oupm_involution splitmerge_inv (old_tr, fwd_prop_tr) to (new_tr, bwd_prop_tr) begin\n",
    "  n_tones = @read(old_tr[:kernel => :n_tones], :disc)\n",
    "  do_split = @read(fwd_prop_tr[:do_split], :disc)\n",
    "  deuce_idx1 = @read(fwd_prop_tr[:deuce_idx1], :disc)\n",
    "  deuce_idx2 = @read(fwd_prop_tr[:deuce_idx2], :disc)\n",
    "  solo_idx = @read(fwd_prop_tr[:solo_idx], :disc)\n",
    "  \n",
    "  if do_split\n",
    "    @tcall handle_split(n_tones, solo_idx, deuce_idx1, deuce_idx2)\n",
    "  else\n",
    "    @tcall handle_merge(n_tones, solo_idx, deuce_idx1, deuce_idx2)\n",
    "  end\n",
    "  \n",
    "  @write(bwd_prop_tr[:do_split], !do_split, :disc)\n",
    "  @write(bwd_prop_tr[:solo_idx], solo_idx, :disc)\n",
    "  @write(bwd_prop_tr[:deuce_idx1], deuce_idx1, :disc)\n",
    "  @write(bwd_prop_tr[:deuce_idx2], deuce_idx2, :disc)\n",
    "end"
   ]
  },
  {
   "cell_type": "code",
   "execution_count": null,
   "metadata": {},
   "outputs": [],
   "source": [
    "@dist uniform_from_list(list) = list[uniform_discrete(1, length(list))]"
   ]
  },
  {
   "cell_type": "code",
   "execution_count": null,
   "metadata": {},
   "outputs": [],
   "source": [
    "@gen function sample_split(tr)\n",
    "  n_tones = tr[:kernel => :n_tones]\n",
    "  solo_idx ~ uniform_discrete(1, n_tones)\n",
    "  deuce_idx1 ~ uniform_discrete(1, n_tones+1)\n",
    "  deuce_idx2 ~ uniform_from_list([i for i=1:n_tones+1 if i!=deuce_idx1])\n",
    "  \n",
    "  ch = get_submap(get_choices(tr), :world => :waves => AudioSource(solo_idx))\n",
    "  if !ch[:is_noise]\n",
    "    erb1 ~ normal(ch[:erb], .5)\n",
    "    erb2 ~ normal(ch[:erb], .5)\n",
    "  else\n",
    "    amp1 ~ normal(ch[:amp], .5)\n",
    "    amp2 ~ normal(ch[:amp], .5)\n",
    "  end\n",
    "  \n",
    "  # duration of sounds we are splitting into:\n",
    "  dur1 ~ uniform(0.1, max(.11, 0.7 * ch[:duration]))\n",
    "  dur2 ~ uniform(0.1, max(.11, 0.7 * ch[:duration]))\n",
    "end"
   ]
  },
  {
   "cell_type": "code",
   "execution_count": null,
   "metadata": {},
   "outputs": [],
   "source": [
    "@oupm_involution handle_split(n_tones, from_idx, to_idx1, to_idx2) (old_tr, fwd_prop_tr) to (new_tr, bwd_prop_tr) begin\n",
    "  @split(AudioSource(from_idx), to_idx1, to_idx2)\n",
    "  @write(new_tr[:kernel => :n_tones], n_tones + 1, :disc)\n",
    "  \n",
    "  o(x) = :world => :waves => AudioSource(from_idx) => x\n",
    "  n1(x) = :world => :waves => AudioSource(to_idx1) => x\n",
    "  n2(x) = :world => :waves => AudioSource(to_idx2) => x\n",
    "  \n",
    "  # copy is noise\n",
    "  @copy(old_tr[o(:is_noise)], new_tr[n1(:is_noise)])\n",
    "  @copy(old_tr[o(:is_noise)], new_tr[n2(:is_noise)])\n",
    "\n",
    "  # handle start and end times\n",
    "  @copy(old_tr[o(:onset)], new_tr[n1(:onset)])\n",
    "  @copy(fwd_prop_tr[:dur1], new_tr[n1(:duration)])\n",
    "  @copy(fwd_prop_tr[:dur2], new_tr[n2(:duration)])\n",
    "\n",
    "  old_ons = @read(old_tr[o(:onset)], :cont)\n",
    "  old_dur = @read(old_tr[o(:duration)], :cont)\n",
    "  dur2 = @read(fwd_prop_tr[:dur2], :cont)\n",
    "  @write(new_tr[n2(:onset)], old_ons + old_dur - dur2, :cont)\n",
    "  \n",
    "  # amp/erb\n",
    "  if @read(old_tr[o(:is_noise)], :disc)\n",
    "      @copy(fwd_prop_tr[:amp1], new_tr[n1(:amp)])\n",
    "      @copy(fwd_prop_tr[:amp2], new_tr[n2(:amp)])\n",
    "      @copy(old_tr[o(:amp)], bwd_prop_tr[:amp])\n",
    "      @write(bwd_prop_tr[:merge_tone], false, :disc)\n",
    "  else\n",
    "      @copy(fwd_prop_tr[:erb1], new_tr[n1(:erb)])\n",
    "      @copy(fwd_prop_tr[:erb2], new_tr[n2(:erb)])\n",
    "      @copy(old_tr[o(:erb)], bwd_prop_tr[:erb])\n",
    "      @write(bwd_prop_tr[:merge_tone], true, :disc)\n",
    "  end\n",
    "end"
   ]
  },
  {
   "cell_type": "code",
   "execution_count": null,
   "metadata": {},
   "outputs": [],
   "source": [
    "@gen function sample_merge(tr)\n",
    "  n_tones = tr[:kernel => :n_tones]\n",
    "  solo_idx ~ uniform_discrete(1, max(1, n_tones - 1))\n",
    "  tone_prob = tone_merge_possible(tr) ? (noise_merge_possible(tr) ? 0.5 : 1.) : 0.\n",
    "  merge_tone ~ bernoulli(tone_prob)\n",
    "  indices = merge_tone ? tone_indices(tr, n_tones) : noise_indices(tr, n_tones)\n",
    "  sorted = sort(indices, by=(idx -> tr[:world => :waves => AudioSource(idx) => :onset]))\n",
    "  deuce_idx1 ~ uniform_from_list(sorted[1:end-1])\n",
    "  list_idx1 = findall(x -> x == deuce_idx1, sorted)[1]\n",
    "  deuce_idx2 ~ uniform_from_list(sorted[list_idx1+1:end])\n",
    "\n",
    "  ch1 = get_submap(get_choices(tr), :world => :waves => AudioSource(deuce_idx1))\n",
    "  ch2 = get_submap(get_choices(tr), :world => :waves => AudioSource(deuce_idx2))\n",
    "  if !merge_tone\n",
    "    amp ~ normal((ch1[:amp] + ch2[:amp])/2, 0.5)\n",
    "  else\n",
    "    erb ~ normal((ch1[:erb] + ch2[:erb])/2, 0.5)\n",
    "  end\n",
    "end"
   ]
  },
  {
   "cell_type": "code",
   "execution_count": null,
   "metadata": {},
   "outputs": [],
   "source": [
    "@oupm_involution handle_merge(n_tones, to_idx, from_idx1, from_idx2) (old_tr, fwd_prop_tr) to (new_tr, bwd_prop_tr) begin\n",
    "  @merge(AudioSource(to_idx), from_idx1, from_idx2)\n",
    "  @write(new_tr[:kernel => :n_tones], n_tones - 1, :disc)\n",
    "  \n",
    "  n(x) = :world => :waves => AudioSource(to_idx) => x\n",
    "  o1(x) = :world => :waves => AudioSource(from_idx1) => x\n",
    "  o2(x) = :world => :waves => AudioSource(from_idx2) => x\n",
    "\n",
    "  # is_noise\n",
    "  @copy(old_tr[o1(:is_noise)], new_tr[n(:is_noise)])\n",
    "\n",
    "  # onset & duration\n",
    "  start1 = @read(old_tr[o1(:onset)], :cont)\n",
    "  dur1 = @read(old_tr[o1(:duration)], :cont)\n",
    "  start2 = @read(old_tr[o2(:onset)], :cont)\n",
    "  dur2 = @read(old_tr[o2(:duration)], :cont)\n",
    "  end2 = start2 + dur2\n",
    "  full_dur = (end2 - start1)\n",
    "  real_start = min(start1, start2)\n",
    "  \n",
    "  @copy(old_tr[o1(:onset)], new_tr[n(:onset)])\n",
    "  @write(new_tr[n(:duration)], full_dur, :cont)\n",
    "\n",
    "  @write(bwd_prop_tr[:dur1], dur1, :cont)\n",
    "  @write(bwd_prop_tr[:dur2], dur2, :cont)\n",
    "\n",
    "  # noise / tone parameters\n",
    "  if @read(old_tr[o1(:is_noise)], :disc)\n",
    "      @copy(old_tr[o1(:amp)], bwd_prop_tr[:amp1])\n",
    "      @copy(old_tr[o2(:amp)], bwd_prop_tr[:amp2])\n",
    "      @copy(fwd_prop_tr[:amp], new_tr[n(:amp)])\n",
    "  else\n",
    "      @copy(old_tr[o1(:erb)], bwd_prop_tr[:erb1])\n",
    "      @copy(old_tr[o2(:erb)], bwd_prop_tr[:erb2])\n",
    "      @copy(fwd_prop_tr[:erb], new_tr[n(:erb)])\n",
    "  end\n",
    "end"
   ]
  },
  {
   "cell_type": "code",
   "execution_count": null,
   "metadata": {},
   "outputs": [],
   "source": [
    "split_merge_kernel = OUPMMHKernel(split_merge_proposal, (), splitmerge_inv)\n",
    "function split_merge_iter(tr)\n",
    "  tr, acc = mh(tr, birth_death_kernel, check=false)\n",
    "  acc && println(\"birthdeath accepted\")\n",
    "  tr = generic_no_num_change_inference_iter(tr)\n",
    "  tr, acc = mh(tr, split_merge_kernel, check=false)\n",
    "  acc && println(\"splitmerge accepted\")\n",
    "  tr\n",
    "end"
   ]
  },
  {
   "cell_type": "code",
   "execution_count": null,
   "metadata": {},
   "outputs": [],
   "source": [
    "initial_tr = get_initial_tr(trr)\n",
    "get_score(initial_tr)"
   ]
  },
  {
   "cell_type": "code",
   "execution_count": null,
   "metadata": {},
   "outputs": [],
   "source": [
    "inferred_tr = run_inference(initial_tr, split_merge_iter, 200)\n",
    "println(\"Initial trace score: $(get_score(initial_tr))\")\n",
    "println(\"Inferred trace score: $(get_score(inferred_tr))\")"
   ]
  },
  {
   "cell_type": "code",
   "execution_count": null,
   "metadata": {},
   "outputs": [],
   "source": [
    "vis_and_write_wave(inferred_tr, \"splitmerge_inf.wav\")"
   ]
  },
  {
   "cell_type": "code",
   "execution_count": null,
   "metadata": {},
   "outputs": [],
   "source": []
  }
 ],
 "metadata": {
  "language_info": {
   "name": "python",
   "pygments_lexer": "ipython3"
  }
 },
 "nbformat": 4,
 "nbformat_minor": 2
}
