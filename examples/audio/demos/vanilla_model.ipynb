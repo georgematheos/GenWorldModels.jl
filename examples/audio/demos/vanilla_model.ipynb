{
 "cells": [
  {
   "cell_type": "markdown",
   "metadata": {},
   "source": [
    "### Import libraries & utils"
   ]
  },
  {
   "cell_type": "code",
   "execution_count": null,
   "metadata": {},
   "outputs": [],
   "source": [
    "using Gen"
   ]
  },
  {
   "cell_type": "code",
   "execution_count": null,
   "metadata": {},
   "outputs": [],
   "source": [
    "using WAV\n",
    "include(\"../tools/plotting.jl\")\n",
    "include(\"../model/gammatonegram.jl\");\n",
    "include(\"../model/time_helpers.jl\");\n",
    "include(\"../model/extra_distributions.jl\");"
   ]
  },
  {
   "cell_type": "markdown",
   "metadata": {},
   "source": [
    "### Get some default model parameters:"
   ]
  },
  {
   "cell_type": "code",
   "execution_count": null,
   "metadata": {},
   "outputs": [],
   "source": [
    "source_params, steps, gtg_params, obs_noise = include(\"../params/base.jl\")\n",
    "sr = 2000.0\n",
    "gtg_params[\"dB_threshold\"] = 0.0\n",
    "wts, = gtg_weights(sr, gtg_params);"
   ]
  },
  {
   "cell_type": "markdown",
   "metadata": {},
   "source": [
    "## Model"
   ]
  },
  {
   "cell_type": "markdown",
   "metadata": {},
   "source": [
    "### Embed a sound within a larger scene"
   ]
  },
  {
   "cell_type": "code",
   "execution_count": null,
   "metadata": {},
   "outputs": [],
   "source": [
    "function embed_in_scene(scene_length, sr, wave, onset)\n",
    "  n_samples = Int(floor(sr * scene_length))\n",
    "  scene_wave = zeros(n_samples)\n",
    "  sample_start = max(1, Int(floor(onset * sr)))\n",
    "  sample_finish = min(sample_start + length(wave), length(scene_wave))\n",
    "  scene_wave[sample_start:sample_finish-1] = wave[1:length(sample_start:sample_finish-1)]\n",
    "  return scene_wave\n",
    "end"
   ]
  },
  {
   "cell_type": "markdown",
   "metadata": {},
   "source": [
    "### Generate white noise sound"
   ]
  },
  {
   "cell_type": "code",
   "execution_count": null,
   "metadata": {},
   "outputs": [],
   "source": [
    "@gen function generate_single_noise(scene_length, steps, sr)\n",
    "  onset ~ uniform(0, scene_length)\n",
    "  duration ~ uniform(0.1, 1.0)\n",
    "  amp ~ normal(10.0, 8.0)\n",
    "  times, t, f = get_gp_spectrotemporal([onset, onset+duration], steps, sr)\n",
    "  noise_wave = generate_noise(transpose(reshape(fill(amp, length(times)), (length(f), length(t)))), duration, steps, sr, 1e-6)\n",
    "  return embed_in_scene(scene_length, sr, noise_wave, onset)\n",
    "end"
   ]
  },
  {
   "cell_type": "markdown",
   "metadata": {},
   "source": [
    "### Generate tone with pitch"
   ]
  },
  {
   "cell_type": "code",
   "execution_count": null,
   "metadata": {},
   "outputs": [],
   "source": [
    "@gen function generate_single_tone(scene_length, step_size, sr)\n",
    "  step_size = step_size[\"t\"]\n",
    "  erb ~ uniform(0.4, 37.0)\n",
    "  onset ~ uniform(0.0, scene_length)\n",
    "  duration ~ uniform(0.1, 1.0)\n",
    "  times = get_element_gp_times([onset, onset + duration], step_size)\n",
    "  wave = generate_tone(fill(erb, length(times)), fill(50.0, length(times)), duration, step_size, sr, 1.0e-6)\n",
    "  return embed_in_scene(scene_length, sr, wave, onset)\n",
    "end"
   ]
  },
  {
   "cell_type": "markdown",
   "metadata": {},
   "source": [
    "### Generate sound (tone or noise)"
   ]
  },
  {
   "cell_type": "code",
   "execution_count": null,
   "metadata": {},
   "outputs": [],
   "source": [
    "@gen function generate_single_sound(scene_length, steps, sr)\n",
    "    is_noise ~ bernoulli(0.4)\n",
    "    if is_noise\n",
    "        wave = {*} ~ generate_single_noise(scene_length, steps, sr)\n",
    "    else\n",
    "        wave = {*} ~ generate_single_tone(scene_length, steps, sr)\n",
    "    end\n",
    "    return wave\n",
    "end\n",
    "generate_sounds = Map(generate_single_sound);"
   ]
  },
  {
   "cell_type": "markdown",
   "metadata": {},
   "source": [
    "### Generate scene with multiple sounds"
   ]
  },
  {
   "cell_type": "code",
   "execution_count": null,
   "metadata": {},
   "outputs": [],
   "source": [
    "@gen (static) function generate_scene(scene_duration, wts, audio_sr, steps, gtg_params)\n",
    "  n_tones ~ uniform_discrete(1, 4)\n",
    "  \n",
    "  waves ~ generate_sounds(fill(scene_duration, n_tones), fill(steps, n_tones), fill(audio_sr, n_tones))\n",
    "  n_samples = Int(floor(scene_duration * audio_sr))\n",
    "  scene_wave = reduce(+, waves; init=zeros(n_samples))\n",
    "  scene_gram, = gammatonegram(scene_wave, wts, audio_sr, gtg_params)\n",
    "  scene ~ noisy_matrix(scene_gram, 1.0)\n",
    "  return scene_gram, scene_wave, waves\n",
    "end"
   ]
  },
  {
   "cell_type": "code",
   "execution_count": null,
   "metadata": {},
   "outputs": [],
   "source": [
    "@load_generated_functions()"
   ]
  },
  {
   "cell_type": "markdown",
   "metadata": {},
   "source": [
    "## Visualization and playback"
   ]
  },
  {
   "cell_type": "code",
   "execution_count": null,
   "metadata": {},
   "outputs": [],
   "source": [
    "function vis_and_write_wave(tr, title)\n",
    "  duration, _, sr, = get_args(tr)\n",
    "  gram, scene_wave, = get_retval(tr)\n",
    "  wavwrite(scene_wave/maximum(abs.(scene_wave)), title, Fs=sr)\n",
    "  plot_gtg(gram, duration, sr, 0, 100)\n",
    "end"
   ]
  },
  {
   "cell_type": "markdown",
   "metadata": {},
   "source": [
    "Some default arguments to `generate_scene`:"
   ]
  },
  {
   "cell_type": "code",
   "execution_count": null,
   "metadata": {},
   "outputs": [],
   "source": [
    "args = (2.0, wts, sr, steps, gtg_params);"
   ]
  },
  {
   "cell_type": "markdown",
   "metadata": {},
   "source": [
    "Generate & visualize a trace:"
   ]
  },
  {
   "cell_type": "code",
   "execution_count": null,
   "metadata": {},
   "outputs": [],
   "source": [
    "tr = simulate(generate_scene, args);\n",
    "vis_and_write_wave(tr, \"simulated_scene.wav\")"
   ]
  },
  {
   "cell_type": "code",
   "execution_count": null,
   "metadata": {},
   "outputs": [],
   "source": [
    "; afplay simulated_scene.wav"
   ]
  },
  {
   "cell_type": "markdown",
   "metadata": {},
   "source": [
    "### Generate Auditory Illusion"
   ]
  },
  {
   "cell_type": "code",
   "execution_count": null,
   "metadata": {},
   "outputs": [],
   "source": [
    "function tones_with_noise(amp)\n",
    "    cm = choicemap(:n_tones => 3,\n",
    "              (:waves => 1 => :is_noise) => false,\n",
    "              (:waves => 1 => :erb) => 10.0,\n",
    "              (:waves => 1 => :onset) => 0.5,\n",
    "              (:waves => 1 => :duration) => 0.3,\n",
    "              (:waves => 2 => :is_noise) => false,\n",
    "              (:waves => 2 => :erb) => 10.0,\n",
    "              (:waves => 2 => :onset) => 1.1,\n",
    "              (:waves => 2 => :duration) => 0.3,\n",
    "              (:waves => 3 => :is_noise) => true,\n",
    "              (:waves => 3 => :amp) => amp,\n",
    "              (:waves => 3 => :onset) => 0.8,\n",
    "              (:waves => 3 => :duration) => 0.3)\n",
    "    tr, = generate(generate_scene, args, cm)\n",
    "    return tr\n",
    "end"
   ]
  },
  {
   "cell_type": "code",
   "execution_count": null,
   "metadata": {},
   "outputs": [],
   "source": [
    "trr = tones_with_noise(10.0);\n",
    "get_score(trr);"
   ]
  },
  {
   "cell_type": "code",
   "execution_count": null,
   "metadata": {},
   "outputs": [],
   "source": [
    "vis_and_write_wave(trr, \"trr.wav\")"
   ]
  },
  {
   "cell_type": "code",
   "execution_count": null,
   "metadata": {},
   "outputs": [],
   "source": [
    "; afplay trr.wav"
   ]
  },
  {
   "cell_type": "markdown",
   "metadata": {},
   "source": [
    "## Generic Inference"
   ]
  },
  {
   "cell_type": "code",
   "execution_count": null,
   "metadata": {},
   "outputs": [],
   "source": [
    "function do_generic_inference(tr, iters)\n",
    "  for i=1:iters\n",
    "    for j=1:tr[:n_tones]\n",
    "        tr, = mh(tr, select(:waves => j))\n",
    "        if tr[:waves => j => :is_noise]\n",
    "          tr, = mh(tr, select(:waves => j => :amp))\n",
    "        else\n",
    "          tr, = mh(tr, select(:waves => j => :erb))\n",
    "        end\n",
    "        if bernoulli(0.5)\n",
    "          tr, = mh(tr, select(:waves => j => :onset, :waves => j => :duration))\n",
    "        else\n",
    "          tr, = mh(tr, select(:waves => j => :onset))\n",
    "          tr, = mh(tr, select(:waves => j => :duration))\n",
    "        end\n",
    "      end\n",
    "    tr, = mh(tr, select(:n_tones))\n",
    "  end\n",
    "  tr\n",
    "end"
   ]
  },
  {
   "cell_type": "markdown",
   "metadata": {},
   "source": [
    "### Run generic inference on audio illusion"
   ]
  },
  {
   "cell_type": "markdown",
   "metadata": {},
   "source": [
    "Generate a random trace where the observations are the same as the ground truth:"
   ]
  },
  {
   "cell_type": "code",
   "execution_count": null,
   "metadata": {},
   "outputs": [],
   "source": [
    "observations = choicemap(:scene => trr[:scene])\n",
    "initial_tr, = generate(generate_scene, args, observations);"
   ]
  },
  {
   "cell_type": "markdown",
   "metadata": {},
   "source": [
    "Run 100 inference iterations:"
   ]
  },
  {
   "cell_type": "code",
   "execution_count": null,
   "metadata": {},
   "outputs": [],
   "source": [
    "inferred_tr = do_generic_inference(initial_tr, 200);\n",
    "get_score(inferred_tr)"
   ]
  },
  {
   "cell_type": "code",
   "execution_count": null,
   "metadata": {},
   "outputs": [],
   "source": [
    "vis_and_write_wave(inferred_tr, \"inferred.wav\")"
   ]
  },
  {
   "cell_type": "markdown",
   "metadata": {},
   "source": [
    "### Birth/death Inference"
   ]
  },
  {
   "cell_type": "markdown",
   "metadata": {},
   "source": [
    "Proposal distribution:"
   ]
  },
  {
   "cell_type": "code",
   "execution_count": null,
   "metadata": {},
   "outputs": [],
   "source": [
    "@gen function birth_death_proposal(tr)\n",
    "    do_birth ~ bernoulli(0.5)\n",
    "    if do_birth\n",
    "        idx ~ uniform_discrete(1, tr[:kernel => :n_tones] + 1)\n",
    "    else\n",
    "        idx ~ uniform_discrete(1, tr[:kernel => :n_tones])\n",
    "    end\n",
    "end"
   ]
  },
  {
   "cell_type": "code",
   "execution_count": null,
   "metadata": {},
   "outputs": [],
   "source": [
    "@transform (x, y) to (x_new, y_reverse) begin\n",
    "  do_birth = @read(fwd_prop_tr[:do_birth], :disc)\n",
    "  idx = @read(fwd_prop_tr[:idx], :disc)\n",
    "  num = @read(old_tr[:kernel => :n_tones], :disc)\n",
    "  if do_birth\n",
    "    # increase the number of tones:\n",
    "    @write(x_new[:n_tones], old_num + 1, :disc)\n",
    "    \n",
    "    # copy parameters for old tones up to a new index\n",
    "    # problem: THIS IS SLOW!\n",
    "    for i=new_idx:old_num\n",
    "      @copy(x[:waves => i], x[:waves => i+1])\n",
    "    end\n",
    "    \n",
    "    # generate a new tone at the new index\n",
    "    @regenerate(:waves => new_idx)\n",
    "  else\n",
    "    # decrease the number of tones:\n",
    "    @write(x_new[:n_tones], old_num - 1, :disc)\n",
    "    \n",
    "    # copy parameters for old tones up to a new index\n",
    "    for i=(death_idx+1):old_num\n",
    "      @copy(x[:waves => i], x[:waves => i-1])\n",
    "    end\n",
    "    \n",
    "    # \"save the old sound to the reverse proposal\"\n",
    "    @save_for_reverse_regenerate(:waves => new_idx)\n",
    "  end\n",
    "  \n",
    "  # reverse move:\n",
    "  @write(bwd_prop_tr[:do_birth], !do_birth, :disc)\n",
    "  @write(bwd_prop_tr[:idx], idx, :disc)\n",
    "end"
   ]
  },
  {
   "cell_type": "code",
   "execution_count": null,
   "metadata": {},
   "outputs": [],
   "source": []
  }
 ],
 "metadata": {
  "language_info": {
   "name": "python",
   "pygments_lexer": "ipython3"
  }
 },
 "nbformat": 4,
 "nbformat_minor": 2
}
